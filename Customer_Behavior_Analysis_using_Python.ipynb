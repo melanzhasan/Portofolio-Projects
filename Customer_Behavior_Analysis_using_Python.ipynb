{
  "cells": [
    {
      "cell_type": "markdown",
      "metadata": {
        "id": "FeLFH0WXv8Cl"
      },
      "source": [
        "Analysis of customer behavior is essential for any company seeking to understand its ideal customer base. This process not only enhances a business's comprehension of its clientele but also streamlines the customization of products to align with the distinct needs, behaviors, and concerns of various customer segments.\n",
        "\n",
        "Within our current dataset comprising information from 2240 customers, we've collected data on crucial aspects such as educational level, marital status, year of birth, expenditure on our products, and purchase modes over the past two years. The focus of our investigation lies in unraveling the factors influencing customer spending patterns. This exploration involves addressing pivotal questions, including identifying the most favored purchasing modes among customers and delving into the impact of educational level, age range, and marital status on expenditures. Furthermore, our analysis extends to understanding the types of products that customers are most inclined to purchase."
      ]
    },
    {
      "cell_type": "code",
      "execution_count": null,
      "metadata": {
        "id": "XFdBnANbvqN4",
        "colab": {
          "base_uri": "https://localhost:8080/",
          "height": 1000
        },
        "outputId": "672bc2d0-a938-4bad-b7fd-61ae84420c30"
      },
      "outputs": [
        {
          "output_type": "stream",
          "name": "stdout",
          "text": [
            "Collecting skimpy\n",
            "  Downloading skimpy-0.0.11-py3-none-any.whl (16 kB)\n",
            "Requirement already satisfied: Pygments<3.0.0,>=2.10.0 in /usr/local/lib/python3.10/dist-packages (from skimpy) (2.16.1)\n",
            "Requirement already satisfied: click<9.0.0,>=8.1.6 in /usr/local/lib/python3.10/dist-packages (from skimpy) (8.1.7)\n",
            "Collecting ipykernel<7.0.0,>=6.7.0 (from skimpy)\n",
            "  Downloading ipykernel-6.26.0-py3-none-any.whl (114 kB)\n",
            "\u001b[2K     \u001b[90m━━━━━━━━━━━━━━━━━━━━━━━━━━━━━━━━━━━━━━━━\u001b[0m \u001b[32m114.3/114.3 kB\u001b[0m \u001b[31m3.4 MB/s\u001b[0m eta \u001b[36m0:00:00\u001b[0m\n",
            "\u001b[?25hCollecting jupyter<2.0.0,>=1.0.0 (from skimpy)\n",
            "  Downloading jupyter-1.0.0-py2.py3-none-any.whl (2.7 kB)\n",
            "Requirement already satisfied: numpy<2.0.0,>=1.22.2 in /usr/local/lib/python3.10/dist-packages (from skimpy) (1.23.5)\n",
            "Collecting pandas<3.0.0,>=2.0.3 (from skimpy)\n",
            "  Downloading pandas-2.1.3-cp310-cp310-manylinux_2_17_x86_64.manylinux2014_x86_64.whl (12.3 MB)\n",
            "\u001b[2K     \u001b[90m━━━━━━━━━━━━━━━━━━━━━━━━━━━━━━━━━━━━━━━━\u001b[0m \u001b[32m12.3/12.3 MB\u001b[0m \u001b[31m28.4 MB/s\u001b[0m eta \u001b[36m0:00:00\u001b[0m\n",
            "\u001b[?25hCollecting polars<0.20.0,>=0.19.0 (from skimpy)\n",
            "  Downloading polars-0.19.13-cp38-abi3-manylinux_2_28_x86_64.whl (28.2 MB)\n",
            "\u001b[2K     \u001b[90m━━━━━━━━━━━━━━━━━━━━━━━━━━━━━━━━━━━━━━━━\u001b[0m \u001b[32m28.2/28.2 MB\u001b[0m \u001b[31m50.9 MB/s\u001b[0m eta \u001b[36m0:00:00\u001b[0m\n",
            "\u001b[?25hCollecting pyarrow<14.0.0,>=13.0.0 (from skimpy)\n",
            "  Downloading pyarrow-13.0.0-cp310-cp310-manylinux_2_28_x86_64.whl (40.0 MB)\n",
            "\u001b[2K     \u001b[90m━━━━━━━━━━━━━━━━━━━━━━━━━━━━━━━━━━━━━━━━\u001b[0m \u001b[32m40.0/40.0 MB\u001b[0m \u001b[31m15.0 MB/s\u001b[0m eta \u001b[36m0:00:00\u001b[0m\n",
            "\u001b[?25hRequirement already satisfied: rich<14.0,>=10.9 in /usr/local/lib/python3.10/dist-packages (from skimpy) (13.6.0)\n",
            "Collecting typeguard==4.1.4 (from skimpy)\n",
            "  Downloading typeguard-4.1.4-py3-none-any.whl (34 kB)\n",
            "Collecting typing-extensions>=4.7.0 (from typeguard==4.1.4->skimpy)\n",
            "  Downloading typing_extensions-4.8.0-py3-none-any.whl (31 kB)\n",
            "Collecting comm>=0.1.1 (from ipykernel<7.0.0,>=6.7.0->skimpy)\n",
            "  Downloading comm-0.2.0-py3-none-any.whl (7.0 kB)\n",
            "Requirement already satisfied: debugpy>=1.6.5 in /usr/local/lib/python3.10/dist-packages (from ipykernel<7.0.0,>=6.7.0->skimpy) (1.6.6)\n",
            "Requirement already satisfied: ipython>=7.23.1 in /usr/local/lib/python3.10/dist-packages (from ipykernel<7.0.0,>=6.7.0->skimpy) (7.34.0)\n",
            "Requirement already satisfied: jupyter-client>=6.1.12 in /usr/local/lib/python3.10/dist-packages (from ipykernel<7.0.0,>=6.7.0->skimpy) (6.1.12)\n",
            "Requirement already satisfied: jupyter-core!=5.0.*,>=4.12 in /usr/local/lib/python3.10/dist-packages (from ipykernel<7.0.0,>=6.7.0->skimpy) (5.5.0)\n",
            "Requirement already satisfied: matplotlib-inline>=0.1 in /usr/local/lib/python3.10/dist-packages (from ipykernel<7.0.0,>=6.7.0->skimpy) (0.1.6)\n",
            "Requirement already satisfied: nest-asyncio in /usr/local/lib/python3.10/dist-packages (from ipykernel<7.0.0,>=6.7.0->skimpy) (1.5.8)\n",
            "Requirement already satisfied: packaging in /usr/local/lib/python3.10/dist-packages (from ipykernel<7.0.0,>=6.7.0->skimpy) (23.2)\n",
            "Requirement already satisfied: psutil in /usr/local/lib/python3.10/dist-packages (from ipykernel<7.0.0,>=6.7.0->skimpy) (5.9.5)\n",
            "Requirement already satisfied: pyzmq>=20 in /usr/local/lib/python3.10/dist-packages (from ipykernel<7.0.0,>=6.7.0->skimpy) (23.2.1)\n",
            "Requirement already satisfied: tornado>=6.1 in /usr/local/lib/python3.10/dist-packages (from ipykernel<7.0.0,>=6.7.0->skimpy) (6.3.2)\n",
            "Requirement already satisfied: traitlets>=5.4.0 in /usr/local/lib/python3.10/dist-packages (from ipykernel<7.0.0,>=6.7.0->skimpy) (5.7.1)\n",
            "Requirement already satisfied: notebook in /usr/local/lib/python3.10/dist-packages (from jupyter<2.0.0,>=1.0.0->skimpy) (6.5.5)\n",
            "Collecting qtconsole (from jupyter<2.0.0,>=1.0.0->skimpy)\n",
            "  Downloading qtconsole-5.5.0-py3-none-any.whl (123 kB)\n",
            "\u001b[2K     \u001b[90m━━━━━━━━━━━━━━━━━━━━━━━━━━━━━━━━━━━━━━━━\u001b[0m \u001b[32m123.4/123.4 kB\u001b[0m \u001b[31m16.4 MB/s\u001b[0m eta \u001b[36m0:00:00\u001b[0m\n",
            "\u001b[?25hRequirement already satisfied: jupyter-console in /usr/local/lib/python3.10/dist-packages (from jupyter<2.0.0,>=1.0.0->skimpy) (6.1.0)\n",
            "Requirement already satisfied: nbconvert in /usr/local/lib/python3.10/dist-packages (from jupyter<2.0.0,>=1.0.0->skimpy) (6.5.4)\n",
            "Requirement already satisfied: ipywidgets in /usr/local/lib/python3.10/dist-packages (from jupyter<2.0.0,>=1.0.0->skimpy) (7.7.1)\n",
            "Requirement already satisfied: python-dateutil>=2.8.2 in /usr/local/lib/python3.10/dist-packages (from pandas<3.0.0,>=2.0.3->skimpy) (2.8.2)\n",
            "Requirement already satisfied: pytz>=2020.1 in /usr/local/lib/python3.10/dist-packages (from pandas<3.0.0,>=2.0.3->skimpy) (2023.3.post1)\n",
            "Collecting tzdata>=2022.1 (from pandas<3.0.0,>=2.0.3->skimpy)\n",
            "  Downloading tzdata-2023.3-py2.py3-none-any.whl (341 kB)\n",
            "\u001b[2K     \u001b[90m━━━━━━━━━━━━━━━━━━━━━━━━━━━━━━━━━━━━━━━━\u001b[0m \u001b[32m341.8/341.8 kB\u001b[0m \u001b[31m35.1 MB/s\u001b[0m eta \u001b[36m0:00:00\u001b[0m\n",
            "\u001b[?25hRequirement already satisfied: markdown-it-py>=2.2.0 in /usr/local/lib/python3.10/dist-packages (from rich<14.0,>=10.9->skimpy) (3.0.0)\n",
            "Requirement already satisfied: setuptools>=18.5 in /usr/local/lib/python3.10/dist-packages (from ipython>=7.23.1->ipykernel<7.0.0,>=6.7.0->skimpy) (67.7.2)\n",
            "Collecting jedi>=0.16 (from ipython>=7.23.1->ipykernel<7.0.0,>=6.7.0->skimpy)\n",
            "  Downloading jedi-0.19.1-py2.py3-none-any.whl (1.6 MB)\n",
            "\u001b[2K     \u001b[90m━━━━━━━━━━━━━━━━━━━━━━━━━━━━━━━━━━━━━━━━\u001b[0m \u001b[32m1.6/1.6 MB\u001b[0m \u001b[31m76.1 MB/s\u001b[0m eta \u001b[36m0:00:00\u001b[0m\n",
            "\u001b[?25hRequirement already satisfied: decorator in /usr/local/lib/python3.10/dist-packages (from ipython>=7.23.1->ipykernel<7.0.0,>=6.7.0->skimpy) (4.4.2)\n",
            "Requirement already satisfied: pickleshare in /usr/local/lib/python3.10/dist-packages (from ipython>=7.23.1->ipykernel<7.0.0,>=6.7.0->skimpy) (0.7.5)\n",
            "Requirement already satisfied: prompt-toolkit!=3.0.0,!=3.0.1,<3.1.0,>=2.0.0 in /usr/local/lib/python3.10/dist-packages (from ipython>=7.23.1->ipykernel<7.0.0,>=6.7.0->skimpy) (3.0.39)\n",
            "Requirement already satisfied: backcall in /usr/local/lib/python3.10/dist-packages (from ipython>=7.23.1->ipykernel<7.0.0,>=6.7.0->skimpy) (0.2.0)\n",
            "Requirement already satisfied: pexpect>4.3 in /usr/local/lib/python3.10/dist-packages (from ipython>=7.23.1->ipykernel<7.0.0,>=6.7.0->skimpy) (4.8.0)\n",
            "Requirement already satisfied: platformdirs>=2.5 in /usr/local/lib/python3.10/dist-packages (from jupyter-core!=5.0.*,>=4.12->ipykernel<7.0.0,>=6.7.0->skimpy) (3.11.0)\n",
            "Requirement already satisfied: mdurl~=0.1 in /usr/local/lib/python3.10/dist-packages (from markdown-it-py>=2.2.0->rich<14.0,>=10.9->skimpy) (0.1.2)\n",
            "Requirement already satisfied: six>=1.5 in /usr/local/lib/python3.10/dist-packages (from python-dateutil>=2.8.2->pandas<3.0.0,>=2.0.3->skimpy) (1.16.0)\n",
            "Requirement already satisfied: ipython-genutils~=0.2.0 in /usr/local/lib/python3.10/dist-packages (from ipywidgets->jupyter<2.0.0,>=1.0.0->skimpy) (0.2.0)\n",
            "Requirement already satisfied: widgetsnbextension~=3.6.0 in /usr/local/lib/python3.10/dist-packages (from ipywidgets->jupyter<2.0.0,>=1.0.0->skimpy) (3.6.6)\n",
            "Requirement already satisfied: jupyterlab-widgets>=1.0.0 in /usr/local/lib/python3.10/dist-packages (from ipywidgets->jupyter<2.0.0,>=1.0.0->skimpy) (3.0.9)\n",
            "Requirement already satisfied: lxml in /usr/local/lib/python3.10/dist-packages (from nbconvert->jupyter<2.0.0,>=1.0.0->skimpy) (4.9.3)\n",
            "Requirement already satisfied: beautifulsoup4 in /usr/local/lib/python3.10/dist-packages (from nbconvert->jupyter<2.0.0,>=1.0.0->skimpy) (4.11.2)\n",
            "Requirement already satisfied: bleach in /usr/local/lib/python3.10/dist-packages (from nbconvert->jupyter<2.0.0,>=1.0.0->skimpy) (6.1.0)\n",
            "Requirement already satisfied: defusedxml in /usr/local/lib/python3.10/dist-packages (from nbconvert->jupyter<2.0.0,>=1.0.0->skimpy) (0.7.1)\n",
            "Requirement already satisfied: entrypoints>=0.2.2 in /usr/local/lib/python3.10/dist-packages (from nbconvert->jupyter<2.0.0,>=1.0.0->skimpy) (0.4)\n",
            "Requirement already satisfied: jinja2>=3.0 in /usr/local/lib/python3.10/dist-packages (from nbconvert->jupyter<2.0.0,>=1.0.0->skimpy) (3.1.2)\n",
            "Requirement already satisfied: jupyterlab-pygments in /usr/local/lib/python3.10/dist-packages (from nbconvert->jupyter<2.0.0,>=1.0.0->skimpy) (0.2.2)\n",
            "Requirement already satisfied: MarkupSafe>=2.0 in /usr/local/lib/python3.10/dist-packages (from nbconvert->jupyter<2.0.0,>=1.0.0->skimpy) (2.1.3)\n",
            "Requirement already satisfied: mistune<2,>=0.8.1 in /usr/local/lib/python3.10/dist-packages (from nbconvert->jupyter<2.0.0,>=1.0.0->skimpy) (0.8.4)\n",
            "Requirement already satisfied: nbclient>=0.5.0 in /usr/local/lib/python3.10/dist-packages (from nbconvert->jupyter<2.0.0,>=1.0.0->skimpy) (0.9.0)\n",
            "Requirement already satisfied: nbformat>=5.1 in /usr/local/lib/python3.10/dist-packages (from nbconvert->jupyter<2.0.0,>=1.0.0->skimpy) (5.9.2)\n",
            "Requirement already satisfied: pandocfilters>=1.4.1 in /usr/local/lib/python3.10/dist-packages (from nbconvert->jupyter<2.0.0,>=1.0.0->skimpy) (1.5.0)\n",
            "Requirement already satisfied: tinycss2 in /usr/local/lib/python3.10/dist-packages (from nbconvert->jupyter<2.0.0,>=1.0.0->skimpy) (1.2.1)\n",
            "Requirement already satisfied: argon2-cffi in /usr/local/lib/python3.10/dist-packages (from notebook->jupyter<2.0.0,>=1.0.0->skimpy) (23.1.0)\n",
            "Requirement already satisfied: Send2Trash>=1.8.0 in /usr/local/lib/python3.10/dist-packages (from notebook->jupyter<2.0.0,>=1.0.0->skimpy) (1.8.2)\n",
            "Requirement already satisfied: terminado>=0.8.3 in /usr/local/lib/python3.10/dist-packages (from notebook->jupyter<2.0.0,>=1.0.0->skimpy) (0.17.1)\n",
            "Requirement already satisfied: prometheus-client in /usr/local/lib/python3.10/dist-packages (from notebook->jupyter<2.0.0,>=1.0.0->skimpy) (0.18.0)\n",
            "Requirement already satisfied: nbclassic>=0.4.7 in /usr/local/lib/python3.10/dist-packages (from notebook->jupyter<2.0.0,>=1.0.0->skimpy) (1.0.0)\n",
            "Collecting qtpy>=2.4.0 (from qtconsole->jupyter<2.0.0,>=1.0.0->skimpy)\n",
            "  Downloading QtPy-2.4.1-py3-none-any.whl (93 kB)\n",
            "\u001b[2K     \u001b[90m━━━━━━━━━━━━━━━━━━━━━━━━━━━━━━━━━━━━━━━━\u001b[0m \u001b[32m93.5/93.5 kB\u001b[0m \u001b[31m13.4 MB/s\u001b[0m eta \u001b[36m0:00:00\u001b[0m\n",
            "\u001b[?25hRequirement already satisfied: parso<0.9.0,>=0.8.3 in /usr/local/lib/python3.10/dist-packages (from jedi>=0.16->ipython>=7.23.1->ipykernel<7.0.0,>=6.7.0->skimpy) (0.8.3)\n",
            "Requirement already satisfied: jupyter-server>=1.8 in /usr/local/lib/python3.10/dist-packages (from nbclassic>=0.4.7->notebook->jupyter<2.0.0,>=1.0.0->skimpy) (1.24.0)\n",
            "Requirement already satisfied: notebook-shim>=0.2.3 in /usr/local/lib/python3.10/dist-packages (from nbclassic>=0.4.7->notebook->jupyter<2.0.0,>=1.0.0->skimpy) (0.2.3)\n",
            "Requirement already satisfied: fastjsonschema in /usr/local/lib/python3.10/dist-packages (from nbformat>=5.1->nbconvert->jupyter<2.0.0,>=1.0.0->skimpy) (2.18.1)\n",
            "Requirement already satisfied: jsonschema>=2.6 in /usr/local/lib/python3.10/dist-packages (from nbformat>=5.1->nbconvert->jupyter<2.0.0,>=1.0.0->skimpy) (4.19.2)\n",
            "Requirement already satisfied: ptyprocess>=0.5 in /usr/local/lib/python3.10/dist-packages (from pexpect>4.3->ipython>=7.23.1->ipykernel<7.0.0,>=6.7.0->skimpy) (0.7.0)\n",
            "Requirement already satisfied: wcwidth in /usr/local/lib/python3.10/dist-packages (from prompt-toolkit!=3.0.0,!=3.0.1,<3.1.0,>=2.0.0->ipython>=7.23.1->ipykernel<7.0.0,>=6.7.0->skimpy) (0.2.9)\n",
            "Requirement already satisfied: argon2-cffi-bindings in /usr/local/lib/python3.10/dist-packages (from argon2-cffi->notebook->jupyter<2.0.0,>=1.0.0->skimpy) (21.2.0)\n",
            "Requirement already satisfied: soupsieve>1.2 in /usr/local/lib/python3.10/dist-packages (from beautifulsoup4->nbconvert->jupyter<2.0.0,>=1.0.0->skimpy) (2.5)\n",
            "Requirement already satisfied: webencodings in /usr/local/lib/python3.10/dist-packages (from bleach->nbconvert->jupyter<2.0.0,>=1.0.0->skimpy) (0.5.1)\n",
            "Requirement already satisfied: attrs>=22.2.0 in /usr/local/lib/python3.10/dist-packages (from jsonschema>=2.6->nbformat>=5.1->nbconvert->jupyter<2.0.0,>=1.0.0->skimpy) (23.1.0)\n",
            "Requirement already satisfied: jsonschema-specifications>=2023.03.6 in /usr/local/lib/python3.10/dist-packages (from jsonschema>=2.6->nbformat>=5.1->nbconvert->jupyter<2.0.0,>=1.0.0->skimpy) (2023.7.1)\n",
            "Requirement already satisfied: referencing>=0.28.4 in /usr/local/lib/python3.10/dist-packages (from jsonschema>=2.6->nbformat>=5.1->nbconvert->jupyter<2.0.0,>=1.0.0->skimpy) (0.30.2)\n",
            "Requirement already satisfied: rpds-py>=0.7.1 in /usr/local/lib/python3.10/dist-packages (from jsonschema>=2.6->nbformat>=5.1->nbconvert->jupyter<2.0.0,>=1.0.0->skimpy) (0.12.0)\n",
            "Requirement already satisfied: anyio<4,>=3.1.0 in /usr/local/lib/python3.10/dist-packages (from jupyter-server>=1.8->nbclassic>=0.4.7->notebook->jupyter<2.0.0,>=1.0.0->skimpy) (3.7.1)\n",
            "Requirement already satisfied: websocket-client in /usr/local/lib/python3.10/dist-packages (from jupyter-server>=1.8->nbclassic>=0.4.7->notebook->jupyter<2.0.0,>=1.0.0->skimpy) (1.6.4)\n",
            "Requirement already satisfied: cffi>=1.0.1 in /usr/local/lib/python3.10/dist-packages (from argon2-cffi-bindings->argon2-cffi->notebook->jupyter<2.0.0,>=1.0.0->skimpy) (1.16.0)\n",
            "Requirement already satisfied: idna>=2.8 in /usr/local/lib/python3.10/dist-packages (from anyio<4,>=3.1.0->jupyter-server>=1.8->nbclassic>=0.4.7->notebook->jupyter<2.0.0,>=1.0.0->skimpy) (3.4)\n",
            "Requirement already satisfied: sniffio>=1.1 in /usr/local/lib/python3.10/dist-packages (from anyio<4,>=3.1.0->jupyter-server>=1.8->nbclassic>=0.4.7->notebook->jupyter<2.0.0,>=1.0.0->skimpy) (1.3.0)\n",
            "Requirement already satisfied: exceptiongroup in /usr/local/lib/python3.10/dist-packages (from anyio<4,>=3.1.0->jupyter-server>=1.8->nbclassic>=0.4.7->notebook->jupyter<2.0.0,>=1.0.0->skimpy) (1.1.3)\n",
            "Requirement already satisfied: pycparser in /usr/local/lib/python3.10/dist-packages (from cffi>=1.0.1->argon2-cffi-bindings->argon2-cffi->notebook->jupyter<2.0.0,>=1.0.0->skimpy) (2.21)\n",
            "Installing collected packages: tzdata, typing-extensions, qtpy, pyarrow, polars, jedi, comm, typeguard, pandas, ipykernel, qtconsole, jupyter, skimpy\n",
            "  Attempting uninstall: typing-extensions\n",
            "    Found existing installation: typing_extensions 4.5.0\n",
            "    Uninstalling typing_extensions-4.5.0:\n",
            "      Successfully uninstalled typing_extensions-4.5.0\n",
            "  Attempting uninstall: pyarrow\n",
            "    Found existing installation: pyarrow 9.0.0\n",
            "    Uninstalling pyarrow-9.0.0:\n",
            "      Successfully uninstalled pyarrow-9.0.0\n",
            "  Attempting uninstall: polars\n",
            "    Found existing installation: polars 0.17.3\n",
            "    Uninstalling polars-0.17.3:\n",
            "      Successfully uninstalled polars-0.17.3\n",
            "  Attempting uninstall: pandas\n",
            "    Found existing installation: pandas 1.5.3\n",
            "    Uninstalling pandas-1.5.3:\n",
            "      Successfully uninstalled pandas-1.5.3\n",
            "  Attempting uninstall: ipykernel\n",
            "    Found existing installation: ipykernel 5.5.6\n",
            "    Uninstalling ipykernel-5.5.6:\n",
            "      Successfully uninstalled ipykernel-5.5.6\n",
            "\u001b[31mERROR: pip's dependency resolver does not currently take into account all the packages that are installed. This behaviour is the source of the following dependency conflicts.\n",
            "lida 0.0.10 requires fastapi, which is not installed.\n",
            "lida 0.0.10 requires kaleido, which is not installed.\n",
            "lida 0.0.10 requires python-multipart, which is not installed.\n",
            "lida 0.0.10 requires uvicorn, which is not installed.\n",
            "google-colab 1.0.0 requires ipykernel==5.5.6, but you have ipykernel 6.26.0 which is incompatible.\n",
            "google-colab 1.0.0 requires pandas==1.5.3, but you have pandas 2.1.3 which is incompatible.\n",
            "ibis-framework 6.2.0 requires pyarrow<13,>=2, but you have pyarrow 13.0.0 which is incompatible.\n",
            "pandas-gbq 0.17.9 requires pyarrow<10.0dev,>=3.0.0, but you have pyarrow 13.0.0 which is incompatible.\n",
            "tensorflow-probability 0.22.0 requires typing-extensions<4.6.0, but you have typing-extensions 4.8.0 which is incompatible.\u001b[0m\u001b[31m\n",
            "\u001b[0mSuccessfully installed comm-0.2.0 ipykernel-6.26.0 jedi-0.19.1 jupyter-1.0.0 pandas-2.1.3 polars-0.19.13 pyarrow-13.0.0 qtconsole-5.5.0 qtpy-2.4.1 skimpy-0.0.11 typeguard-4.1.4 typing-extensions-4.8.0 tzdata-2023.3\n"
          ]
        },
        {
          "output_type": "display_data",
          "data": {
            "application/vnd.colab-display-data+json": {
              "pip_warning": {
                "packages": [
                  "pyarrow"
                ]
              }
            }
          },
          "metadata": {}
        },
        {
          "output_type": "stream",
          "name": "stdout",
          "text": [
            "Collecting pingouin\n",
            "  Downloading pingouin-0.5.3-py3-none-any.whl (198 kB)\n",
            "\u001b[?25l     \u001b[90m━━━━━━━━━━━━━━━━━━━━━━━━━━━━━━━━━━━━━━━━\u001b[0m \u001b[32m0.0/198.6 kB\u001b[0m \u001b[31m?\u001b[0m eta \u001b[36m-:--:--\u001b[0m\r\u001b[2K     \u001b[91m━━━━━━━━━━━━━━\u001b[0m\u001b[90m╺\u001b[0m\u001b[90m━━━━━━━━━━━━━━━━━━━━━━━━━\u001b[0m \u001b[32m71.7/198.6 kB\u001b[0m \u001b[31m2.0 MB/s\u001b[0m eta \u001b[36m0:00:01\u001b[0m\r\u001b[2K     \u001b[90m━━━━━━━━━━━━━━━━━━━━━━━━━━━━━━━━━━━━━━━━\u001b[0m \u001b[32m198.6/198.6 kB\u001b[0m \u001b[31m3.4 MB/s\u001b[0m eta \u001b[36m0:00:00\u001b[0m\n",
            "\u001b[?25hRequirement already satisfied: numpy>=1.19 in /usr/local/lib/python3.10/dist-packages (from pingouin) (1.23.5)\n",
            "Requirement already satisfied: scipy>=1.7 in /usr/local/lib/python3.10/dist-packages (from pingouin) (1.11.3)\n",
            "Requirement already satisfied: pandas>=1.0 in /usr/local/lib/python3.10/dist-packages (from pingouin) (2.1.3)\n",
            "Requirement already satisfied: matplotlib>=3.0.2 in /usr/local/lib/python3.10/dist-packages (from pingouin) (3.7.1)\n",
            "Requirement already satisfied: seaborn>=0.11 in /usr/local/lib/python3.10/dist-packages (from pingouin) (0.12.2)\n",
            "Requirement already satisfied: statsmodels>=0.13 in /usr/local/lib/python3.10/dist-packages (from pingouin) (0.14.0)\n",
            "Requirement already satisfied: scikit-learn in /usr/local/lib/python3.10/dist-packages (from pingouin) (1.2.2)\n",
            "Collecting pandas-flavor>=0.2.0 (from pingouin)\n",
            "  Downloading pandas_flavor-0.6.0-py3-none-any.whl (7.2 kB)\n",
            "Collecting outdated (from pingouin)\n",
            "  Downloading outdated-0.2.2-py2.py3-none-any.whl (7.5 kB)\n",
            "Requirement already satisfied: tabulate in /usr/local/lib/python3.10/dist-packages (from pingouin) (0.9.0)\n",
            "Requirement already satisfied: contourpy>=1.0.1 in /usr/local/lib/python3.10/dist-packages (from matplotlib>=3.0.2->pingouin) (1.2.0)\n",
            "Requirement already satisfied: cycler>=0.10 in /usr/local/lib/python3.10/dist-packages (from matplotlib>=3.0.2->pingouin) (0.12.1)\n",
            "Requirement already satisfied: fonttools>=4.22.0 in /usr/local/lib/python3.10/dist-packages (from matplotlib>=3.0.2->pingouin) (4.44.0)\n",
            "Requirement already satisfied: kiwisolver>=1.0.1 in /usr/local/lib/python3.10/dist-packages (from matplotlib>=3.0.2->pingouin) (1.4.5)\n",
            "Requirement already satisfied: packaging>=20.0 in /usr/local/lib/python3.10/dist-packages (from matplotlib>=3.0.2->pingouin) (23.2)\n",
            "Requirement already satisfied: pillow>=6.2.0 in /usr/local/lib/python3.10/dist-packages (from matplotlib>=3.0.2->pingouin) (9.4.0)\n",
            "Requirement already satisfied: pyparsing>=2.3.1 in /usr/local/lib/python3.10/dist-packages (from matplotlib>=3.0.2->pingouin) (3.1.1)\n",
            "Requirement already satisfied: python-dateutil>=2.7 in /usr/local/lib/python3.10/dist-packages (from matplotlib>=3.0.2->pingouin) (2.8.2)\n",
            "Requirement already satisfied: pytz>=2020.1 in /usr/local/lib/python3.10/dist-packages (from pandas>=1.0->pingouin) (2023.3.post1)\n",
            "Requirement already satisfied: tzdata>=2022.1 in /usr/local/lib/python3.10/dist-packages (from pandas>=1.0->pingouin) (2023.3)\n",
            "Requirement already satisfied: xarray in /usr/local/lib/python3.10/dist-packages (from pandas-flavor>=0.2.0->pingouin) (2023.7.0)\n",
            "Requirement already satisfied: patsy>=0.5.2 in /usr/local/lib/python3.10/dist-packages (from statsmodels>=0.13->pingouin) (0.5.3)\n",
            "Requirement already satisfied: setuptools>=44 in /usr/local/lib/python3.10/dist-packages (from outdated->pingouin) (67.7.2)\n",
            "Collecting littleutils (from outdated->pingouin)\n",
            "  Downloading littleutils-0.2.2.tar.gz (6.6 kB)\n",
            "  Preparing metadata (setup.py) ... \u001b[?25l\u001b[?25hdone\n",
            "Requirement already satisfied: requests in /usr/local/lib/python3.10/dist-packages (from outdated->pingouin) (2.31.0)\n",
            "Requirement already satisfied: joblib>=1.1.1 in /usr/local/lib/python3.10/dist-packages (from scikit-learn->pingouin) (1.3.2)\n",
            "Requirement already satisfied: threadpoolctl>=2.0.0 in /usr/local/lib/python3.10/dist-packages (from scikit-learn->pingouin) (3.2.0)\n",
            "Requirement already satisfied: six in /usr/local/lib/python3.10/dist-packages (from patsy>=0.5.2->statsmodels>=0.13->pingouin) (1.16.0)\n",
            "Requirement already satisfied: charset-normalizer<4,>=2 in /usr/local/lib/python3.10/dist-packages (from requests->outdated->pingouin) (3.3.2)\n",
            "Requirement already satisfied: idna<4,>=2.5 in /usr/local/lib/python3.10/dist-packages (from requests->outdated->pingouin) (3.4)\n",
            "Requirement already satisfied: urllib3<3,>=1.21.1 in /usr/local/lib/python3.10/dist-packages (from requests->outdated->pingouin) (2.0.7)\n",
            "Requirement already satisfied: certifi>=2017.4.17 in /usr/local/lib/python3.10/dist-packages (from requests->outdated->pingouin) (2023.7.22)\n",
            "Building wheels for collected packages: littleutils\n",
            "  Building wheel for littleutils (setup.py) ... \u001b[?25l\u001b[?25hdone\n",
            "  Created wheel for littleutils: filename=littleutils-0.2.2-py3-none-any.whl size=7029 sha256=f0e4c75c839747720ddff228b4c63d99d9f9c6bd88a5e3b6ad5caaeb56d4be7c\n",
            "  Stored in directory: /root/.cache/pip/wheels/3d/fe/b0/27a9892da57472e538c7452a721a9cf463cc03cf7379889266\n",
            "Successfully built littleutils\n",
            "Installing collected packages: littleutils, outdated, pandas-flavor, pingouin\n",
            "Successfully installed littleutils-0.2.2 outdated-0.2.2 pandas-flavor-0.6.0 pingouin-0.5.3\n"
          ]
        },
        {
          "output_type": "execute_result",
          "data": {
            "text/plain": [
              "<Figure size 700x500 with 0 Axes>"
            ]
          },
          "metadata": {},
          "execution_count": 1
        },
        {
          "output_type": "display_data",
          "data": {
            "text/plain": [
              "<Figure size 700x500 with 0 Axes>"
            ]
          },
          "metadata": {}
        }
      ],
      "source": [
        " # Import libraries\n",
        " import pandas as pd\n",
        " import numpy as np\n",
        " import seaborn as sea\n",
        " import scipy.stats as stats\n",
        " import matplotlib\n",
        " import matplotlib.pyplot as plt\n",
        " from matplotlib import patches\n",
        " !pip install skimpy\n",
        " !pip install pingouin\n",
        " import pingouin as pg\n",
        "\n",
        " from datetime import date\n",
        " plt.figure(figsize=(7, 5))"
      ]
    },
    {
      "cell_type": "code",
      "execution_count": null,
      "metadata": {
        "colab": {
          "base_uri": "https://localhost:8080/",
          "height": 74,
          "resources": {
            "http://localhost:8080/undefined": {
              "data": "CjwhRE9DVFlQRSBodG1sPgo8aHRtbCBsYW5nPWVuPgogIDxtZXRhIGNoYXJzZXQ9dXRmLTg+CiAgPG1ldGEgbmFtZT12aWV3cG9ydCBjb250ZW50PSJpbml0aWFsLXNjYWxlPTEsIG1pbmltdW0tc2NhbGU9MSwgd2lkdGg9ZGV2aWNlLXdpZHRoIj4KICA8dGl0bGU+RXJyb3IgNDA0IChOb3QgRm91bmQpISExPC90aXRsZT4KICA8c3R5bGU+CiAgICAqe21hcmdpbjowO3BhZGRpbmc6MH1odG1sLGNvZGV7Zm9udDoxNXB4LzIycHggYXJpYWwsc2Fucy1zZXJpZn1odG1se2JhY2tncm91bmQ6I2ZmZjtjb2xvcjojMjIyO3BhZGRpbmc6MTVweH1ib2R5e21hcmdpbjo3JSBhdXRvIDA7bWF4LXdpZHRoOjM5MHB4O21pbi1oZWlnaHQ6MTgwcHg7cGFkZGluZzozMHB4IDAgMTVweH0qID4gYm9keXtiYWNrZ3JvdW5kOnVybCgvL3d3dy5nb29nbGUuY29tL2ltYWdlcy9lcnJvcnMvcm9ib3QucG5nKSAxMDAlIDVweCBuby1yZXBlYXQ7cGFkZGluZy1yaWdodDoyMDVweH1we21hcmdpbjoxMXB4IDAgMjJweDtvdmVyZmxvdzpoaWRkZW59aW5ze2NvbG9yOiM3Nzc7dGV4dC1kZWNvcmF0aW9uOm5vbmV9YSBpbWd7Ym9yZGVyOjB9QG1lZGlhIHNjcmVlbiBhbmQgKG1heC13aWR0aDo3NzJweCl7Ym9keXtiYWNrZ3JvdW5kOm5vbmU7bWFyZ2luLXRvcDowO21heC13aWR0aDpub25lO3BhZGRpbmctcmlnaHQ6MH19I2xvZ297YmFja2dyb3VuZDp1cmwoLy93d3cuZ29vZ2xlLmNvbS9pbWFnZXMvbG9nb3MvZXJyb3JwYWdlL2Vycm9yX2xvZ28tMTUweDU0LnBuZykgbm8tcmVwZWF0O21hcmdpbi1sZWZ0Oi01cHh9QG1lZGlhIG9ubHkgc2NyZWVuIGFuZCAobWluLXJlc29sdXRpb246MTkyZHBpKXsjbG9nb3tiYWNrZ3JvdW5kOnVybCgvL3d3dy5nb29nbGUuY29tL2ltYWdlcy9sb2dvcy9lcnJvcnBhZ2UvZXJyb3JfbG9nby0xNTB4NTQtMngucG5nKSBuby1yZXBlYXQgMCUgMCUvMTAwJSAxMDAlOy1tb3otYm9yZGVyLWltYWdlOnVybCgvL3d3dy5nb29nbGUuY29tL2ltYWdlcy9sb2dvcy9lcnJvcnBhZ2UvZXJyb3JfbG9nby0xNTB4NTQtMngucG5nKSAwfX1AbWVkaWEgb25seSBzY3JlZW4gYW5kICgtd2Via2l0LW1pbi1kZXZpY2UtcGl4ZWwtcmF0aW86Mil7I2xvZ297YmFja2dyb3VuZDp1cmwoLy93d3cuZ29vZ2xlLmNvbS9pbWFnZXMvbG9nb3MvZXJyb3JwYWdlL2Vycm9yX2xvZ28tMTUweDU0LTJ4LnBuZykgbm8tcmVwZWF0Oy13ZWJraXQtYmFja2dyb3VuZC1zaXplOjEwMCUgMTAwJX19I2xvZ297ZGlzcGxheTppbmxpbmUtYmxvY2s7aGVpZ2h0OjU0cHg7d2lkdGg6MTUwcHh9CiAgPC9zdHlsZT4KICA8YSBocmVmPS8vd3d3Lmdvb2dsZS5jb20vPjxzcGFuIGlkPWxvZ28gYXJpYS1sYWJlbD1Hb29nbGU+PC9zcGFuPjwvYT4KICA8cD48Yj40MDQuPC9iPiA8aW5zPlRoYXTigJlzIGFuIGVycm9yLjwvaW5zPgogIDxwPiAgPGlucz5UaGF04oCZcyBhbGwgd2Uga25vdy48L2lucz4K",
              "ok": false,
              "headers": [
                [
                  "content-length",
                  "1449"
                ],
                [
                  "content-type",
                  "text/html; charset=utf-8"
                ]
              ],
              "status": 404,
              "status_text": ""
            }
          }
        },
        "id": "KL1M9v2s9WTu",
        "outputId": "8bf0ae07-23c9-44ca-fcd8-00567fce5ffa"
      },
      "outputs": [
        {
          "output_type": "display_data",
          "data": {
            "text/plain": [
              "<IPython.core.display.HTML object>"
            ],
            "text/html": [
              "\n",
              "     <input type=\"file\" id=\"files-18252fed-bd75-498d-bfe4-dbfb72a1dc00\" name=\"files[]\" multiple disabled\n",
              "        style=\"border:none\" />\n",
              "     <output id=\"result-18252fed-bd75-498d-bfe4-dbfb72a1dc00\">\n",
              "      Upload widget is only available when the cell has been executed in the\n",
              "      current browser session. Please rerun this cell to enable.\n",
              "      </output>\n",
              "      <script>// Copyright 2017 Google LLC\n",
              "//\n",
              "// Licensed under the Apache License, Version 2.0 (the \"License\");\n",
              "// you may not use this file except in compliance with the License.\n",
              "// You may obtain a copy of the License at\n",
              "//\n",
              "//      http://www.apache.org/licenses/LICENSE-2.0\n",
              "//\n",
              "// Unless required by applicable law or agreed to in writing, software\n",
              "// distributed under the License is distributed on an \"AS IS\" BASIS,\n",
              "// WITHOUT WARRANTIES OR CONDITIONS OF ANY KIND, either express or implied.\n",
              "// See the License for the specific language governing permissions and\n",
              "// limitations under the License.\n",
              "\n",
              "/**\n",
              " * @fileoverview Helpers for google.colab Python module.\n",
              " */\n",
              "(function(scope) {\n",
              "function span(text, styleAttributes = {}) {\n",
              "  const element = document.createElement('span');\n",
              "  element.textContent = text;\n",
              "  for (const key of Object.keys(styleAttributes)) {\n",
              "    element.style[key] = styleAttributes[key];\n",
              "  }\n",
              "  return element;\n",
              "}\n",
              "\n",
              "// Max number of bytes which will be uploaded at a time.\n",
              "const MAX_PAYLOAD_SIZE = 100 * 1024;\n",
              "\n",
              "function _uploadFiles(inputId, outputId) {\n",
              "  const steps = uploadFilesStep(inputId, outputId);\n",
              "  const outputElement = document.getElementById(outputId);\n",
              "  // Cache steps on the outputElement to make it available for the next call\n",
              "  // to uploadFilesContinue from Python.\n",
              "  outputElement.steps = steps;\n",
              "\n",
              "  return _uploadFilesContinue(outputId);\n",
              "}\n",
              "\n",
              "// This is roughly an async generator (not supported in the browser yet),\n",
              "// where there are multiple asynchronous steps and the Python side is going\n",
              "// to poll for completion of each step.\n",
              "// This uses a Promise to block the python side on completion of each step,\n",
              "// then passes the result of the previous step as the input to the next step.\n",
              "function _uploadFilesContinue(outputId) {\n",
              "  const outputElement = document.getElementById(outputId);\n",
              "  const steps = outputElement.steps;\n",
              "\n",
              "  const next = steps.next(outputElement.lastPromiseValue);\n",
              "  return Promise.resolve(next.value.promise).then((value) => {\n",
              "    // Cache the last promise value to make it available to the next\n",
              "    // step of the generator.\n",
              "    outputElement.lastPromiseValue = value;\n",
              "    return next.value.response;\n",
              "  });\n",
              "}\n",
              "\n",
              "/**\n",
              " * Generator function which is called between each async step of the upload\n",
              " * process.\n",
              " * @param {string} inputId Element ID of the input file picker element.\n",
              " * @param {string} outputId Element ID of the output display.\n",
              " * @return {!Iterable<!Object>} Iterable of next steps.\n",
              " */\n",
              "function* uploadFilesStep(inputId, outputId) {\n",
              "  const inputElement = document.getElementById(inputId);\n",
              "  inputElement.disabled = false;\n",
              "\n",
              "  const outputElement = document.getElementById(outputId);\n",
              "  outputElement.innerHTML = '';\n",
              "\n",
              "  const pickedPromise = new Promise((resolve) => {\n",
              "    inputElement.addEventListener('change', (e) => {\n",
              "      resolve(e.target.files);\n",
              "    });\n",
              "  });\n",
              "\n",
              "  const cancel = document.createElement('button');\n",
              "  inputElement.parentElement.appendChild(cancel);\n",
              "  cancel.textContent = 'Cancel upload';\n",
              "  const cancelPromise = new Promise((resolve) => {\n",
              "    cancel.onclick = () => {\n",
              "      resolve(null);\n",
              "    };\n",
              "  });\n",
              "\n",
              "  // Wait for the user to pick the files.\n",
              "  const files = yield {\n",
              "    promise: Promise.race([pickedPromise, cancelPromise]),\n",
              "    response: {\n",
              "      action: 'starting',\n",
              "    }\n",
              "  };\n",
              "\n",
              "  cancel.remove();\n",
              "\n",
              "  // Disable the input element since further picks are not allowed.\n",
              "  inputElement.disabled = true;\n",
              "\n",
              "  if (!files) {\n",
              "    return {\n",
              "      response: {\n",
              "        action: 'complete',\n",
              "      }\n",
              "    };\n",
              "  }\n",
              "\n",
              "  for (const file of files) {\n",
              "    const li = document.createElement('li');\n",
              "    li.append(span(file.name, {fontWeight: 'bold'}));\n",
              "    li.append(span(\n",
              "        `(${file.type || 'n/a'}) - ${file.size} bytes, ` +\n",
              "        `last modified: ${\n",
              "            file.lastModifiedDate ? file.lastModifiedDate.toLocaleDateString() :\n",
              "                                    'n/a'} - `));\n",
              "    const percent = span('0% done');\n",
              "    li.appendChild(percent);\n",
              "\n",
              "    outputElement.appendChild(li);\n",
              "\n",
              "    const fileDataPromise = new Promise((resolve) => {\n",
              "      const reader = new FileReader();\n",
              "      reader.onload = (e) => {\n",
              "        resolve(e.target.result);\n",
              "      };\n",
              "      reader.readAsArrayBuffer(file);\n",
              "    });\n",
              "    // Wait for the data to be ready.\n",
              "    let fileData = yield {\n",
              "      promise: fileDataPromise,\n",
              "      response: {\n",
              "        action: 'continue',\n",
              "      }\n",
              "    };\n",
              "\n",
              "    // Use a chunked sending to avoid message size limits. See b/62115660.\n",
              "    let position = 0;\n",
              "    do {\n",
              "      const length = Math.min(fileData.byteLength - position, MAX_PAYLOAD_SIZE);\n",
              "      const chunk = new Uint8Array(fileData, position, length);\n",
              "      position += length;\n",
              "\n",
              "      const base64 = btoa(String.fromCharCode.apply(null, chunk));\n",
              "      yield {\n",
              "        response: {\n",
              "          action: 'append',\n",
              "          file: file.name,\n",
              "          data: base64,\n",
              "        },\n",
              "      };\n",
              "\n",
              "      let percentDone = fileData.byteLength === 0 ?\n",
              "          100 :\n",
              "          Math.round((position / fileData.byteLength) * 100);\n",
              "      percent.textContent = `${percentDone}% done`;\n",
              "\n",
              "    } while (position < fileData.byteLength);\n",
              "  }\n",
              "\n",
              "  // All done.\n",
              "  yield {\n",
              "    response: {\n",
              "      action: 'complete',\n",
              "    }\n",
              "  };\n",
              "}\n",
              "\n",
              "scope.google = scope.google || {};\n",
              "scope.google.colab = scope.google.colab || {};\n",
              "scope.google.colab._files = {\n",
              "  _uploadFiles,\n",
              "  _uploadFilesContinue,\n",
              "};\n",
              "})(self);\n",
              "</script> "
            ]
          },
          "metadata": {}
        },
        {
          "output_type": "stream",
          "name": "stdout",
          "text": [
            "Saving marketing_campaign.csv to marketing_campaign.csv\n"
          ]
        }
      ],
      "source": [
        "# Upload dataset\n",
        "from google.colab import files\n",
        "uploaded = files.upload()"
      ]
    },
    {
      "cell_type": "code",
      "execution_count": null,
      "metadata": {
        "id": "zKutOfFQ-dvW"
      },
      "outputs": [],
      "source": [
        "# Loading dataset\n",
        "import io\n",
        "df = pd.read_csv(io.BytesIO(uploaded['marketing_campaign.csv']),sep=\"\\t\")"
      ]
    },
    {
      "cell_type": "code",
      "execution_count": null,
      "metadata": {
        "colab": {
          "base_uri": "https://localhost:8080/",
          "height": 256
        },
        "id": "4wcuS29qAzPa",
        "outputId": "3f04d2bc-e6b1-4093-99b5-801ec489487f"
      },
      "outputs": [
        {
          "output_type": "execute_result",
          "data": {
            "text/plain": [
              "     ID  Year_Birth   Education Marital_Status   Income  Kidhome  Teenhome  \\\n",
              "0  5524        1957  Graduation         Single  58138.0        0         0   \n",
              "1  2174        1954  Graduation         Single  46344.0        1         1   \n",
              "2  4141        1965  Graduation       Together  71613.0        0         0   \n",
              "3  6182        1984  Graduation       Together  26646.0        1         0   \n",
              "4  5324        1981         PhD        Married  58293.0        1         0   \n",
              "\n",
              "  Dt_Customer  Recency  MntWines  ...  NumWebVisitsMonth  AcceptedCmp3  \\\n",
              "0  04-09-2012       58       635  ...                  7             0   \n",
              "1  08-03-2014       38        11  ...                  5             0   \n",
              "2  21-08-2013       26       426  ...                  4             0   \n",
              "3  10-02-2014       26        11  ...                  6             0   \n",
              "4  19-01-2014       94       173  ...                  5             0   \n",
              "\n",
              "   AcceptedCmp4  AcceptedCmp5  AcceptedCmp1  AcceptedCmp2  Complain  \\\n",
              "0             0             0             0             0         0   \n",
              "1             0             0             0             0         0   \n",
              "2             0             0             0             0         0   \n",
              "3             0             0             0             0         0   \n",
              "4             0             0             0             0         0   \n",
              "\n",
              "   Z_CostContact  Z_Revenue  Response  \n",
              "0              3         11         1  \n",
              "1              3         11         0  \n",
              "2              3         11         0  \n",
              "3              3         11         0  \n",
              "4              3         11         0  \n",
              "\n",
              "[5 rows x 29 columns]"
            ],
            "text/html": [
              "\n",
              "  <div id=\"df-f88651b9-0874-471f-9c92-e51f9c5de736\" class=\"colab-df-container\">\n",
              "    <div>\n",
              "<style scoped>\n",
              "    .dataframe tbody tr th:only-of-type {\n",
              "        vertical-align: middle;\n",
              "    }\n",
              "\n",
              "    .dataframe tbody tr th {\n",
              "        vertical-align: top;\n",
              "    }\n",
              "\n",
              "    .dataframe thead th {\n",
              "        text-align: right;\n",
              "    }\n",
              "</style>\n",
              "<table border=\"1\" class=\"dataframe\">\n",
              "  <thead>\n",
              "    <tr style=\"text-align: right;\">\n",
              "      <th></th>\n",
              "      <th>ID</th>\n",
              "      <th>Year_Birth</th>\n",
              "      <th>Education</th>\n",
              "      <th>Marital_Status</th>\n",
              "      <th>Income</th>\n",
              "      <th>Kidhome</th>\n",
              "      <th>Teenhome</th>\n",
              "      <th>Dt_Customer</th>\n",
              "      <th>Recency</th>\n",
              "      <th>MntWines</th>\n",
              "      <th>...</th>\n",
              "      <th>NumWebVisitsMonth</th>\n",
              "      <th>AcceptedCmp3</th>\n",
              "      <th>AcceptedCmp4</th>\n",
              "      <th>AcceptedCmp5</th>\n",
              "      <th>AcceptedCmp1</th>\n",
              "      <th>AcceptedCmp2</th>\n",
              "      <th>Complain</th>\n",
              "      <th>Z_CostContact</th>\n",
              "      <th>Z_Revenue</th>\n",
              "      <th>Response</th>\n",
              "    </tr>\n",
              "  </thead>\n",
              "  <tbody>\n",
              "    <tr>\n",
              "      <th>0</th>\n",
              "      <td>5524</td>\n",
              "      <td>1957</td>\n",
              "      <td>Graduation</td>\n",
              "      <td>Single</td>\n",
              "      <td>58138.0</td>\n",
              "      <td>0</td>\n",
              "      <td>0</td>\n",
              "      <td>04-09-2012</td>\n",
              "      <td>58</td>\n",
              "      <td>635</td>\n",
              "      <td>...</td>\n",
              "      <td>7</td>\n",
              "      <td>0</td>\n",
              "      <td>0</td>\n",
              "      <td>0</td>\n",
              "      <td>0</td>\n",
              "      <td>0</td>\n",
              "      <td>0</td>\n",
              "      <td>3</td>\n",
              "      <td>11</td>\n",
              "      <td>1</td>\n",
              "    </tr>\n",
              "    <tr>\n",
              "      <th>1</th>\n",
              "      <td>2174</td>\n",
              "      <td>1954</td>\n",
              "      <td>Graduation</td>\n",
              "      <td>Single</td>\n",
              "      <td>46344.0</td>\n",
              "      <td>1</td>\n",
              "      <td>1</td>\n",
              "      <td>08-03-2014</td>\n",
              "      <td>38</td>\n",
              "      <td>11</td>\n",
              "      <td>...</td>\n",
              "      <td>5</td>\n",
              "      <td>0</td>\n",
              "      <td>0</td>\n",
              "      <td>0</td>\n",
              "      <td>0</td>\n",
              "      <td>0</td>\n",
              "      <td>0</td>\n",
              "      <td>3</td>\n",
              "      <td>11</td>\n",
              "      <td>0</td>\n",
              "    </tr>\n",
              "    <tr>\n",
              "      <th>2</th>\n",
              "      <td>4141</td>\n",
              "      <td>1965</td>\n",
              "      <td>Graduation</td>\n",
              "      <td>Together</td>\n",
              "      <td>71613.0</td>\n",
              "      <td>0</td>\n",
              "      <td>0</td>\n",
              "      <td>21-08-2013</td>\n",
              "      <td>26</td>\n",
              "      <td>426</td>\n",
              "      <td>...</td>\n",
              "      <td>4</td>\n",
              "      <td>0</td>\n",
              "      <td>0</td>\n",
              "      <td>0</td>\n",
              "      <td>0</td>\n",
              "      <td>0</td>\n",
              "      <td>0</td>\n",
              "      <td>3</td>\n",
              "      <td>11</td>\n",
              "      <td>0</td>\n",
              "    </tr>\n",
              "    <tr>\n",
              "      <th>3</th>\n",
              "      <td>6182</td>\n",
              "      <td>1984</td>\n",
              "      <td>Graduation</td>\n",
              "      <td>Together</td>\n",
              "      <td>26646.0</td>\n",
              "      <td>1</td>\n",
              "      <td>0</td>\n",
              "      <td>10-02-2014</td>\n",
              "      <td>26</td>\n",
              "      <td>11</td>\n",
              "      <td>...</td>\n",
              "      <td>6</td>\n",
              "      <td>0</td>\n",
              "      <td>0</td>\n",
              "      <td>0</td>\n",
              "      <td>0</td>\n",
              "      <td>0</td>\n",
              "      <td>0</td>\n",
              "      <td>3</td>\n",
              "      <td>11</td>\n",
              "      <td>0</td>\n",
              "    </tr>\n",
              "    <tr>\n",
              "      <th>4</th>\n",
              "      <td>5324</td>\n",
              "      <td>1981</td>\n",
              "      <td>PhD</td>\n",
              "      <td>Married</td>\n",
              "      <td>58293.0</td>\n",
              "      <td>1</td>\n",
              "      <td>0</td>\n",
              "      <td>19-01-2014</td>\n",
              "      <td>94</td>\n",
              "      <td>173</td>\n",
              "      <td>...</td>\n",
              "      <td>5</td>\n",
              "      <td>0</td>\n",
              "      <td>0</td>\n",
              "      <td>0</td>\n",
              "      <td>0</td>\n",
              "      <td>0</td>\n",
              "      <td>0</td>\n",
              "      <td>3</td>\n",
              "      <td>11</td>\n",
              "      <td>0</td>\n",
              "    </tr>\n",
              "  </tbody>\n",
              "</table>\n",
              "<p>5 rows × 29 columns</p>\n",
              "</div>\n",
              "    <div class=\"colab-df-buttons\">\n",
              "\n",
              "  <div class=\"colab-df-container\">\n",
              "    <button class=\"colab-df-convert\" onclick=\"convertToInteractive('df-f88651b9-0874-471f-9c92-e51f9c5de736')\"\n",
              "            title=\"Convert this dataframe to an interactive table.\"\n",
              "            style=\"display:none;\">\n",
              "\n",
              "  <svg xmlns=\"http://www.w3.org/2000/svg\" height=\"24px\" viewBox=\"0 -960 960 960\">\n",
              "    <path d=\"M120-120v-720h720v720H120Zm60-500h600v-160H180v160Zm220 220h160v-160H400v160Zm0 220h160v-160H400v160ZM180-400h160v-160H180v160Zm440 0h160v-160H620v160ZM180-180h160v-160H180v160Zm440 0h160v-160H620v160Z\"/>\n",
              "  </svg>\n",
              "    </button>\n",
              "\n",
              "  <style>\n",
              "    .colab-df-container {\n",
              "      display:flex;\n",
              "      gap: 12px;\n",
              "    }\n",
              "\n",
              "    .colab-df-convert {\n",
              "      background-color: #E8F0FE;\n",
              "      border: none;\n",
              "      border-radius: 50%;\n",
              "      cursor: pointer;\n",
              "      display: none;\n",
              "      fill: #1967D2;\n",
              "      height: 32px;\n",
              "      padding: 0 0 0 0;\n",
              "      width: 32px;\n",
              "    }\n",
              "\n",
              "    .colab-df-convert:hover {\n",
              "      background-color: #E2EBFA;\n",
              "      box-shadow: 0px 1px 2px rgba(60, 64, 67, 0.3), 0px 1px 3px 1px rgba(60, 64, 67, 0.15);\n",
              "      fill: #174EA6;\n",
              "    }\n",
              "\n",
              "    .colab-df-buttons div {\n",
              "      margin-bottom: 4px;\n",
              "    }\n",
              "\n",
              "    [theme=dark] .colab-df-convert {\n",
              "      background-color: #3B4455;\n",
              "      fill: #D2E3FC;\n",
              "    }\n",
              "\n",
              "    [theme=dark] .colab-df-convert:hover {\n",
              "      background-color: #434B5C;\n",
              "      box-shadow: 0px 1px 3px 1px rgba(0, 0, 0, 0.15);\n",
              "      filter: drop-shadow(0px 1px 2px rgba(0, 0, 0, 0.3));\n",
              "      fill: #FFFFFF;\n",
              "    }\n",
              "  </style>\n",
              "\n",
              "    <script>\n",
              "      const buttonEl =\n",
              "        document.querySelector('#df-f88651b9-0874-471f-9c92-e51f9c5de736 button.colab-df-convert');\n",
              "      buttonEl.style.display =\n",
              "        google.colab.kernel.accessAllowed ? 'block' : 'none';\n",
              "\n",
              "      async function convertToInteractive(key) {\n",
              "        const element = document.querySelector('#df-f88651b9-0874-471f-9c92-e51f9c5de736');\n",
              "        const dataTable =\n",
              "          await google.colab.kernel.invokeFunction('convertToInteractive',\n",
              "                                                    [key], {});\n",
              "        if (!dataTable) return;\n",
              "\n",
              "        const docLinkHtml = 'Like what you see? Visit the ' +\n",
              "          '<a target=\"_blank\" href=https://colab.research.google.com/notebooks/data_table.ipynb>data table notebook</a>'\n",
              "          + ' to learn more about interactive tables.';\n",
              "        element.innerHTML = '';\n",
              "        dataTable['output_type'] = 'display_data';\n",
              "        await google.colab.output.renderOutput(dataTable, element);\n",
              "        const docLink = document.createElement('div');\n",
              "        docLink.innerHTML = docLinkHtml;\n",
              "        element.appendChild(docLink);\n",
              "      }\n",
              "    </script>\n",
              "  </div>\n",
              "\n",
              "\n",
              "<div id=\"df-31d63b55-435b-441e-bec7-435bd99700c3\">\n",
              "  <button class=\"colab-df-quickchart\" onclick=\"quickchart('df-31d63b55-435b-441e-bec7-435bd99700c3')\"\n",
              "            title=\"Suggest charts\"\n",
              "            style=\"display:none;\">\n",
              "\n",
              "<svg xmlns=\"http://www.w3.org/2000/svg\" height=\"24px\"viewBox=\"0 0 24 24\"\n",
              "     width=\"24px\">\n",
              "    <g>\n",
              "        <path d=\"M19 3H5c-1.1 0-2 .9-2 2v14c0 1.1.9 2 2 2h14c1.1 0 2-.9 2-2V5c0-1.1-.9-2-2-2zM9 17H7v-7h2v7zm4 0h-2V7h2v10zm4 0h-2v-4h2v4z\"/>\n",
              "    </g>\n",
              "</svg>\n",
              "  </button>\n",
              "\n",
              "<style>\n",
              "  .colab-df-quickchart {\n",
              "      --bg-color: #E8F0FE;\n",
              "      --fill-color: #1967D2;\n",
              "      --hover-bg-color: #E2EBFA;\n",
              "      --hover-fill-color: #174EA6;\n",
              "      --disabled-fill-color: #AAA;\n",
              "      --disabled-bg-color: #DDD;\n",
              "  }\n",
              "\n",
              "  [theme=dark] .colab-df-quickchart {\n",
              "      --bg-color: #3B4455;\n",
              "      --fill-color: #D2E3FC;\n",
              "      --hover-bg-color: #434B5C;\n",
              "      --hover-fill-color: #FFFFFF;\n",
              "      --disabled-bg-color: #3B4455;\n",
              "      --disabled-fill-color: #666;\n",
              "  }\n",
              "\n",
              "  .colab-df-quickchart {\n",
              "    background-color: var(--bg-color);\n",
              "    border: none;\n",
              "    border-radius: 50%;\n",
              "    cursor: pointer;\n",
              "    display: none;\n",
              "    fill: var(--fill-color);\n",
              "    height: 32px;\n",
              "    padding: 0;\n",
              "    width: 32px;\n",
              "  }\n",
              "\n",
              "  .colab-df-quickchart:hover {\n",
              "    background-color: var(--hover-bg-color);\n",
              "    box-shadow: 0 1px 2px rgba(60, 64, 67, 0.3), 0 1px 3px 1px rgba(60, 64, 67, 0.15);\n",
              "    fill: var(--button-hover-fill-color);\n",
              "  }\n",
              "\n",
              "  .colab-df-quickchart-complete:disabled,\n",
              "  .colab-df-quickchart-complete:disabled:hover {\n",
              "    background-color: var(--disabled-bg-color);\n",
              "    fill: var(--disabled-fill-color);\n",
              "    box-shadow: none;\n",
              "  }\n",
              "\n",
              "  .colab-df-spinner {\n",
              "    border: 2px solid var(--fill-color);\n",
              "    border-color: transparent;\n",
              "    border-bottom-color: var(--fill-color);\n",
              "    animation:\n",
              "      spin 1s steps(1) infinite;\n",
              "  }\n",
              "\n",
              "  @keyframes spin {\n",
              "    0% {\n",
              "      border-color: transparent;\n",
              "      border-bottom-color: var(--fill-color);\n",
              "      border-left-color: var(--fill-color);\n",
              "    }\n",
              "    20% {\n",
              "      border-color: transparent;\n",
              "      border-left-color: var(--fill-color);\n",
              "      border-top-color: var(--fill-color);\n",
              "    }\n",
              "    30% {\n",
              "      border-color: transparent;\n",
              "      border-left-color: var(--fill-color);\n",
              "      border-top-color: var(--fill-color);\n",
              "      border-right-color: var(--fill-color);\n",
              "    }\n",
              "    40% {\n",
              "      border-color: transparent;\n",
              "      border-right-color: var(--fill-color);\n",
              "      border-top-color: var(--fill-color);\n",
              "    }\n",
              "    60% {\n",
              "      border-color: transparent;\n",
              "      border-right-color: var(--fill-color);\n",
              "    }\n",
              "    80% {\n",
              "      border-color: transparent;\n",
              "      border-right-color: var(--fill-color);\n",
              "      border-bottom-color: var(--fill-color);\n",
              "    }\n",
              "    90% {\n",
              "      border-color: transparent;\n",
              "      border-bottom-color: var(--fill-color);\n",
              "    }\n",
              "  }\n",
              "</style>\n",
              "\n",
              "  <script>\n",
              "    async function quickchart(key) {\n",
              "      const quickchartButtonEl =\n",
              "        document.querySelector('#' + key + ' button');\n",
              "      quickchartButtonEl.disabled = true;  // To prevent multiple clicks.\n",
              "      quickchartButtonEl.classList.add('colab-df-spinner');\n",
              "      try {\n",
              "        const charts = await google.colab.kernel.invokeFunction(\n",
              "            'suggestCharts', [key], {});\n",
              "      } catch (error) {\n",
              "        console.error('Error during call to suggestCharts:', error);\n",
              "      }\n",
              "      quickchartButtonEl.classList.remove('colab-df-spinner');\n",
              "      quickchartButtonEl.classList.add('colab-df-quickchart-complete');\n",
              "    }\n",
              "    (() => {\n",
              "      let quickchartButtonEl =\n",
              "        document.querySelector('#df-31d63b55-435b-441e-bec7-435bd99700c3 button');\n",
              "      quickchartButtonEl.style.display =\n",
              "        google.colab.kernel.accessAllowed ? 'block' : 'none';\n",
              "    })();\n",
              "  </script>\n",
              "</div>\n",
              "    </div>\n",
              "  </div>\n"
            ]
          },
          "metadata": {},
          "execution_count": 4
        }
      ],
      "source": [
        "df.head()"
      ]
    },
    {
      "cell_type": "code",
      "execution_count": null,
      "metadata": {
        "colab": {
          "base_uri": "https://localhost:8080/"
        },
        "id": "Dx5w6yLGBBTu",
        "outputId": "fe303964-2854-4bf2-fa21-87b77af3e190"
      },
      "outputs": [
        {
          "output_type": "execute_result",
          "data": {
            "text/plain": [
              "(2240, 29)"
            ]
          },
          "metadata": {},
          "execution_count": 5
        }
      ],
      "source": [
        "df.shape"
      ]
    },
    {
      "cell_type": "markdown",
      "metadata": {
        "id": "i24Sp4UpOnz0"
      },
      "source": [
        "# **Data Cleaning and Transformation**\n",
        "In this phase, we address missing values in the data and perform data transformation to ensure it is in the appropriate format.\n",
        "\n",
        "To begin, we categorize values in the 'Education' and 'Marital_Status' columns. Additionally, we calculate and categorize ages based on the year of birth."
      ]
    },
    {
      "cell_type": "code",
      "execution_count": null,
      "metadata": {
        "id": "pQWiRJFGDeke"
      },
      "outputs": [],
      "source": [
        "# Remove missing value (null)\n",
        "df.dropna(inplace=True)"
      ]
    },
    {
      "cell_type": "code",
      "execution_count": null,
      "metadata": {
        "colab": {
          "base_uri": "https://localhost:8080/"
        },
        "id": "SUDNlr7faxPa",
        "outputId": "80c38969-e0df-4365-933c-0269926258ab"
      },
      "outputs": [
        {
          "output_type": "stream",
          "name": "stdout",
          "text": [
            "['Graduation' 'PhD' 'Master' 'Basic' '2n Cycle']\n",
            "['Single' 'Together' 'Married' 'Divorced' 'Widow' 'Alone' 'Absurd' 'YOLO']\n"
          ]
        }
      ],
      "source": [
        "print(df['Education'].unique())\n",
        "print(df['Marital_Status'].unique())"
      ]
    },
    {
      "cell_type": "code",
      "execution_count": null,
      "metadata": {
        "id": "OVDxNKV0dBgi"
      },
      "outputs": [],
      "source": [
        "customer_data = df.copy()\n",
        "\n",
        "# Replacing 2nd Cycle with Master degree in Education column\n",
        "replace_vals = '2n Cycle'\n",
        "customer_data['Education'] = customer_data['Education'].apply(lambda val:'Master' if val in replace_vals else val )"
      ]
    },
    {
      "cell_type": "code",
      "execution_count": null,
      "metadata": {
        "id": "E95-hw1yis__"
      },
      "outputs": [],
      "source": [
        "# Grouping the categories in Marital_Status column into 2 categories such as 'single' and 'in relationship'\n",
        "replace_vals = ['Together', 'Married']\n",
        "customer_data['Marital_Status'] = customer_data['Marital_Status'].apply(lambda val: 'In relationship' if val in replace_vals else 'Single')"
      ]
    },
    {
      "cell_type": "code",
      "execution_count": null,
      "metadata": {
        "colab": {
          "base_uri": "https://localhost:8080/"
        },
        "id": "cnL8e5oooIxB",
        "outputId": "ef7f3178-b5c2-4246-96ab-c1c8f16561df"
      },
      "outputs": [
        {
          "output_type": "stream",
          "name": "stdout",
          "text": [
            "['Graduation' 'PhD' 'Master' 'Basic']\n",
            "['Single' 'In relationship']\n"
          ]
        }
      ],
      "source": [
        "print(customer_data['Education'].unique())\n",
        "print(customer_data['Marital_Status'].unique())"
      ]
    },
    {
      "cell_type": "code",
      "execution_count": null,
      "metadata": {
        "id": "xlOOqMpVitWo"
      },
      "outputs": [],
      "source": [
        "# Calculating current year\n",
        "current_year = date.today().year\n",
        "\n",
        "# Adding column \"Age\"\n",
        "customer_data['Age'] = current_year - customer_data['Year_Birth']"
      ]
    },
    {
      "cell_type": "code",
      "execution_count": null,
      "metadata": {
        "id": "uMEInOe90GMV"
      },
      "outputs": [],
      "source": [
        "# Grouping Age\n",
        "customer_data['Age_Group'] = customer_data['Age'].apply(lambda x: 'Children' if x <= 16 else (\n",
        "    'Youth' if 17 <= x <= 30 else (\n",
        "    'Middle Aged' if 30 < x <=  45 else 'Old'\n",
        "    )\n",
        "))"
      ]
    },
    {
      "cell_type": "code",
      "execution_count": null,
      "metadata": {
        "id": "JHcnJ0qxitjo"
      },
      "outputs": [],
      "source": [
        "# Drop some tables\n",
        "customer_data = customer_data.drop(['ID', 'Year_Birth', 'Z_CostContact', 'Z_Revenue', 'Complain'], axis=1)"
      ]
    },
    {
      "cell_type": "code",
      "execution_count": null,
      "metadata": {
        "id": "z_eN96bwitvG"
      },
      "outputs": [],
      "source": [
        "# Calculating Total Spent by customers\n",
        "customer_data['Total_Spent'] = customer_data['MntWines'] + customer_data['MntFruits'] + customer_data['MntMeatProducts'] + customer_data['MntFishProducts'] + customer_data['MntSweetProducts'] +customer_data['MntGoldProds']\n",
        "\n"
      ]
    },
    {
      "cell_type": "code",
      "execution_count": null,
      "metadata": {
        "id": "OoGKWukfj9zZ"
      },
      "outputs": [],
      "source": [
        "# Calculating total number of purchase made by customers\n",
        "customer_data['Total_Purchases'] = customer_data['NumDealsPurchases' ] + customer_data['NumWebPurchases'] + customer_data['NumCatalogPurchases'] + customer_data['NumStorePurchases']"
      ]
    },
    {
      "cell_type": "code",
      "execution_count": null,
      "metadata": {
        "id": "96uhugpMj99G",
        "colab": {
          "base_uri": "https://localhost:8080/"
        },
        "outputId": "7d51eb45-6a7c-44b7-d39d-8b7a36e62490"
      },
      "outputs": [
        {
          "output_type": "stream",
          "name": "stderr",
          "text": [
            "<ipython-input-16-7c1dfde1bb90>:2: UserWarning: Parsing dates in DD/MM/YYYY format when dayfirst=False (the default) was specified. This may lead to inconsistently parsed dates! Specify a format to ensure consistent parsing.\n",
            "  customer_data['Dt_Customer'] = pd.to_datetime(customer_data['Dt_Customer'], errors='coerce')\n"
          ]
        }
      ],
      "source": [
        "# Calculating the enrollment year of customer\n",
        "customer_data['Dt_Customer'] = pd.to_datetime(customer_data['Dt_Customer'], errors='coerce')\n",
        "customer_data['Enrollment_Year'] = customer_data['Dt_Customer'].dt.year\n",
        "customer_data['Seniority'] = current_year - customer_data['Enrollment_Year']"
      ]
    },
    {
      "cell_type": "code",
      "execution_count": null,
      "metadata": {
        "id": "9_J5xnaikGGp"
      },
      "outputs": [],
      "source": [
        "# Calculating total number of accepted offers for each customer\n",
        "customer_data['Total_Offers'] = customer_data['AcceptedCmp1'] + customer_data['AcceptedCmp2'] + customer_data['AcceptedCmp3'] + customer_data['AcceptedCmp4'] + customer_data['AcceptedCmp5']"
      ]
    },
    {
      "cell_type": "code",
      "execution_count": null,
      "metadata": {
        "colab": {
          "base_uri": "https://localhost:8080/",
          "height": 290,
          "resources": {
            "http://localhost:8080/undefined": {
              "data": "CjwhRE9DVFlQRSBodG1sPgo8aHRtbCBsYW5nPWVuPgogIDxtZXRhIGNoYXJzZXQ9dXRmLTg+CiAgPG1ldGEgbmFtZT12aWV3cG9ydCBjb250ZW50PSJpbml0aWFsLXNjYWxlPTEsIG1pbmltdW0tc2NhbGU9MSwgd2lkdGg9ZGV2aWNlLXdpZHRoIj4KICA8dGl0bGU+RXJyb3IgNDA0IChOb3QgRm91bmQpISExPC90aXRsZT4KICA8c3R5bGU+CiAgICAqe21hcmdpbjowO3BhZGRpbmc6MH1odG1sLGNvZGV7Zm9udDoxNXB4LzIycHggYXJpYWwsc2Fucy1zZXJpZn1odG1se2JhY2tncm91bmQ6I2ZmZjtjb2xvcjojMjIyO3BhZGRpbmc6MTVweH1ib2R5e21hcmdpbjo3JSBhdXRvIDA7bWF4LXdpZHRoOjM5MHB4O21pbi1oZWlnaHQ6MTgwcHg7cGFkZGluZzozMHB4IDAgMTVweH0qID4gYm9keXtiYWNrZ3JvdW5kOnVybCgvL3d3dy5nb29nbGUuY29tL2ltYWdlcy9lcnJvcnMvcm9ib3QucG5nKSAxMDAlIDVweCBuby1yZXBlYXQ7cGFkZGluZy1yaWdodDoyMDVweH1we21hcmdpbjoxMXB4IDAgMjJweDtvdmVyZmxvdzpoaWRkZW59aW5ze2NvbG9yOiM3Nzc7dGV4dC1kZWNvcmF0aW9uOm5vbmV9YSBpbWd7Ym9yZGVyOjB9QG1lZGlhIHNjcmVlbiBhbmQgKG1heC13aWR0aDo3NzJweCl7Ym9keXtiYWNrZ3JvdW5kOm5vbmU7bWFyZ2luLXRvcDowO21heC13aWR0aDpub25lO3BhZGRpbmctcmlnaHQ6MH19I2xvZ297YmFja2dyb3VuZDp1cmwoLy93d3cuZ29vZ2xlLmNvbS9pbWFnZXMvbG9nb3MvZXJyb3JwYWdlL2Vycm9yX2xvZ28tMTUweDU0LnBuZykgbm8tcmVwZWF0O21hcmdpbi1sZWZ0Oi01cHh9QG1lZGlhIG9ubHkgc2NyZWVuIGFuZCAobWluLXJlc29sdXRpb246MTkyZHBpKXsjbG9nb3tiYWNrZ3JvdW5kOnVybCgvL3d3dy5nb29nbGUuY29tL2ltYWdlcy9sb2dvcy9lcnJvcnBhZ2UvZXJyb3JfbG9nby0xNTB4NTQtMngucG5nKSBuby1yZXBlYXQgMCUgMCUvMTAwJSAxMDAlOy1tb3otYm9yZGVyLWltYWdlOnVybCgvL3d3dy5nb29nbGUuY29tL2ltYWdlcy9sb2dvcy9lcnJvcnBhZ2UvZXJyb3JfbG9nby0xNTB4NTQtMngucG5nKSAwfX1AbWVkaWEgb25seSBzY3JlZW4gYW5kICgtd2Via2l0LW1pbi1kZXZpY2UtcGl4ZWwtcmF0aW86Mil7I2xvZ297YmFja2dyb3VuZDp1cmwoLy93d3cuZ29vZ2xlLmNvbS9pbWFnZXMvbG9nb3MvZXJyb3JwYWdlL2Vycm9yX2xvZ28tMTUweDU0LTJ4LnBuZykgbm8tcmVwZWF0Oy13ZWJraXQtYmFja2dyb3VuZC1zaXplOjEwMCUgMTAwJX19I2xvZ297ZGlzcGxheTppbmxpbmUtYmxvY2s7aGVpZ2h0OjU0cHg7d2lkdGg6MTUwcHh9CiAgPC9zdHlsZT4KICA8YSBocmVmPS8vd3d3Lmdvb2dsZS5jb20vPjxzcGFuIGlkPWxvZ28gYXJpYS1sYWJlbD1Hb29nbGU+PC9zcGFuPjwvYT4KICA8cD48Yj40MDQuPC9iPiA8aW5zPlRoYXTigJlzIGFuIGVycm9yLjwvaW5zPgogIDxwPiAgPGlucz5UaGF04oCZcyBhbGwgd2Uga25vdy48L2lucz4K",
              "ok": false,
              "headers": [
                [
                  "content-length",
                  "1449"
                ],
                [
                  "content-type",
                  "text/html; charset=utf-8"
                ]
              ],
              "status": 404,
              "status_text": ""
            }
          }
        },
        "id": "wYrhYNpKpCb6",
        "outputId": "77ee228a-5b79-44b6-bf0a-10d13d95fcf5"
      },
      "outputs": [
        {
          "output_type": "execute_result",
          "data": {
            "text/plain": [
              "    Education   Marital_Status   Income  Kidhome  Teenhome Dt_Customer  \\\n",
              "0  Graduation           Single  58138.0        0         0  2012-04-09   \n",
              "1  Graduation           Single  46344.0        1         1  2014-08-03   \n",
              "2  Graduation  In relationship  71613.0        0         0  2013-08-21   \n",
              "3  Graduation  In relationship  26646.0        1         0  2014-10-02   \n",
              "4         PhD  In relationship  58293.0        1         0  2014-01-19   \n",
              "\n",
              "   Recency  MntWines  MntFruits  MntMeatProducts  ...  AcceptedCmp1  \\\n",
              "0       58       635         88              546  ...             0   \n",
              "1       38        11          1                6  ...             0   \n",
              "2       26       426         49              127  ...             0   \n",
              "3       26        11          4               20  ...             0   \n",
              "4       94       173         43              118  ...             0   \n",
              "\n",
              "   AcceptedCmp2  Response  Age    Age_Group  Total_Spent  Total_Purchases  \\\n",
              "0             0         1   66          Old         1617               25   \n",
              "1             0         0   69          Old           27                6   \n",
              "2             0         0   58          Old          776               21   \n",
              "3             0         0   39  Middle Aged           53                8   \n",
              "4             0         0   42  Middle Aged          422               19   \n",
              "\n",
              "   Enrollment_Year  Seniority  Total_Offers  \n",
              "0             2012         11             0  \n",
              "1             2014          9             0  \n",
              "2             2013         10             0  \n",
              "3             2014          9             0  \n",
              "4             2014          9             0  \n",
              "\n",
              "[5 rows x 31 columns]"
            ],
            "text/html": [
              "\n",
              "  <div id=\"df-e79ea998-a5b7-48bb-a3d2-3e7b75767025\" class=\"colab-df-container\">\n",
              "    <div>\n",
              "<style scoped>\n",
              "    .dataframe tbody tr th:only-of-type {\n",
              "        vertical-align: middle;\n",
              "    }\n",
              "\n",
              "    .dataframe tbody tr th {\n",
              "        vertical-align: top;\n",
              "    }\n",
              "\n",
              "    .dataframe thead th {\n",
              "        text-align: right;\n",
              "    }\n",
              "</style>\n",
              "<table border=\"1\" class=\"dataframe\">\n",
              "  <thead>\n",
              "    <tr style=\"text-align: right;\">\n",
              "      <th></th>\n",
              "      <th>Education</th>\n",
              "      <th>Marital_Status</th>\n",
              "      <th>Income</th>\n",
              "      <th>Kidhome</th>\n",
              "      <th>Teenhome</th>\n",
              "      <th>Dt_Customer</th>\n",
              "      <th>Recency</th>\n",
              "      <th>MntWines</th>\n",
              "      <th>MntFruits</th>\n",
              "      <th>MntMeatProducts</th>\n",
              "      <th>...</th>\n",
              "      <th>AcceptedCmp1</th>\n",
              "      <th>AcceptedCmp2</th>\n",
              "      <th>Response</th>\n",
              "      <th>Age</th>\n",
              "      <th>Age_Group</th>\n",
              "      <th>Total_Spent</th>\n",
              "      <th>Total_Purchases</th>\n",
              "      <th>Enrollment_Year</th>\n",
              "      <th>Seniority</th>\n",
              "      <th>Total_Offers</th>\n",
              "    </tr>\n",
              "  </thead>\n",
              "  <tbody>\n",
              "    <tr>\n",
              "      <th>0</th>\n",
              "      <td>Graduation</td>\n",
              "      <td>Single</td>\n",
              "      <td>58138.0</td>\n",
              "      <td>0</td>\n",
              "      <td>0</td>\n",
              "      <td>2012-04-09</td>\n",
              "      <td>58</td>\n",
              "      <td>635</td>\n",
              "      <td>88</td>\n",
              "      <td>546</td>\n",
              "      <td>...</td>\n",
              "      <td>0</td>\n",
              "      <td>0</td>\n",
              "      <td>1</td>\n",
              "      <td>66</td>\n",
              "      <td>Old</td>\n",
              "      <td>1617</td>\n",
              "      <td>25</td>\n",
              "      <td>2012</td>\n",
              "      <td>11</td>\n",
              "      <td>0</td>\n",
              "    </tr>\n",
              "    <tr>\n",
              "      <th>1</th>\n",
              "      <td>Graduation</td>\n",
              "      <td>Single</td>\n",
              "      <td>46344.0</td>\n",
              "      <td>1</td>\n",
              "      <td>1</td>\n",
              "      <td>2014-08-03</td>\n",
              "      <td>38</td>\n",
              "      <td>11</td>\n",
              "      <td>1</td>\n",
              "      <td>6</td>\n",
              "      <td>...</td>\n",
              "      <td>0</td>\n",
              "      <td>0</td>\n",
              "      <td>0</td>\n",
              "      <td>69</td>\n",
              "      <td>Old</td>\n",
              "      <td>27</td>\n",
              "      <td>6</td>\n",
              "      <td>2014</td>\n",
              "      <td>9</td>\n",
              "      <td>0</td>\n",
              "    </tr>\n",
              "    <tr>\n",
              "      <th>2</th>\n",
              "      <td>Graduation</td>\n",
              "      <td>In relationship</td>\n",
              "      <td>71613.0</td>\n",
              "      <td>0</td>\n",
              "      <td>0</td>\n",
              "      <td>2013-08-21</td>\n",
              "      <td>26</td>\n",
              "      <td>426</td>\n",
              "      <td>49</td>\n",
              "      <td>127</td>\n",
              "      <td>...</td>\n",
              "      <td>0</td>\n",
              "      <td>0</td>\n",
              "      <td>0</td>\n",
              "      <td>58</td>\n",
              "      <td>Old</td>\n",
              "      <td>776</td>\n",
              "      <td>21</td>\n",
              "      <td>2013</td>\n",
              "      <td>10</td>\n",
              "      <td>0</td>\n",
              "    </tr>\n",
              "    <tr>\n",
              "      <th>3</th>\n",
              "      <td>Graduation</td>\n",
              "      <td>In relationship</td>\n",
              "      <td>26646.0</td>\n",
              "      <td>1</td>\n",
              "      <td>0</td>\n",
              "      <td>2014-10-02</td>\n",
              "      <td>26</td>\n",
              "      <td>11</td>\n",
              "      <td>4</td>\n",
              "      <td>20</td>\n",
              "      <td>...</td>\n",
              "      <td>0</td>\n",
              "      <td>0</td>\n",
              "      <td>0</td>\n",
              "      <td>39</td>\n",
              "      <td>Middle Aged</td>\n",
              "      <td>53</td>\n",
              "      <td>8</td>\n",
              "      <td>2014</td>\n",
              "      <td>9</td>\n",
              "      <td>0</td>\n",
              "    </tr>\n",
              "    <tr>\n",
              "      <th>4</th>\n",
              "      <td>PhD</td>\n",
              "      <td>In relationship</td>\n",
              "      <td>58293.0</td>\n",
              "      <td>1</td>\n",
              "      <td>0</td>\n",
              "      <td>2014-01-19</td>\n",
              "      <td>94</td>\n",
              "      <td>173</td>\n",
              "      <td>43</td>\n",
              "      <td>118</td>\n",
              "      <td>...</td>\n",
              "      <td>0</td>\n",
              "      <td>0</td>\n",
              "      <td>0</td>\n",
              "      <td>42</td>\n",
              "      <td>Middle Aged</td>\n",
              "      <td>422</td>\n",
              "      <td>19</td>\n",
              "      <td>2014</td>\n",
              "      <td>9</td>\n",
              "      <td>0</td>\n",
              "    </tr>\n",
              "  </tbody>\n",
              "</table>\n",
              "<p>5 rows × 31 columns</p>\n",
              "</div>\n",
              "    <div class=\"colab-df-buttons\">\n",
              "\n",
              "  <div class=\"colab-df-container\">\n",
              "    <button class=\"colab-df-convert\" onclick=\"convertToInteractive('df-e79ea998-a5b7-48bb-a3d2-3e7b75767025')\"\n",
              "            title=\"Convert this dataframe to an interactive table.\"\n",
              "            style=\"display:none;\">\n",
              "\n",
              "  <svg xmlns=\"http://www.w3.org/2000/svg\" height=\"24px\" viewBox=\"0 -960 960 960\">\n",
              "    <path d=\"M120-120v-720h720v720H120Zm60-500h600v-160H180v160Zm220 220h160v-160H400v160Zm0 220h160v-160H400v160ZM180-400h160v-160H180v160Zm440 0h160v-160H620v160ZM180-180h160v-160H180v160Zm440 0h160v-160H620v160Z\"/>\n",
              "  </svg>\n",
              "    </button>\n",
              "\n",
              "  <style>\n",
              "    .colab-df-container {\n",
              "      display:flex;\n",
              "      gap: 12px;\n",
              "    }\n",
              "\n",
              "    .colab-df-convert {\n",
              "      background-color: #E8F0FE;\n",
              "      border: none;\n",
              "      border-radius: 50%;\n",
              "      cursor: pointer;\n",
              "      display: none;\n",
              "      fill: #1967D2;\n",
              "      height: 32px;\n",
              "      padding: 0 0 0 0;\n",
              "      width: 32px;\n",
              "    }\n",
              "\n",
              "    .colab-df-convert:hover {\n",
              "      background-color: #E2EBFA;\n",
              "      box-shadow: 0px 1px 2px rgba(60, 64, 67, 0.3), 0px 1px 3px 1px rgba(60, 64, 67, 0.15);\n",
              "      fill: #174EA6;\n",
              "    }\n",
              "\n",
              "    .colab-df-buttons div {\n",
              "      margin-bottom: 4px;\n",
              "    }\n",
              "\n",
              "    [theme=dark] .colab-df-convert {\n",
              "      background-color: #3B4455;\n",
              "      fill: #D2E3FC;\n",
              "    }\n",
              "\n",
              "    [theme=dark] .colab-df-convert:hover {\n",
              "      background-color: #434B5C;\n",
              "      box-shadow: 0px 1px 3px 1px rgba(0, 0, 0, 0.15);\n",
              "      filter: drop-shadow(0px 1px 2px rgba(0, 0, 0, 0.3));\n",
              "      fill: #FFFFFF;\n",
              "    }\n",
              "  </style>\n",
              "\n",
              "    <script>\n",
              "      const buttonEl =\n",
              "        document.querySelector('#df-e79ea998-a5b7-48bb-a3d2-3e7b75767025 button.colab-df-convert');\n",
              "      buttonEl.style.display =\n",
              "        google.colab.kernel.accessAllowed ? 'block' : 'none';\n",
              "\n",
              "      async function convertToInteractive(key) {\n",
              "        const element = document.querySelector('#df-e79ea998-a5b7-48bb-a3d2-3e7b75767025');\n",
              "        const dataTable =\n",
              "          await google.colab.kernel.invokeFunction('convertToInteractive',\n",
              "                                                    [key], {});\n",
              "        if (!dataTable) return;\n",
              "\n",
              "        const docLinkHtml = 'Like what you see? Visit the ' +\n",
              "          '<a target=\"_blank\" href=https://colab.research.google.com/notebooks/data_table.ipynb>data table notebook</a>'\n",
              "          + ' to learn more about interactive tables.';\n",
              "        element.innerHTML = '';\n",
              "        dataTable['output_type'] = 'display_data';\n",
              "        await google.colab.output.renderOutput(dataTable, element);\n",
              "        const docLink = document.createElement('div');\n",
              "        docLink.innerHTML = docLinkHtml;\n",
              "        element.appendChild(docLink);\n",
              "      }\n",
              "    </script>\n",
              "  </div>\n",
              "\n",
              "\n",
              "<div id=\"df-d13d103d-b21b-4b11-bc41-53fc515ebba1\">\n",
              "  <button class=\"colab-df-quickchart\" onclick=\"quickchart('df-d13d103d-b21b-4b11-bc41-53fc515ebba1')\"\n",
              "            title=\"Suggest charts\"\n",
              "            style=\"display:none;\">\n",
              "\n",
              "<svg xmlns=\"http://www.w3.org/2000/svg\" height=\"24px\"viewBox=\"0 0 24 24\"\n",
              "     width=\"24px\">\n",
              "    <g>\n",
              "        <path d=\"M19 3H5c-1.1 0-2 .9-2 2v14c0 1.1.9 2 2 2h14c1.1 0 2-.9 2-2V5c0-1.1-.9-2-2-2zM9 17H7v-7h2v7zm4 0h-2V7h2v10zm4 0h-2v-4h2v4z\"/>\n",
              "    </g>\n",
              "</svg>\n",
              "  </button>\n",
              "\n",
              "<style>\n",
              "  .colab-df-quickchart {\n",
              "      --bg-color: #E8F0FE;\n",
              "      --fill-color: #1967D2;\n",
              "      --hover-bg-color: #E2EBFA;\n",
              "      --hover-fill-color: #174EA6;\n",
              "      --disabled-fill-color: #AAA;\n",
              "      --disabled-bg-color: #DDD;\n",
              "  }\n",
              "\n",
              "  [theme=dark] .colab-df-quickchart {\n",
              "      --bg-color: #3B4455;\n",
              "      --fill-color: #D2E3FC;\n",
              "      --hover-bg-color: #434B5C;\n",
              "      --hover-fill-color: #FFFFFF;\n",
              "      --disabled-bg-color: #3B4455;\n",
              "      --disabled-fill-color: #666;\n",
              "  }\n",
              "\n",
              "  .colab-df-quickchart {\n",
              "    background-color: var(--bg-color);\n",
              "    border: none;\n",
              "    border-radius: 50%;\n",
              "    cursor: pointer;\n",
              "    display: none;\n",
              "    fill: var(--fill-color);\n",
              "    height: 32px;\n",
              "    padding: 0;\n",
              "    width: 32px;\n",
              "  }\n",
              "\n",
              "  .colab-df-quickchart:hover {\n",
              "    background-color: var(--hover-bg-color);\n",
              "    box-shadow: 0 1px 2px rgba(60, 64, 67, 0.3), 0 1px 3px 1px rgba(60, 64, 67, 0.15);\n",
              "    fill: var(--button-hover-fill-color);\n",
              "  }\n",
              "\n",
              "  .colab-df-quickchart-complete:disabled,\n",
              "  .colab-df-quickchart-complete:disabled:hover {\n",
              "    background-color: var(--disabled-bg-color);\n",
              "    fill: var(--disabled-fill-color);\n",
              "    box-shadow: none;\n",
              "  }\n",
              "\n",
              "  .colab-df-spinner {\n",
              "    border: 2px solid var(--fill-color);\n",
              "    border-color: transparent;\n",
              "    border-bottom-color: var(--fill-color);\n",
              "    animation:\n",
              "      spin 1s steps(1) infinite;\n",
              "  }\n",
              "\n",
              "  @keyframes spin {\n",
              "    0% {\n",
              "      border-color: transparent;\n",
              "      border-bottom-color: var(--fill-color);\n",
              "      border-left-color: var(--fill-color);\n",
              "    }\n",
              "    20% {\n",
              "      border-color: transparent;\n",
              "      border-left-color: var(--fill-color);\n",
              "      border-top-color: var(--fill-color);\n",
              "    }\n",
              "    30% {\n",
              "      border-color: transparent;\n",
              "      border-left-color: var(--fill-color);\n",
              "      border-top-color: var(--fill-color);\n",
              "      border-right-color: var(--fill-color);\n",
              "    }\n",
              "    40% {\n",
              "      border-color: transparent;\n",
              "      border-right-color: var(--fill-color);\n",
              "      border-top-color: var(--fill-color);\n",
              "    }\n",
              "    60% {\n",
              "      border-color: transparent;\n",
              "      border-right-color: var(--fill-color);\n",
              "    }\n",
              "    80% {\n",
              "      border-color: transparent;\n",
              "      border-right-color: var(--fill-color);\n",
              "      border-bottom-color: var(--fill-color);\n",
              "    }\n",
              "    90% {\n",
              "      border-color: transparent;\n",
              "      border-bottom-color: var(--fill-color);\n",
              "    }\n",
              "  }\n",
              "</style>\n",
              "\n",
              "  <script>\n",
              "    async function quickchart(key) {\n",
              "      const quickchartButtonEl =\n",
              "        document.querySelector('#' + key + ' button');\n",
              "      quickchartButtonEl.disabled = true;  // To prevent multiple clicks.\n",
              "      quickchartButtonEl.classList.add('colab-df-spinner');\n",
              "      try {\n",
              "        const charts = await google.colab.kernel.invokeFunction(\n",
              "            'suggestCharts', [key], {});\n",
              "      } catch (error) {\n",
              "        console.error('Error during call to suggestCharts:', error);\n",
              "      }\n",
              "      quickchartButtonEl.classList.remove('colab-df-spinner');\n",
              "      quickchartButtonEl.classList.add('colab-df-quickchart-complete');\n",
              "    }\n",
              "    (() => {\n",
              "      let quickchartButtonEl =\n",
              "        document.querySelector('#df-d13d103d-b21b-4b11-bc41-53fc515ebba1 button');\n",
              "      quickchartButtonEl.style.display =\n",
              "        google.colab.kernel.accessAllowed ? 'block' : 'none';\n",
              "    })();\n",
              "  </script>\n",
              "</div>\n",
              "    </div>\n",
              "  </div>\n"
            ]
          },
          "metadata": {},
          "execution_count": 18
        }
      ],
      "source": [
        "customer_data.head()"
      ]
    },
    {
      "cell_type": "markdown",
      "metadata": {
        "id": "EOdmMvPSwAa3"
      },
      "source": [
        "# **Exploratory Data Analysis**"
      ]
    },
    {
      "cell_type": "markdown",
      "metadata": {
        "id": "MT5MO5fkTB_m"
      },
      "source": [
        "**Age Range of Customer**"
      ]
    },
    {
      "cell_type": "code",
      "execution_count": null,
      "metadata": {
        "id": "qsGeZI5G28ps"
      },
      "outputs": [],
      "source": [
        "# Calculating percentage of age range\n",
        "age_range = customer_data.groupby('Age_Group').size().reset_index(name='num')\n",
        "age_range['percentage'] = (age_range['num'] * 100 / age_range['num'].sum()).round(2)"
      ]
    },
    {
      "cell_type": "code",
      "execution_count": null,
      "metadata": {
        "colab": {
          "base_uri": "https://localhost:8080/"
        },
        "id": "7oe_IWPHCSfP",
        "outputId": "49f1b37d-accc-4546-ef4c-6c933511a82e"
      },
      "outputs": [
        {
          "output_type": "stream",
          "name": "stdout",
          "text": [
            "     Age_Group   num  percentage\n",
            "0  Middle Aged   533       24.05\n",
            "1          Old  1668       75.27\n",
            "2        Youth    15        0.68\n"
          ]
        }
      ],
      "source": [
        "print(age_range)"
      ]
    },
    {
      "cell_type": "code",
      "execution_count": null,
      "metadata": {
        "colab": {
          "base_uri": "https://localhost:8080/",
          "height": 444
        },
        "id": "2sXIlmawyoSQ",
        "outputId": "ef226686-cd2f-4ef8-e8e6-00443c95d2d6"
      },
      "outputs": [
        {
          "output_type": "display_data",
          "data": {
            "text/plain": [
              "<Figure size 700x500 with 1 Axes>"
            ],
            "image/png": "[encoded data removed]"
          },
          "metadata": {}
        }
      ],
      "source": [
        "#Plotting age range distribution\n",
        "labels = age_range['Age_Group']\n",
        "sizes = age_range['num']\n",
        "colors = [\"#41B7C4\", \"#CCEDB1\", \"#F5CA63\"]\n",
        "\n",
        "# Create a pie chart\n",
        "plt.figure(figsize=(7, 5))\n",
        "plt.pie(sizes, labels=labels, colors=colors, autopct='%1.2f%%', startangle=140)\n",
        "plt.title('Age Range Distribution')\n",
        "plt.legend(bbox_to_anchor=(1, 1), loc='upper left', borderaxespad=0)\n",
        "plt.show()"
      ]
    },
    {
      "cell_type": "markdown",
      "metadata": {
        "id": "RaxI8pB5a73P"
      },
      "source": [
        "*Observation:*\n",
        "\n",
        "*   75.27% of customers are aged above 45\n",
        "*   24.05% of them are Middle Aged (between 30 and 45)\n",
        "*   There is no significant amount of Children and Youth customer\n"
      ]
    },
    {
      "cell_type": "markdown",
      "metadata": {
        "id": "iDuLusQnbO4i"
      },
      "source": [
        "**Education Level of Customer**"
      ]
    },
    {
      "cell_type": "code",
      "execution_count": null,
      "metadata": {
        "id": "AvSa8zoE2RCn"
      },
      "outputs": [],
      "source": [
        "# Calculating percentage of education level\n",
        "education_range = customer_data.groupby('Education').size().reset_index(name='num')\n",
        "education_range['percentage'] = (education_range['num'] * 100 / age_range['num'].sum()).round(2)"
      ]
    },
    {
      "cell_type": "code",
      "execution_count": null,
      "metadata": {
        "colab": {
          "base_uri": "https://localhost:8080/"
        },
        "id": "u8LAx2FE2ru2",
        "outputId": "ae27145b-33a7-458e-a9b4-014633f2fa5b"
      },
      "outputs": [
        {
          "output_type": "stream",
          "name": "stdout",
          "text": [
            "    Education   num  percentage\n",
            "0       Basic    54        2.44\n",
            "1  Graduation  1116       50.36\n",
            "2      Master   565       25.50\n",
            "3         PhD   481       21.71\n"
          ]
        }
      ],
      "source": [
        "print(education_range)"
      ]
    },
    {
      "cell_type": "code",
      "execution_count": null,
      "metadata": {
        "colab": {
          "base_uri": "https://localhost:8080/",
          "height": 428
        },
        "id": "CAblwV5L009G",
        "outputId": "bb9ebf0d-155c-4971-ee00-a00ae6fb4ff9"
      },
      "outputs": [
        {
          "output_type": "display_data",
          "data": {
            "text/plain": [
              "<Figure size 640x480 with 1 Axes>"
            ],
            "image/png": "[encoded data removed]"
          },
          "metadata": {}
        }
      ],
      "source": [
        "# Plotting Education Level Distribution\n",
        "labels = education_range['Education']\n",
        "sizes = education_range['num']\n",
        "colors = [\"#41B7C4\", \"#CCEDB1\", \"#F5CA63\", \"#808A87\"]\n",
        "\n",
        "# Create a pie chart\n",
        "plt.pie(sizes, labels=labels, colors=colors, autopct='%1.2f%%', startangle=140)\n",
        "plt.title('Education Level Distribution')\n",
        "plt.legend(bbox_to_anchor=(1, 1), loc='upper left', borderaxespad=0)\n",
        "plt.show()"
      ]
    },
    {
      "cell_type": "markdown",
      "metadata": {
        "id": "m0CKt9gu3K92"
      },
      "source": [
        "*Observation:*\n",
        "\n",
        "*  50.36% of customers are Graduation\n",
        "*  25.50% of customers are Master\n",
        "*  21.71% of customers are PhD\n",
        "*  Slightly amount of customers are Basic\n"
      ]
    },
    {
      "cell_type": "markdown",
      "metadata": {
        "id": "vFSjDydLc7Rf"
      },
      "source": [
        "**Marital Level of Customer**"
      ]
    },
    {
      "cell_type": "code",
      "execution_count": null,
      "metadata": {
        "id": "dpPNLYnr-ho5"
      },
      "outputs": [],
      "source": [
        "# Calculating percentage of marital status\n",
        "marital_range = customer_data.groupby('Marital_Status').size().reset_index(name='num')\n",
        "marital_range['percentage'] = (education_range['num'] * 100 / age_range['num'].sum()).round(2)"
      ]
    },
    {
      "cell_type": "code",
      "execution_count": null,
      "metadata": {
        "colab": {
          "base_uri": "https://localhost:8080/"
        },
        "id": "CWt9Iq2B-zlW",
        "outputId": "fa590403-7258-49b2-a521-1a6edab81294"
      },
      "outputs": [
        {
          "output_type": "stream",
          "name": "stdout",
          "text": [
            "    Marital_Status   num  percentage\n",
            "0  In relationship  1430        2.44\n",
            "1           Single   786       50.36\n"
          ]
        }
      ],
      "source": [
        "print(marital_range)"
      ]
    },
    {
      "cell_type": "code",
      "execution_count": null,
      "metadata": {
        "colab": {
          "base_uri": "https://localhost:8080/",
          "height": 428
        },
        "id": "KbnjTmed22Ph",
        "outputId": "4f2510ae-86ec-4a0f-b3f6-713c3a563a48"
      },
      "outputs": [
        {
          "output_type": "display_data",
          "data": {
            "text/plain": [
              "<Figure size 640x480 with 1 Axes>"
            ],
            "image/png": "[encoded data removed]"
          },
          "metadata": {}
        }
      ],
      "source": [
        "# Plotting Marital Status Distribution\n",
        "labels = marital_range['Marital_Status']\n",
        "sizes = marital_range['num']\n",
        "colors = [\"#41B7C4\", \"#CCEDB1\"]\n",
        "\n",
        "# Create a pie chart\n",
        "plt.pie(sizes, labels=labels, colors=colors, autopct='%1.2f%%', startangle=140)\n",
        "plt.title('Marital Status Distribution')\n",
        "plt.legend(bbox_to_anchor=(1, 1), loc='upper left', borderaxespad=0)\n",
        "plt.show()"
      ]
    },
    {
      "cell_type": "markdown",
      "metadata": {
        "id": "hNETJmO7_GkN"
      },
      "source": [
        "*Observation:*\n",
        "\n",
        "*   64.53% of customers are in relationship\n",
        "*   35.47% of them are single\n"
      ]
    },
    {
      "cell_type": "markdown",
      "metadata": {
        "id": "yzl9Feqiieur"
      },
      "source": [
        "**Total Spent Variable**"
      ]
    },
    {
      "cell_type": "code",
      "execution_count": null,
      "metadata": {
        "id": "kXWtA3hq4FJL"
      },
      "outputs": [],
      "source": [
        "from matplotlib.ticker import PercentFormatter"
      ]
    },
    {
      "cell_type": "code",
      "execution_count": null,
      "metadata": {
        "colab": {
          "base_uri": "https://localhost:8080/",
          "height": 449
        },
        "id": "DcdAVdMt4cI-",
        "outputId": "d12db0c0-eb07-4b7d-d5e4-f7e591680582"
      },
      "outputs": [
        {
          "output_type": "display_data",
          "data": {
            "text/plain": [
              "<Figure size 640x480 with 1 Axes>"
            ],
            "image/png": "[encoded data removed]"
          },
          "metadata": {}
        }
      ],
      "source": [
        "plt.hist(customer_data['Total_Spent'], weights=np.ones(len(customer_data['Total_Spent'])) / len(customer_data['Total_Spent'])*100, bins=5, alpha=0.5, color='lightblue', edgecolor='darkblue')\n",
        "# Customize the x-axis ticks\n",
        "plt.xticks(np.arange(0, 2501, 500))\n",
        "\n",
        "# Customize the y-axis\n",
        "plt.gca().yaxis.set_major_formatter(PercentFormatter())\n",
        "# Labeling\n",
        "plt.xlabel('Total Spent')\n",
        "plt.ylabel('Probability')\n",
        "\n",
        "plt.show()"
      ]
    },
    {
      "cell_type": "markdown",
      "metadata": {
        "id": "0D7vBLP7MlvY"
      },
      "source": [
        "*Observation :*\n",
        "\n",
        "*   58% of customers have spending below 500 dollars\n",
        "*   18% of customer have spending between 500 dollars and 1000 dollars\n",
        "*   16% of customer have spending between 1000 dollars and 1500 dollars\n",
        "*   Spending more than 2000 dollars seems to be rare"
      ]
    },
    {
      "cell_type": "code",
      "execution_count": null,
      "metadata": {
        "colab": {
          "base_uri": "https://localhost:8080/",
          "height": 542
        },
        "id": "rdRLENGX0s9T",
        "outputId": "1313f21d-f848-422d-e047-e52491e5d419"
      },
      "outputs": [
        {
          "output_type": "display_data",
          "data": {
            "text/plain": [
              "<Figure size 800x600 with 1 Axes>"
            ],
            "image/png": "[encoded data removed]"
          },
          "metadata": {}
        }
      ],
      "source": [
        "# Sort the data for ECDF plotting\n",
        "sorted_data = np.sort(customer_data['Total_Spent'])\n",
        "\n",
        "# Calculate the ECDF\n",
        "y = np.arange(1, len(sorted_data) + 1) / len(sorted_data)\n",
        "\n",
        "# Create the ECDF plot\n",
        "plt.figure(figsize=(8, 6))\n",
        "plt.step(sorted_data, y, color=\"#00AFBB\", linestyle='--', linewidth=1)\n",
        "\n",
        "# Customize the y-axis ticks\n",
        "plt.yticks(np.arange(0, 1.1, 0.1))\n",
        "\n",
        "# Labeling\n",
        "plt.xlabel('Total Spent')\n",
        "plt.ylabel('ECDF')\n",
        "\n",
        "# Apply a white background theme\n",
        "plt.style.use('ggplot')\n",
        "\n",
        "# Show the plot\n",
        "plt.show()"
      ]
    },
    {
      "cell_type": "markdown",
      "metadata": {
        "id": "souoogh_Wb6d"
      },
      "source": [
        "*Observation :*\n",
        "\n",
        "*   To support the previous graph, more than 95% of customer spent less than 2000 dollars\n",
        "*   55% of customer spending less than 500 dollars\n",
        "\n"
      ]
    },
    {
      "cell_type": "markdown",
      "metadata": {
        "id": "wTUprhJxVtDF"
      },
      "source": [
        "**TOTAL INCOME VARIABLE**\n"
      ]
    },
    {
      "cell_type": "code",
      "execution_count": null,
      "metadata": {
        "colab": {
          "base_uri": "https://localhost:8080/",
          "height": 459,
          "resources": {
            "http://localhost:8080/undefined": {
              "data": "CjwhRE9DVFlQRSBodG1sPgo8aHRtbCBsYW5nPWVuPgogIDxtZXRhIGNoYXJzZXQ9dXRmLTg+CiAgPG1ldGEgbmFtZT12aWV3cG9ydCBjb250ZW50PSJpbml0aWFsLXNjYWxlPTEsIG1pbmltdW0tc2NhbGU9MSwgd2lkdGg9ZGV2aWNlLXdpZHRoIj4KICA8dGl0bGU+RXJyb3IgNDA0IChOb3QgRm91bmQpISExPC90aXRsZT4KICA8c3R5bGU+CiAgICAqe21hcmdpbjowO3BhZGRpbmc6MH1odG1sLGNvZGV7Zm9udDoxNXB4LzIycHggYXJpYWwsc2Fucy1zZXJpZn1odG1se2JhY2tncm91bmQ6I2ZmZjtjb2xvcjojMjIyO3BhZGRpbmc6MTVweH1ib2R5e21hcmdpbjo3JSBhdXRvIDA7bWF4LXdpZHRoOjM5MHB4O21pbi1oZWlnaHQ6MTgwcHg7cGFkZGluZzozMHB4IDAgMTVweH0qID4gYm9keXtiYWNrZ3JvdW5kOnVybCgvL3d3dy5nb29nbGUuY29tL2ltYWdlcy9lcnJvcnMvcm9ib3QucG5nKSAxMDAlIDVweCBuby1yZXBlYXQ7cGFkZGluZy1yaWdodDoyMDVweH1we21hcmdpbjoxMXB4IDAgMjJweDtvdmVyZmxvdzpoaWRkZW59aW5ze2NvbG9yOiM3Nzc7dGV4dC1kZWNvcmF0aW9uOm5vbmV9YSBpbWd7Ym9yZGVyOjB9QG1lZGlhIHNjcmVlbiBhbmQgKG1heC13aWR0aDo3NzJweCl7Ym9keXtiYWNrZ3JvdW5kOm5vbmU7bWFyZ2luLXRvcDowO21heC13aWR0aDpub25lO3BhZGRpbmctcmlnaHQ6MH19I2xvZ297YmFja2dyb3VuZDp1cmwoLy93d3cuZ29vZ2xlLmNvbS9pbWFnZXMvbG9nb3MvZXJyb3JwYWdlL2Vycm9yX2xvZ28tMTUweDU0LnBuZykgbm8tcmVwZWF0O21hcmdpbi1sZWZ0Oi01cHh9QG1lZGlhIG9ubHkgc2NyZWVuIGFuZCAobWluLXJlc29sdXRpb246MTkyZHBpKXsjbG9nb3tiYWNrZ3JvdW5kOnVybCgvL3d3dy5nb29nbGUuY29tL2ltYWdlcy9sb2dvcy9lcnJvcnBhZ2UvZXJyb3JfbG9nby0xNTB4NTQtMngucG5nKSBuby1yZXBlYXQgMCUgMCUvMTAwJSAxMDAlOy1tb3otYm9yZGVyLWltYWdlOnVybCgvL3d3dy5nb29nbGUuY29tL2ltYWdlcy9sb2dvcy9lcnJvcnBhZ2UvZXJyb3JfbG9nby0xNTB4NTQtMngucG5nKSAwfX1AbWVkaWEgb25seSBzY3JlZW4gYW5kICgtd2Via2l0LW1pbi1kZXZpY2UtcGl4ZWwtcmF0aW86Mil7I2xvZ297YmFja2dyb3VuZDp1cmwoLy93d3cuZ29vZ2xlLmNvbS9pbWFnZXMvbG9nb3MvZXJyb3JwYWdlL2Vycm9yX2xvZ28tMTUweDU0LTJ4LnBuZykgbm8tcmVwZWF0Oy13ZWJraXQtYmFja2dyb3VuZC1zaXplOjEwMCUgMTAwJX19I2xvZ297ZGlzcGxheTppbmxpbmUtYmxvY2s7aGVpZ2h0OjU0cHg7d2lkdGg6MTUwcHh9CiAgPC9zdHlsZT4KICA8YSBocmVmPS8vd3d3Lmdvb2dsZS5jb20vPjxzcGFuIGlkPWxvZ28gYXJpYS1sYWJlbD1Hb29nbGU+PC9zcGFuPjwvYT4KICA8cD48Yj40MDQuPC9iPiA8aW5zPlRoYXTigJlzIGFuIGVycm9yLjwvaW5zPgogIDxwPiAgPGlucz5UaGF04oCZcyBhbGwgd2Uga25vdy48L2lucz4K",
              "ok": false,
              "headers": [
                [
                  "content-length",
                  "1449"
                ],
                [
                  "content-type",
                  "text/html; charset=utf-8"
                ]
              ],
              "status": 404,
              "status_text": ""
            }
          }
        },
        "id": "9PhymGuNS3fl",
        "outputId": "228651f5-e5aa-4df3-d58a-4a6f75f6b9b5"
      },
      "outputs": [
        {
          "output_type": "display_data",
          "data": {
            "text/plain": [
              "<Figure size 640x480 with 1 Axes>"
            ],
            "image/png": "[encoded data removed]"
          },
          "metadata": {}
        }
      ],
      "source": [
        "plt.hist(customer_data['Income'], weights=np.ones(len(customer_data['Income'])) / len(customer_data['Income'])*100,  range=(0,200000), bins=5, alpha=0.5, color='lightblue', edgecolor='darkblue')\n",
        "\n",
        "# Customize the x-axis limits and ticks\n",
        "plt.xlim(0, 200000)\n",
        "plt.xticks(np.arange(0, 200001, 20000))\n",
        "\n",
        "# Customize the y-axis\n",
        "plt.gca().yaxis.set_major_formatter(PercentFormatter())\n",
        "\n",
        "# Labeling\n",
        "plt.xlabel('Income')\n",
        "plt.ylabel('Probability')\n",
        "\n",
        "plt.show()"
      ]
    },
    {
      "cell_type": "markdown",
      "metadata": {
        "id": "64F_JzLBxsqO"
      },
      "source": [
        "*Observation :*\n",
        "\n",
        "*   58% of customer earn between 40k and 80k dollars annually\n",
        "*   32% of customer spending less than 500 dollars\n",
        "*   32% of customer spending less than 500 dollars\n"
      ]
    },
    {
      "cell_type": "code",
      "execution_count": null,
      "metadata": {
        "colab": {
          "base_uri": "https://localhost:8080/",
          "height": 477
        },
        "id": "6hZOKjNhV_BV",
        "outputId": "5e3ee6b6-106e-48a8-e417-819238a81eff"
      },
      "outputs": [
        {
          "output_type": "display_data",
          "data": {
            "text/plain": [
              "<Figure size 640x480 with 1 Axes>"
            ],
            "image/png": "[encoded data removed]"
          },
          "metadata": {}
        }
      ],
      "source": [
        "# Sort the data for CDF plotting\n",
        "sorted_data = np.sort(customer_data['Income'])\n",
        "\n",
        "# Calculate the CDF\n",
        "y = np.arange(1, len(sorted_data) + 1) / len(sorted_data)\n",
        "\n",
        "# Create the CDF plot\n",
        "plt.step(sorted_data, y, color=\"#00AFBB\", linestyle='--', linewidth=1)\n",
        "\n",
        "# Customize the x-axis and y-axis ticks\n",
        "plt.xticks(np.arange(0,200000, step=20000))\n",
        "plt.yticks(np.arange(0, 1.1, 0.1))\n",
        "plt.xlim(0, 200000)\n",
        "\n",
        "# Labeling\n",
        "plt.xlabel('Income')\n",
        "plt.ylabel('CDF')\n",
        "plt.title('Cumulative Distribution Function (CDF) Plot of Income')\n",
        "\n",
        "# Apply a white background theme\n",
        "plt.style.use('ggplot')\n",
        "\n",
        "# Show the plot\n",
        "plt.show()"
      ]
    },
    {
      "cell_type": "markdown",
      "metadata": {
        "id": "M504PnnakQob"
      },
      "source": [
        "*Observation:*\n",
        "\n",
        "More than 95% customer earn less the 100k dollars."
      ]
    },
    {
      "cell_type": "markdown",
      "metadata": {
        "id": "sV54YkKYnisI"
      },
      "source": [
        "**Correlation between Income and Expense Varibale (Total Spent)**"
      ]
    },
    {
      "cell_type": "code",
      "execution_count": null,
      "metadata": {
        "colab": {
          "base_uri": "https://localhost:8080/"
        },
        "id": "aZUQ8-6Klnt-",
        "outputId": "c0c8fbcc-21d0-4556-b486-be23b660b9b0"
      },
      "outputs": [
        {
          "output_type": "stream",
          "name": "stdout",
          "text": [
            "Correlation Coefficient: 0.6675760903888284\n",
            "P-value: 5.843958806402649e-286\n"
          ]
        }
      ],
      "source": [
        "import scipy.stats as stats\n",
        "\n",
        "# Perform the correlation test\n",
        "correlation_coefficient, p_value = stats.pearsonr(customer_data['Income'], customer_data['Total_Spent'])\n",
        "\n",
        "# Print the results\n",
        "print(\"Correlation Coefficient:\", correlation_coefficient)\n",
        "print(\"P-value:\", p_value)"
      ]
    },
    {
      "cell_type": "code",
      "execution_count": null,
      "metadata": {
        "colab": {
          "base_uri": "https://localhost:8080/",
          "height": 480
        },
        "id": "CsO-3Yoostn4",
        "outputId": "7c36d8a1-db94-436c-d56a-a8444cf8aeed"
      },
      "outputs": [
        {
          "output_type": "display_data",
          "data": {
            "text/plain": [
              "<Figure size 640x480 with 1 Axes>"
            ],
            "image/png": "[encoded data removed]"
          },
          "metadata": {}
        }
      ],
      "source": [
        "sea.set(style=\"whitegrid\")\n",
        "\n",
        "# Create the scatterplot\n",
        "sea.scatterplot(data=customer_data, x=\"Income\", y=\"Total_Spent\", color=\"green\", edgecolor=\"black\", linewidth=0.5, s=40)\n",
        "\n",
        "# Set x-axis and y-axis limits and ticks\n",
        "plt.xlim(0, 200000)\n",
        "plt.xticks(range(0, 200001, 20000))\n",
        "plt.ylim(0, 4000)\n",
        "plt.yticks(range(0, 4001, 1000))\n",
        "\n",
        "# Add a linear regression line\n",
        "sea.regplot(data=customer_data, x=\"Income\", y=\"Total_Spent\", scatter=False, color=\"darkred\", line_kws={\"linestyle\": \"--\"})\n",
        "\n",
        "# Labeling\n",
        "plt.xlabel('Income')\n",
        "plt.ylabel('Total Spent')\n",
        "plt.title('Correlation between Income and Total Spent')\n",
        "\n",
        "# Display the plot\n",
        "plt.show()\n"
      ]
    },
    {
      "cell_type": "markdown",
      "metadata": {
        "id": "UDozKLr_uROY"
      },
      "source": [
        "*Observation :*\n",
        "\n",
        "The correlation coefficient between income and total spent variable is 0.66. This shows that, income and the expense variable have a moderate correlation postively."
      ]
    },
    {
      "cell_type": "markdown",
      "metadata": {
        "id": "E-6AF1Da1ile"
      },
      "source": [
        "**Average amount spend by customers with respect to Education**"
      ]
    },
    {
      "cell_type": "code",
      "execution_count": null,
      "metadata": {
        "colab": {
          "base_uri": "https://localhost:8080/",
          "height": 458,
          "resources": {
            "http://localhost:8080/undefined": {
              "data": "CjwhRE9DVFlQRSBodG1sPgo8aHRtbCBsYW5nPWVuPgogIDxtZXRhIGNoYXJzZXQ9dXRmLTg+CiAgPG1ldGEgbmFtZT12aWV3cG9ydCBjb250ZW50PSJpbml0aWFsLXNjYWxlPTEsIG1pbmltdW0tc2NhbGU9MSwgd2lkdGg9ZGV2aWNlLXdpZHRoIj4KICA8dGl0bGU+RXJyb3IgNDA0IChOb3QgRm91bmQpISExPC90aXRsZT4KICA8c3R5bGU+CiAgICAqe21hcmdpbjowO3BhZGRpbmc6MH1odG1sLGNvZGV7Zm9udDoxNXB4LzIycHggYXJpYWwsc2Fucy1zZXJpZn1odG1se2JhY2tncm91bmQ6I2ZmZjtjb2xvcjojMjIyO3BhZGRpbmc6MTVweH1ib2R5e21hcmdpbjo3JSBhdXRvIDA7bWF4LXdpZHRoOjM5MHB4O21pbi1oZWlnaHQ6MTgwcHg7cGFkZGluZzozMHB4IDAgMTVweH0qID4gYm9keXtiYWNrZ3JvdW5kOnVybCgvL3d3dy5nb29nbGUuY29tL2ltYWdlcy9lcnJvcnMvcm9ib3QucG5nKSAxMDAlIDVweCBuby1yZXBlYXQ7cGFkZGluZy1yaWdodDoyMDVweH1we21hcmdpbjoxMXB4IDAgMjJweDtvdmVyZmxvdzpoaWRkZW59aW5ze2NvbG9yOiM3Nzc7dGV4dC1kZWNvcmF0aW9uOm5vbmV9YSBpbWd7Ym9yZGVyOjB9QG1lZGlhIHNjcmVlbiBhbmQgKG1heC13aWR0aDo3NzJweCl7Ym9keXtiYWNrZ3JvdW5kOm5vbmU7bWFyZ2luLXRvcDowO21heC13aWR0aDpub25lO3BhZGRpbmctcmlnaHQ6MH19I2xvZ297YmFja2dyb3VuZDp1cmwoLy93d3cuZ29vZ2xlLmNvbS9pbWFnZXMvbG9nb3MvZXJyb3JwYWdlL2Vycm9yX2xvZ28tMTUweDU0LnBuZykgbm8tcmVwZWF0O21hcmdpbi1sZWZ0Oi01cHh9QG1lZGlhIG9ubHkgc2NyZWVuIGFuZCAobWluLXJlc29sdXRpb246MTkyZHBpKXsjbG9nb3tiYWNrZ3JvdW5kOnVybCgvL3d3dy5nb29nbGUuY29tL2ltYWdlcy9sb2dvcy9lcnJvcnBhZ2UvZXJyb3JfbG9nby0xNTB4NTQtMngucG5nKSBuby1yZXBlYXQgMCUgMCUvMTAwJSAxMDAlOy1tb3otYm9yZGVyLWltYWdlOnVybCgvL3d3dy5nb29nbGUuY29tL2ltYWdlcy9sb2dvcy9lcnJvcnBhZ2UvZXJyb3JfbG9nby0xNTB4NTQtMngucG5nKSAwfX1AbWVkaWEgb25seSBzY3JlZW4gYW5kICgtd2Via2l0LW1pbi1kZXZpY2UtcGl4ZWwtcmF0aW86Mil7I2xvZ297YmFja2dyb3VuZDp1cmwoLy93d3cuZ29vZ2xlLmNvbS9pbWFnZXMvbG9nb3MvZXJyb3JwYWdlL2Vycm9yX2xvZ28tMTUweDU0LTJ4LnBuZykgbm8tcmVwZWF0Oy13ZWJraXQtYmFja2dyb3VuZC1zaXplOjEwMCUgMTAwJX19I2xvZ297ZGlzcGxheTppbmxpbmUtYmxvY2s7aGVpZ2h0OjU0cHg7d2lkdGg6MTUwcHh9CiAgPC9zdHlsZT4KICA8YSBocmVmPS8vd3d3Lmdvb2dsZS5jb20vPjxzcGFuIGlkPWxvZ28gYXJpYS1sYWJlbD1Hb29nbGU+PC9zcGFuPjwvYT4KICA8cD48Yj40MDQuPC9iPiA8aW5zPlRoYXTigJlzIGFuIGVycm9yLjwvaW5zPgogIDxwPiAgPGlucz5UaGF04oCZcyBhbGwgd2Uga25vdy48L2lucz4K",
              "ok": false,
              "headers": [
                [
                  "content-length",
                  "1449"
                ],
                [
                  "content-type",
                  "text/html; charset=utf-8"
                ]
              ],
              "status": 404,
              "status_text": ""
            }
          }
        },
        "id": "xUE0jiA1tPwl",
        "outputId": "e4721a25-215f-4b52-a136-c0408bcec2b7"
      },
      "outputs": [
        {
          "output_type": "display_data",
          "data": {
            "text/plain": [
              "<Figure size 640x480 with 1 Axes>"
            ],
            "image/png": "[encoded data removed]"
          },
          "metadata": {}
        }
      ],
      "source": [
        "sea.set(style=\"whitegrid\")\n",
        "\n",
        "# Create the box plot\n",
        "sea.boxplot(data=customer_data, x=\"Education\", y=\"Total_Spent\", palette=\"Set2\")\n",
        "\n",
        "# Labeling\n",
        "plt.xlabel('Education')\n",
        "plt.ylabel('Total Spent')\n",
        "\n",
        "# Display the plot\n",
        "plt.show()"
      ]
    },
    {
      "cell_type": "markdown",
      "metadata": {
        "id": "MspHkryFpJiT"
      },
      "source": [
        "*Observation :*\n",
        "\n",
        "The average amount spend  by the customer with basic education customer is lower than other. Customer with PhD customer is the highest average amount spend."
      ]
    },
    {
      "cell_type": "markdown",
      "metadata": {
        "id": "clOnxWB54FfC"
      },
      "source": [
        "**Average amount spend by customers with respect to Marital Status**"
      ]
    },
    {
      "cell_type": "code",
      "execution_count": null,
      "metadata": {
        "colab": {
          "base_uri": "https://localhost:8080/",
          "height": 458
        },
        "id": "hbYdq9IT1sTv",
        "outputId": "975b1687-d003-40e9-e218-ceacb5efcc65"
      },
      "outputs": [
        {
          "output_type": "display_data",
          "data": {
            "text/plain": [
              "<Figure size 640x480 with 1 Axes>"
            ],
            "image/png": "[encoded data removed]"
          },
          "metadata": {}
        }
      ],
      "source": [
        "sea.set(style=\"whitegrid\")\n",
        "\n",
        "# Create the box plot\n",
        "sea.boxplot(data=customer_data, x=\"Marital_Status\", y=\"Total_Spent\", palette=\"Set2\")\n",
        "\n",
        "# Labeling\n",
        "plt.xlabel('Marital Status')\n",
        "plt.ylabel('Total Spent')\n",
        "\n",
        "# Display the plot\n",
        "plt.show()"
      ]
    },
    {
      "cell_type": "markdown",
      "metadata": {
        "id": "SdvAOX7ip9Rv"
      },
      "source": [
        "*Observation :*\n",
        "\n",
        "The average amount spend  by the customer who are single is slighly bigger than customer who in relationship."
      ]
    },
    {
      "cell_type": "markdown",
      "metadata": {
        "id": "__DubunE4gAg"
      },
      "source": [
        "**Average amount spend by customers with respect to Age Range**"
      ]
    },
    {
      "cell_type": "code",
      "execution_count": null,
      "metadata": {
        "colab": {
          "base_uri": "https://localhost:8080/",
          "height": 458
        },
        "id": "MsFYUU3G4Pme",
        "outputId": "b14d4bc5-7d70-450e-f22c-0bb5604d1537"
      },
      "outputs": [
        {
          "output_type": "display_data",
          "data": {
            "text/plain": [
              "<Figure size 640x480 with 1 Axes>"
            ],
            "image/png": "[encoded data removed]"
          },
          "metadata": {}
        }
      ],
      "source": [
        "sea.set(style=\"whitegrid\")\n",
        "\n",
        "# Create the box plot\n",
        "sea.boxplot(data=customer_data, x=\"Age_Group\", y=\"Total_Spent\", palette=\"Set2\")\n",
        "\n",
        "# Labeling\n",
        "plt.xlabel('Age Group')\n",
        "plt.ylabel('Total Spent')\n",
        "\n",
        "# Display the plot\n",
        "plt.show()"
      ]
    },
    {
      "cell_type": "markdown",
      "metadata": {
        "id": "J1u3P2WVqxLm"
      },
      "source": [
        "*Observation :*\n",
        "\n",
        "Customer who aged between 17 and 30 spend more than the other age range."
      ]
    },
    {
      "cell_type": "markdown",
      "metadata": {
        "id": "MhSMSxVr5NVz"
      },
      "source": [
        "**Average amount spend by customers with respect to Products**"
      ]
    },
    {
      "cell_type": "code",
      "execution_count": null,
      "metadata": {
        "colab": {
          "base_uri": "https://localhost:8080/"
        },
        "id": "PDPCJ2Sx47p6",
        "outputId": "b56410bb-e253-46d6-9d32-c53d3d42ee01"
      },
      "outputs": [
        {
          "output_type": "stream",
          "name": "stdout",
          "text": [
            "  Product_Name  Total_Spent\n",
            "0         Wine        635.0\n",
            "1        Fruit         88.0\n",
            "2         Meat        546.0\n"
          ]
        }
      ],
      "source": [
        "# Select columns that start with \"Mnt\"\n",
        "products_df = customer_data.filter(like=\"Mnt\")\n",
        "\n",
        "# Create a DataFrame with the Product_Name column\n",
        "Product_Name = pd.DataFrame({'Product_Name': ['Wine', 'Fruit', 'Meat', 'Fish', 'Sweet', 'Gold'] * 2240})\n",
        "\n",
        "# Create a DataFrame with Total_Spent\n",
        "Total_Spent = pd.DataFrame({'Total_Spent': products_df.values.ravel()})\n",
        "\n",
        "# Combine Product_Name and Total_Spent\n",
        "products_df = pd.concat([Product_Name, Total_Spent], axis=1)\n",
        "\n",
        "# Display the first 3 rows\n",
        "print(products_df.head(3))\n"
      ]
    },
    {
      "cell_type": "code",
      "execution_count": null,
      "metadata": {
        "colab": {
          "base_uri": "https://localhost:8080/",
          "height": 458
        },
        "id": "0ZQ1Tr4J7D2x",
        "outputId": "de3f47c0-0595-4d0d-ee3b-1c8d12379e0b"
      },
      "outputs": [
        {
          "output_type": "display_data",
          "data": {
            "text/plain": [
              "<Figure size 640x480 with 1 Axes>"
            ],
            "image/png": "[encoded data removed]"
          },
          "metadata": {}
        }
      ],
      "source": [
        "sea.set(style=\"whitegrid\")\n",
        "\n",
        "# Create the box plot\n",
        "sea.boxplot(data=products_df, x=\"Product_Name\", y=\"Total_Spent\", palette=\"Set2\", fliersize=5, linewidth=1)\n",
        "\n",
        "# Rotate x-axis labels for better visibility\n",
        "#plt.xticks(rotation=45)\n",
        "\n",
        "# Labeling\n",
        "plt.xlabel('Product Name')\n",
        "plt.ylabel('Total Spent')\n",
        "\n",
        "# Display the plot\n",
        "plt.show()\n"
      ]
    },
    {
      "cell_type": "markdown",
      "metadata": {
        "id": "xHa_gD0-7p9U"
      },
      "source": [
        "**Observations:**\n",
        "\n",
        "Amount spend on prducts such as Wine & Meat seem to be high than the other products."
      ]
    },
    {
      "cell_type": "markdown",
      "metadata": {
        "id": "BFKOE31Jnjqr"
      },
      "source": [
        "**CDF & PDF of Customer Purchases in last 2 years**"
      ]
    },
    {
      "cell_type": "code",
      "execution_count": null,
      "metadata": {
        "colab": {
          "base_uri": "https://localhost:8080/",
          "height": 458
        },
        "id": "WLJjNqHyjhGl",
        "outputId": "7671f27d-6261-4b79-8666-2b6fc22a4e12"
      },
      "outputs": [
        {
          "output_type": "display_data",
          "data": {
            "text/plain": [
              "<Figure size 640x480 with 1 Axes>"
            ],
            "image/png": "[encoded data removed]"
          },
          "metadata": {}
        }
      ],
      "source": [
        "# Plotting histogram\n",
        "plt.hist(customer_data['Total_Purchases'], weights=np.ones(len(customer_data['Total_Purchases'])) / len(customer_data['Total_Purchases'])*100, bins=6, alpha=0.5, color='lightblue', edgecolor='darkblue')\n",
        "\n",
        "# Customize the y-axis\n",
        "plt.gca().yaxis.set_major_formatter(PercentFormatter())\n",
        "\n",
        "# Determine the lower value of Total_Purchases\n",
        "lower_limit = customer_data['Total_Purchases'].min()\n",
        "\n",
        "# Set x-axis limits and ticks\n",
        "plt.xlim(lower_limit, 50)\n",
        "plt.xticks(range(lower_limit, 51, 5))\n",
        "\n",
        "# Labeling\n",
        "plt.xlabel('Total Purhcases')\n",
        "plt.ylabel('Probability')\n",
        "\n",
        "plt.show()"
      ]
    },
    {
      "cell_type": "markdown",
      "metadata": {
        "id": "EenC8IKioDNp"
      },
      "source": [
        "Observation:\n",
        "\n",
        "\n",
        "*   29% of Customer purchase between 15 to 22 times\n",
        "*   25% of Customer purchase below 7 times\n",
        "*   22.5% of Customer purchase between 7 to 15 times\n",
        "*   21% of Customer purchase between 22 to 29 times"
      ]
    },
    {
      "cell_type": "code",
      "execution_count": null,
      "metadata": {
        "colab": {
          "base_uri": "https://localhost:8080/",
          "height": 550
        },
        "id": "KYmKy6uLwig8",
        "outputId": "fdb5f25a-052f-4005-e6a0-dcc6b4084f5f"
      },
      "outputs": [
        {
          "output_type": "display_data",
          "data": {
            "text/plain": [
              "<Figure size 800x600 with 1 Axes>"
            ],
            "image/png": "[encoded data removed]"
          },
          "metadata": {}
        }
      ],
      "source": [
        "# Sort the data for CDF plotting\n",
        "sorted_data = np.sort(customer_data['Total_Purchases'])\n",
        "\n",
        "# Calculate the CDF\n",
        "y = np.arange(1, len(sorted_data) + 1) / len(sorted_data)\n",
        "\n",
        "# Create the CDF plot\n",
        "plt.figure(figsize=(8, 6))\n",
        "plt.step(sorted_data, y, color=\"#00AFBB\", linestyle='--', linewidth=1)\n",
        "\n",
        "# Customize the x-axis and y-axis ticks\n",
        "plt.xticks(np.arange(0,50, step=5))\n",
        "plt.yticks(np.arange(0, 1.1, 0.1))\n",
        "\n",
        "# Labeling\n",
        "plt.xlabel('Total Purchases')\n",
        "plt.ylabel('CDF')\n",
        "\n",
        "# Apply a white background theme\n",
        "plt.style.use('ggplot')\n",
        "\n",
        "# Show the plot\n",
        "plt.show()"
      ]
    },
    {
      "cell_type": "markdown",
      "metadata": {
        "id": "JUUbcOy2yP42"
      },
      "source": [
        "Observation:\n",
        "\n",
        "*   88% of Customers purchase less than 25 times\n",
        "*   48% of Customers purchase less than 15 times\n"
      ]
    },
    {
      "cell_type": "markdown",
      "metadata": {
        "id": "WGzhNAgBSigs"
      },
      "source": [
        "**Preferred Purchase Mode by Customers**"
      ]
    },
    {
      "cell_type": "code",
      "execution_count": null,
      "metadata": {
        "colab": {
          "base_uri": "https://localhost:8080/"
        },
        "id": "4tbCRt6gyKXa",
        "outputId": "6e03cead-e7b7-4b3a-d894-ad9382919445"
      },
      "outputs": [
        {
          "output_type": "stream",
          "name": "stdout",
          "text": [
            "  Purchase_Name  Total_Purchases\n",
            "0          Deal              3.0\n",
            "1           Web              8.0\n",
            "2       Catalog             10.0\n"
          ]
        }
      ],
      "source": [
        "# Assuming you have a DataFrame named main_df\n",
        "# Select columns that start with \"Num\" and end with \"Purchases\"\n",
        "purchase_df = customer_data.filter(like='Num').filter(like='Purchases')\n",
        "\n",
        "# Create a DataFrame for Purchase_Name\n",
        "Purchase_Name = pd.DataFrame({'Purchase_Name': ['Deal', 'Web', 'Catalog', 'Store'] * 2240})\n",
        "\n",
        "# Create a DataFrame for Total_Purchases by unlisting purchase_df\n",
        "Total_Purchases = pd.DataFrame({'Total_Purchases': purchase_df.values.flatten()}, index=None)\n",
        "\n",
        "# Combine Purchase_Name and Total_Purchases into a single DataFrame\n",
        "purchase_df = pd.concat([Purchase_Name, Total_Purchases], axis=1)\n",
        "\n",
        "# Display the first 3 rows of the resulting DataFrame\n",
        "print(purchase_df.head(3))\n"
      ]
    },
    {
      "cell_type": "code",
      "execution_count": null,
      "metadata": {
        "colab": {
          "base_uri": "https://localhost:8080/",
          "height": 480
        },
        "id": "5fKRzeBcW4QJ",
        "outputId": "aad4872b-6ac6-46ac-f0f2-9b78dccc098f"
      },
      "outputs": [
        {
          "output_type": "display_data",
          "data": {
            "text/plain": [
              "<Figure size 640x480 with 1 Axes>"
            ],
            "image/png": "[encoded data removed]"
          },
          "metadata": {}
        }
      ],
      "source": [
        "sea.set(style=\"whitegrid\")\n",
        "\n",
        "# Create the box plot\n",
        "sea.boxplot(data=purchase_df, x=\"Purchase_Name\", y=\"Total_Purchases\", palette=\"Set2\", fliersize=5, linewidth=1)\n",
        "\n",
        "# Rotate x-axis labels for better visibility\n",
        "#plt.xticks(rotation=45)\n",
        "\n",
        "# Display the plot\n",
        "plt.xlabel(\"Purchase Name\")\n",
        "plt.ylabel(\"Total Purchases\")\n",
        "plt.title(\"Boxplot of Total Purchases by Purchase Name\")\n",
        "plt.show()"
      ]
    },
    {
      "cell_type": "code",
      "execution_count": null,
      "metadata": {
        "colab": {
          "base_uri": "https://localhost:8080/"
        },
        "id": "oNWeM_ggYxUY",
        "outputId": "96e7d91e-9a58-4b2d-fa23-74d94adc1502"
      },
      "outputs": [
        {
          "output_type": "stream",
          "name": "stdout",
          "text": [
            "  Purchase_Name  Total_Purchases  percentage\n",
            "0       Catalog           5919.0       17.95\n",
            "1          Deal           5149.0       15.61\n",
            "2         Store          12855.0       38.98\n",
            "3           Web           9053.0       27.45\n"
          ]
        }
      ],
      "source": [
        "# Assuming you have a DataFrame named purchase_df\n",
        "# Group by 'Purchase_Name' and calculate the sum of 'Total_Purchases' for each group\n",
        "grouped_df = purchase_df.groupby('Purchase_Name')['Total_Purchases'].sum().reset_index()\n",
        "\n",
        "# Calculate the percentage and round it to 2 decimal places\n",
        "grouped_df['percentage'] = (grouped_df['Total_Purchases'] * 100 / grouped_df['Total_Purchases'].sum()).round(2)\n",
        "\n",
        "# Display the resulting DataFrame\n",
        "print(grouped_df)\n"
      ]
    },
    {
      "cell_type": "markdown",
      "metadata": {
        "id": "WoiZFHU8Yk1_"
      },
      "source": [
        "Observation:\n",
        "*   Purchase made in Stores is the most preferred purchase method for customers with percentage in 38.98%.\n",
        "*   Another preferred purchase method is made in Web with percentage 27.45%\n"
      ]
    },
    {
      "cell_type": "markdown",
      "metadata": {
        "id": "Sb4BsysDabkW"
      },
      "source": [
        "**Average Web Visit for last month**"
      ]
    },
    {
      "cell_type": "code",
      "execution_count": null,
      "metadata": {
        "colab": {
          "base_uri": "https://localhost:8080/"
        },
        "id": "d2d6Kr0CZLeh",
        "outputId": "011eb5fa-e1e6-46b3-d3cd-6067d795eb3e"
      },
      "outputs": [
        {
          "output_type": "stream",
          "name": "stdout",
          "text": [
            "Average_Web_Visit: 5.319043321299639\n"
          ]
        }
      ],
      "source": [
        "# Assuming you have a DataFrame named main_df\n",
        "# Calculate the average of the 'NumWebVisitsMonth' column\n",
        "average_web_visit = customer_data['NumWebVisitsMonth'].mean()\n",
        "\n",
        "# Display the result\n",
        "print(\"Average_Web_Visit:\", average_web_visit)"
      ]
    },
    {
      "cell_type": "code",
      "execution_count": null,
      "metadata": {
        "colab": {
          "base_uri": "https://localhost:8080/",
          "height": 458,
          "resources": {
            "http://localhost:8080/undefined": {
              "data": "CjwhRE9DVFlQRSBodG1sPgo8aHRtbCBsYW5nPWVuPgogIDxtZXRhIGNoYXJzZXQ9dXRmLTg+CiAgPG1ldGEgbmFtZT12aWV3cG9ydCBjb250ZW50PSJpbml0aWFsLXNjYWxlPTEsIG1pbmltdW0tc2NhbGU9MSwgd2lkdGg9ZGV2aWNlLXdpZHRoIj4KICA8dGl0bGU+RXJyb3IgNDA0IChOb3QgRm91bmQpISExPC90aXRsZT4KICA8c3R5bGU+CiAgICAqe21hcmdpbjowO3BhZGRpbmc6MH1odG1sLGNvZGV7Zm9udDoxNXB4LzIycHggYXJpYWwsc2Fucy1zZXJpZn1odG1se2JhY2tncm91bmQ6I2ZmZjtjb2xvcjojMjIyO3BhZGRpbmc6MTVweH1ib2R5e21hcmdpbjo3JSBhdXRvIDA7bWF4LXdpZHRoOjM5MHB4O21pbi1oZWlnaHQ6MTgwcHg7cGFkZGluZzozMHB4IDAgMTVweH0qID4gYm9keXtiYWNrZ3JvdW5kOnVybCgvL3d3dy5nb29nbGUuY29tL2ltYWdlcy9lcnJvcnMvcm9ib3QucG5nKSAxMDAlIDVweCBuby1yZXBlYXQ7cGFkZGluZy1yaWdodDoyMDVweH1we21hcmdpbjoxMXB4IDAgMjJweDtvdmVyZmxvdzpoaWRkZW59aW5ze2NvbG9yOiM3Nzc7dGV4dC1kZWNvcmF0aW9uOm5vbmV9YSBpbWd7Ym9yZGVyOjB9QG1lZGlhIHNjcmVlbiBhbmQgKG1heC13aWR0aDo3NzJweCl7Ym9keXtiYWNrZ3JvdW5kOm5vbmU7bWFyZ2luLXRvcDowO21heC13aWR0aDpub25lO3BhZGRpbmctcmlnaHQ6MH19I2xvZ297YmFja2dyb3VuZDp1cmwoLy93d3cuZ29vZ2xlLmNvbS9pbWFnZXMvbG9nb3MvZXJyb3JwYWdlL2Vycm9yX2xvZ28tMTUweDU0LnBuZykgbm8tcmVwZWF0O21hcmdpbi1sZWZ0Oi01cHh9QG1lZGlhIG9ubHkgc2NyZWVuIGFuZCAobWluLXJlc29sdXRpb246MTkyZHBpKXsjbG9nb3tiYWNrZ3JvdW5kOnVybCgvL3d3dy5nb29nbGUuY29tL2ltYWdlcy9sb2dvcy9lcnJvcnBhZ2UvZXJyb3JfbG9nby0xNTB4NTQtMngucG5nKSBuby1yZXBlYXQgMCUgMCUvMTAwJSAxMDAlOy1tb3otYm9yZGVyLWltYWdlOnVybCgvL3d3dy5nb29nbGUuY29tL2ltYWdlcy9sb2dvcy9lcnJvcnBhZ2UvZXJyb3JfbG9nby0xNTB4NTQtMngucG5nKSAwfX1AbWVkaWEgb25seSBzY3JlZW4gYW5kICgtd2Via2l0LW1pbi1kZXZpY2UtcGl4ZWwtcmF0aW86Mil7I2xvZ297YmFja2dyb3VuZDp1cmwoLy93d3cuZ29vZ2xlLmNvbS9pbWFnZXMvbG9nb3MvZXJyb3JwYWdlL2Vycm9yX2xvZ28tMTUweDU0LTJ4LnBuZykgbm8tcmVwZWF0Oy13ZWJraXQtYmFja2dyb3VuZC1zaXplOjEwMCUgMTAwJX19I2xvZ297ZGlzcGxheTppbmxpbmUtYmxvY2s7aGVpZ2h0OjU0cHg7d2lkdGg6MTUwcHh9CiAgPC9zdHlsZT4KICA8YSBocmVmPS8vd3d3Lmdvb2dsZS5jb20vPjxzcGFuIGlkPWxvZ28gYXJpYS1sYWJlbD1Hb29nbGU+PC9zcGFuPjwvYT4KICA8cD48Yj40MDQuPC9iPiA8aW5zPlRoYXTigJlzIGFuIGVycm9yLjwvaW5zPgogIDxwPiAgPGlucz5UaGF04oCZcyBhbGwgd2Uga25vdy48L2lucz4K",
              "ok": false,
              "headers": [
                [
                  "content-length",
                  "1449"
                ],
                [
                  "content-type",
                  "text/html; charset=utf-8"
                ]
              ],
              "status": 404,
              "status_text": ""
            }
          }
        },
        "id": "jlU53sYKb4hb",
        "outputId": "fc59367b-fd7b-4c44-e755-51e2b37baa53"
      },
      "outputs": [
        {
          "output_type": "display_data",
          "data": {
            "text/plain": [
              "<Figure size 640x480 with 1 Axes>"
            ],
            "image/png": "[encoded data removed]"
          },
          "metadata": {}
        }
      ],
      "source": [
        "# Plotting histogram\n",
        "plt.hist(customer_data['NumWebVisitsMonth'], weights=np.ones(len(customer_data['Total_Purchases'])) / len(customer_data['Total_Purchases'])*100, bins=5, alpha=0.5, color='lightblue', edgecolor='darkblue')\n",
        "\n",
        "# Customize the y-axis\n",
        "plt.gca().yaxis.set_major_formatter(PercentFormatter())\n",
        "\n",
        "# Determine the lower value of Total_Purchases\n",
        "lower_limit = customer_data['NumWebVisitsMonth'].min()\n",
        "\n",
        "# Set x-axis limits and ticks\n",
        "#plt.xlim(lower_limit, 20)\n",
        "plt.xticks(range(lower_limit, 21, 1))\n",
        "\n",
        "\n",
        "# Labeling\n",
        "plt.xlabel('No of Web Visits')\n",
        "plt.ylabel('Probability')\n",
        "\n",
        "plt.show()"
      ]
    },
    {
      "cell_type": "markdown",
      "metadata": {
        "id": "OmXuc0-UjraM"
      },
      "source": [
        "*Observations:*\n",
        "\n",
        "*   58% of customers visit the company's website 4 to 8 times\n",
        "*   25% of customers visit the company's website below 4 times\n",
        "*   Around 20% of customers visit the company's website 8 to 12 times\n",
        "*   The chances of visiting the website more than 12 times seem to be rare"
      ]
    },
    {
      "cell_type": "code",
      "execution_count": null,
      "metadata": {
        "colab": {
          "base_uri": "https://localhost:8080/",
          "height": 550
        },
        "id": "ejC0rIq5f1Gt",
        "outputId": "2c561d1a-fd2b-4a54-8a76-5999f2b96517"
      },
      "outputs": [
        {
          "output_type": "display_data",
          "data": {
            "text/plain": [
              "<Figure size 800x600 with 1 Axes>"
            ],
            "image/png": "[encoded data removed]"
          },
          "metadata": {}
        }
      ],
      "source": [
        "# Sort the data for CDF plotting\n",
        "sorted_purchases = np.sort(customer_data['NumWebVisitsMonth'])\n",
        "\n",
        "# Calculate the CDF\n",
        "y = np.arange(1, len(sorted_purchases) + 1) / len(sorted_purchases)\n",
        "\n",
        "# Create the CDF plot\n",
        "plt.figure(figsize=(8, 6))\n",
        "plt.step(sorted_purchases, y, color=\"#00AFBB\", linestyle='--', linewidth=1)\n",
        "\n",
        "# Customize the x-axis and y-axis ticks\n",
        "plt.xticks(np.arange(0,20, step=1))\n",
        "plt.yticks(np.arange(0, 1.1, 0.1))\n",
        "\n",
        "# Labeling\n",
        "plt.xlabel('Num Web Visits Month')\n",
        "plt.ylabel('CDF')\n",
        "\n",
        "# Apply a white background theme\n",
        "plt.style.use('ggplot')\n",
        "\n",
        "# Show the plot\n",
        "plt.show()"
      ]
    },
    {
      "cell_type": "markdown",
      "metadata": {
        "id": "YUcjWLhPiwhd"
      },
      "source": [
        "Observations:\n",
        "\n",
        "95% of customers visits the website less than 9 times."
      ]
    },
    {
      "cell_type": "markdown",
      "metadata": {
        "id": "BG17EgJmj5CH"
      },
      "source": [
        "**Percentage of Customer's Enrollment in Years**"
      ]
    },
    {
      "cell_type": "code",
      "execution_count": null,
      "metadata": {
        "colab": {
          "base_uri": "https://localhost:8080/"
        },
        "id": "2SGLCVnfimXJ",
        "outputId": "afba9c7e-e80a-435b-c5d8-80d659cb348b"
      },
      "outputs": [
        {
          "output_type": "stream",
          "name": "stdout",
          "text": [
            "  Total_Years   num  percentage\n",
            "0           9   553       24.95\n",
            "1          10  1173       52.93\n",
            "2          11   490       22.11\n"
          ]
        }
      ],
      "source": [
        "seniority = customer_data[['Seniority']].rename(columns={'Seniority': 'Total_Years'})\n",
        "\n",
        "# Group by 'Total_Years' and calculate the count of each group\n",
        "seniority = seniority.groupby('Total_Years').size().reset_index(name='num')\n",
        "\n",
        "# Calculate the percentage and round it to 2 decimal places\n",
        "seniority['percentage'] = (seniority['num'] * 100 / seniority['num'].sum()).round(2)\n",
        "\n",
        "# Convert 'Total_Years' to a categorical variable (factor)\n",
        "seniority['Total_Years'] = seniority['Total_Years'].astype('category')\n",
        "\n",
        "# Display the resulting DataFrame\n",
        "print(seniority)\n"
      ]
    },
    {
      "cell_type": "code",
      "execution_count": null,
      "metadata": {
        "colab": {
          "base_uri": "https://localhost:8080/",
          "height": 458
        },
        "id": "nV1jEoq5lgKd",
        "outputId": "6cfde9b3-5a95-4759-a537-8e4f44cd27e0"
      },
      "outputs": [
        {
          "output_type": "display_data",
          "data": {
            "text/plain": [
              "<Figure size 640x480 with 1 Axes>"
            ],
            "image/png": "[encoded data removed]"
          },
          "metadata": {}
        }
      ],
      "source": [
        "sea.set(style=\"whitegrid\")  # Set the plot style\n",
        "\n",
        "# Create a bar plot using seaborn\n",
        "sea.barplot(x='Total_Years', y='num', data=seniority, palette=[\"#41B7C4\", \"#CCEDB1\", \"#F5CA63\"])\n",
        "\n",
        "# Add text labels with percentages\n",
        "for index, row in seniority.iterrows():\n",
        "    plt.text(index, row['num'], f\"{row['num']} ({row['percentage']}%)\", va='bottom', ha='center')\n",
        "\n",
        "# Customize labels and scales\n",
        "plt.xlabel('No of Years')\n",
        "plt.ylabel('Count')\n",
        "\n",
        "# Show the plot\n",
        "plt.show()\n"
      ]
    },
    {
      "cell_type": "code",
      "execution_count": null,
      "metadata": {
        "colab": {
          "base_uri": "https://localhost:8080/",
          "height": 406
        },
        "id": "eaDTcYmEmKmF",
        "outputId": "bbcd19d7-7778-48c7-ed11-3d24e78a2b95"
      },
      "outputs": [
        {
          "output_type": "display_data",
          "data": {
            "text/plain": [
              "<Figure size 640x480 with 1 Axes>"
            ],
            "image/png": "[encoded data removed]"
          },
          "metadata": {}
        }
      ],
      "source": [
        "# Plotting Education Level Distribution\n",
        "# Data\n",
        "labels = seniority['Total_Years']\n",
        "sizes = seniority['num']\n",
        "colors = [\"#41B7C4\", \"#CCEDB1\", \"#F5CA63\", \"#808A87\"]\n",
        "\n",
        "# Create a pie chart\n",
        "plt.pie(sizes, labels=labels, colors=colors, autopct='%1.2f%%', startangle=140)\n",
        "#plt.title('Education Level Distribution')\n",
        "plt.legend(bbox_to_anchor=(1, 1), loc='upper left', borderaxespad=0)\n",
        "plt.show()"
      ]
    },
    {
      "cell_type": "code",
      "execution_count": null,
      "metadata": {
        "colab": {
          "base_uri": "https://localhost:8080/"
        },
        "id": "lzkDicsNmxYR",
        "outputId": "7e3765ef-e01a-4304-a511-e141ce169f49"
      },
      "outputs": [
        {
          "output_type": "stream",
          "name": "stdout",
          "text": [
            "   Enrollment_Year  Total_Spent  percentage\n",
            "0             2012       365833       27.19\n",
            "1             2013       706357       52.51\n",
            "2             2014       273089       20.30\n"
          ]
        }
      ],
      "source": [
        "# Group by 'Enrollment_Year' and calculate the sum of 'Total_Spent' for each group\n",
        "grouped_df = customer_data.groupby('Enrollment_Year')['Total_Spent'].sum().reset_index()\n",
        "\n",
        "# Calculate the percentage and round it to 2 decimal places\n",
        "grouped_df['percentage'] = (grouped_df['Total_Spent'] * 100 / grouped_df['Total_Spent'].sum()).round(2)\n",
        "\n",
        "# Display the resulting DataFrame\n",
        "print(grouped_df)\n"
      ]
    },
    {
      "cell_type": "markdown",
      "metadata": {
        "id": "XfXsOgtan_Wv"
      },
      "source": [
        "*Observations:*\n",
        "\n",
        "*   52.9% of Customers have been with the company for 10 years\n",
        "*   52% of total amount spend by customers who have enrolled in 2013"
      ]
    },
    {
      "cell_type": "markdown",
      "metadata": {
        "id": "CAJuFmrT3M3i"
      },
      "source": [
        "**Correlation between Income and Number of Purchases**\n",
        "\n"
      ]
    },
    {
      "cell_type": "code",
      "execution_count": null,
      "metadata": {
        "colab": {
          "base_uri": "https://localhost:8080/"
        },
        "id": "B0VeZYl8n75u",
        "outputId": "4e751cdf-f05b-48bc-e1a1-79e957fc133c"
      },
      "outputs": [
        {
          "output_type": "stream",
          "name": "stdout",
          "text": [
            "Correlation Coefficient: 0.5668725910947578\n",
            "P-value: 1.2919192539173717e-188\n"
          ]
        }
      ],
      "source": [
        "# Perform the correlation test\n",
        "correlation_coefficient, p_value = stats.pearsonr(customer_data['Income'], customer_data['Total_Purchases'])\n",
        "\n",
        "# Print the results\n",
        "print(\"Correlation Coefficient:\", correlation_coefficient)\n",
        "print(\"P-value:\", p_value)"
      ]
    },
    {
      "cell_type": "code",
      "execution_count": null,
      "metadata": {
        "colab": {
          "base_uri": "https://localhost:8080/",
          "height": 458
        },
        "id": "XJ_olH644jwJ",
        "outputId": "5ee53295-52f2-4ef4-9971-0760a6240033"
      },
      "outputs": [
        {
          "output_type": "display_data",
          "data": {
            "text/plain": [
              "<Figure size 640x480 with 1 Axes>"
            ],
            "image/png": "[encoded data removed]"
          },
          "metadata": {}
        }
      ],
      "source": [
        "sea.set(style=\"whitegrid\")\n",
        "\n",
        "# Create the scatterplot\n",
        "sea.scatterplot(data=customer_data, x=\"Income\", y=\"Total_Purchases\", color=\"green\", edgecolor=\"black\", linewidth=0.5, s=40)\n",
        "\n",
        "# Set x-axis limits and ticks\n",
        "plt.xlim(0, 200000)\n",
        "plt.xticks(range(0, 200001, 20000))\n",
        "\n",
        "# Set y-axis limits and ticks\n",
        "#plt.ylim(0, 4000)\n",
        "#plt.yticks(range(0, 4001, 1000))\n",
        "\n",
        "# Add a linear regression line\n",
        "sea.regplot(data=customer_data, x=\"Income\", y=\"Total_Purchases\", scatter=False, color=\"darkred\", line_kws={\"linestyle\": \"--\"})\n",
        "\n",
        "# Display the plot\n",
        "plt.show()"
      ]
    },
    {
      "cell_type": "markdown",
      "metadata": {
        "id": "UGA5ZPAYRy1d"
      },
      "source": [
        "*Observations:*\n",
        "\n",
        "The correlation coeffieienct between income and total spent variable is 0.56. This shows that, income and total purchases have a moderate correlation postively."
      ]
    },
    {
      "cell_type": "markdown",
      "metadata": {
        "id": "kzLR6-H15pc_"
      },
      "source": [
        "**Performance of Campaigns**"
      ]
    },
    {
      "cell_type": "code",
      "execution_count": null,
      "metadata": {
        "colab": {
          "base_uri": "https://localhost:8080/"
        },
        "id": "XmIslVQywqv4",
        "outputId": "67b8d64d-c2a2-45a0-ae95-b2b77a0a1d6f"
      },
      "outputs": [
        {
          "output_type": "stream",
          "name": "stdout",
          "text": [
            "  Offers_Total   num  percentage\n",
            "0            0  1757       79.29\n",
            "1            1   323       14.58\n",
            "2            2    81        3.66\n",
            "3            3    44        1.99\n",
            "4            4    11        0.50\n"
          ]
        }
      ],
      "source": [
        "offers = customer_data[['Total_Offers']].rename(columns={'Total_Offers': 'Offers_Total'})\n",
        "\n",
        "# Group by 'Total_Years' and calculate the count of each group\n",
        "offers = offers.groupby('Offers_Total').size().reset_index(name='num')\n",
        "\n",
        "# Calculate the percentage and round it to 2 decimal places\n",
        "offers['percentage'] = (offers['num'] * 100 / seniority['num'].sum()).round(2)\n",
        "\n",
        "# Convert 'Total_Years' to a categorical variable (factor)\n",
        "offers['Offers_Total'] = offers['Offers_Total'].astype('category')\n",
        "\n",
        "# Display the resulting DataFrame\n",
        "print(offers)\n"
      ]
    },
    {
      "cell_type": "code",
      "execution_count": null,
      "metadata": {
        "colab": {
          "base_uri": "https://localhost:8080/",
          "height": 458
        },
        "id": "6lNX_nR7o4Fr",
        "outputId": "955bd8d6-f98b-4bc4-b856-5533e6f8e714"
      },
      "outputs": [
        {
          "output_type": "display_data",
          "data": {
            "text/plain": [
              "<Figure size 640x480 with 1 Axes>"
            ],
            "image/png": "[encoded data removed]"
          },
          "metadata": {}
        }
      ],
      "source": [
        "sea.set(style=\"whitegrid\")  # Set the plot style\n",
        "\n",
        "# Create a bar plot using seaborn\n",
        "sea.barplot(x='Offers_Total', y='num', data=offers)\n",
        "\n",
        "# Add text labels with percentages\n",
        "for index, row in offers.iterrows():\n",
        "    plt.text(index, row['num'], f\"{row['num']} ({row['percentage']}%)\", va='bottom', ha='center')\n",
        "\n",
        "# Customize labels and scales\n",
        "plt.xlabel('Accepted No of Years')\n",
        "plt.ylabel('Count')\n",
        "\n",
        "# Show the plot\n",
        "plt.show()\n"
      ]
    },
    {
      "cell_type": "code",
      "execution_count": null,
      "metadata": {
        "colab": {
          "base_uri": "https://localhost:8080/"
        },
        "id": "lqWUyI2KOuFV",
        "outputId": "41d0f213-7965-42bc-b6a8-3bfd486ef9b2"
      },
      "outputs": [
        {
          "output_type": "stream",
          "name": "stdout",
          "text": [
            "     Campaign  No_Of_Offers\n",
            "0  Campaign 1           0.0\n",
            "1  Campaign 2           0.0\n",
            "2  Campaign 3           0.0\n"
          ]
        }
      ],
      "source": [
        "cmp_df = customer_data[['AcceptedCmp1', 'AcceptedCmp2', 'AcceptedCmp3', 'AcceptedCmp4', 'AcceptedCmp5']]\n",
        "\n",
        "# Creating the Campaign column\n",
        "Campaign = pd.DataFrame({'Campaign': ['Campaign 1', 'Campaign 2', 'Campaign 3', 'Campaign 4', 'Campaign 5'] * 2240})\n",
        "\n",
        "# Creating the No_Of_Offers column\n",
        "No_Of_Offers = pd.DataFrame({'No_Of_Offers': cmp_df.values.flatten()})\n",
        "\n",
        "# Combining Campaign and No_Of_Offers into cmp_df\n",
        "cmp_df = pd.concat([Campaign, No_Of_Offers], axis=1)\n",
        "\n",
        "# Display the first 3 rows\n",
        "print(cmp_df.head(3))\n"
      ]
    },
    {
      "cell_type": "code",
      "execution_count": null,
      "metadata": {
        "colab": {
          "base_uri": "https://localhost:8080/"
        },
        "id": "kVVGFKaDP8_j",
        "outputId": "a1c3a5e6-ff76-4245-e16b-323aa2746481"
      },
      "outputs": [
        {
          "output_type": "stream",
          "name": "stdout",
          "text": [
            "     Campaign  num  percentage\n",
            "0  Campaign 1  142       21.48\n",
            "1  Campaign 2   30        4.54\n",
            "2  Campaign 3  163       24.66\n",
            "3  Campaign 4  164       24.81\n",
            "4  Campaign 5  162       24.51\n"
          ]
        }
      ],
      "source": [
        "# Filter rows where No_Of_Offers is equal to 1\n",
        "filtered_df = cmp_df[cmp_df['No_Of_Offers'] == 1]\n",
        "\n",
        "# Group by Campaign and calculate the count of rows in each group\n",
        "grouped_df = filtered_df.groupby('Campaign').size().reset_index(name='num')\n",
        "\n",
        "# Calculate the percentage\n",
        "grouped_df['percentage'] = (grouped_df['num'] * 100 / grouped_df['num'].sum()).round(2)\n",
        "\n",
        "# Display the result\n",
        "print(grouped_df)"
      ]
    },
    {
      "cell_type": "code",
      "execution_count": null,
      "metadata": {
        "colab": {
          "base_uri": "https://localhost:8080/",
          "height": 458,
          "resources": {
            "http://localhost:8080/undefined": {
              "data": "CjwhRE9DVFlQRSBodG1sPgo8aHRtbCBsYW5nPWVuPgogIDxtZXRhIGNoYXJzZXQ9dXRmLTg+CiAgPG1ldGEgbmFtZT12aWV3cG9ydCBjb250ZW50PSJpbml0aWFsLXNjYWxlPTEsIG1pbmltdW0tc2NhbGU9MSwgd2lkdGg9ZGV2aWNlLXdpZHRoIj4KICA8dGl0bGU+RXJyb3IgNDA0IChOb3QgRm91bmQpISExPC90aXRsZT4KICA8c3R5bGU+CiAgICAqe21hcmdpbjowO3BhZGRpbmc6MH1odG1sLGNvZGV7Zm9udDoxNXB4LzIycHggYXJpYWwsc2Fucy1zZXJpZn1odG1se2JhY2tncm91bmQ6I2ZmZjtjb2xvcjojMjIyO3BhZGRpbmc6MTVweH1ib2R5e21hcmdpbjo3JSBhdXRvIDA7bWF4LXdpZHRoOjM5MHB4O21pbi1oZWlnaHQ6MTgwcHg7cGFkZGluZzozMHB4IDAgMTVweH0qID4gYm9keXtiYWNrZ3JvdW5kOnVybCgvL3d3dy5nb29nbGUuY29tL2ltYWdlcy9lcnJvcnMvcm9ib3QucG5nKSAxMDAlIDVweCBuby1yZXBlYXQ7cGFkZGluZy1yaWdodDoyMDVweH1we21hcmdpbjoxMXB4IDAgMjJweDtvdmVyZmxvdzpoaWRkZW59aW5ze2NvbG9yOiM3Nzc7dGV4dC1kZWNvcmF0aW9uOm5vbmV9YSBpbWd7Ym9yZGVyOjB9QG1lZGlhIHNjcmVlbiBhbmQgKG1heC13aWR0aDo3NzJweCl7Ym9keXtiYWNrZ3JvdW5kOm5vbmU7bWFyZ2luLXRvcDowO21heC13aWR0aDpub25lO3BhZGRpbmctcmlnaHQ6MH19I2xvZ297YmFja2dyb3VuZDp1cmwoLy93d3cuZ29vZ2xlLmNvbS9pbWFnZXMvbG9nb3MvZXJyb3JwYWdlL2Vycm9yX2xvZ28tMTUweDU0LnBuZykgbm8tcmVwZWF0O21hcmdpbi1sZWZ0Oi01cHh9QG1lZGlhIG9ubHkgc2NyZWVuIGFuZCAobWluLXJlc29sdXRpb246MTkyZHBpKXsjbG9nb3tiYWNrZ3JvdW5kOnVybCgvL3d3dy5nb29nbGUuY29tL2ltYWdlcy9sb2dvcy9lcnJvcnBhZ2UvZXJyb3JfbG9nby0xNTB4NTQtMngucG5nKSBuby1yZXBlYXQgMCUgMCUvMTAwJSAxMDAlOy1tb3otYm9yZGVyLWltYWdlOnVybCgvL3d3dy5nb29nbGUuY29tL2ltYWdlcy9sb2dvcy9lcnJvcnBhZ2UvZXJyb3JfbG9nby0xNTB4NTQtMngucG5nKSAwfX1AbWVkaWEgb25seSBzY3JlZW4gYW5kICgtd2Via2l0LW1pbi1kZXZpY2UtcGl4ZWwtcmF0aW86Mil7I2xvZ297YmFja2dyb3VuZDp1cmwoLy93d3cuZ29vZ2xlLmNvbS9pbWFnZXMvbG9nb3MvZXJyb3JwYWdlL2Vycm9yX2xvZ28tMTUweDU0LTJ4LnBuZykgbm8tcmVwZWF0Oy13ZWJraXQtYmFja2dyb3VuZC1zaXplOjEwMCUgMTAwJX19I2xvZ297ZGlzcGxheTppbmxpbmUtYmxvY2s7aGVpZ2h0OjU0cHg7d2lkdGg6MTUwcHh9CiAgPC9zdHlsZT4KICA8YSBocmVmPS8vd3d3Lmdvb2dsZS5jb20vPjxzcGFuIGlkPWxvZ28gYXJpYS1sYWJlbD1Hb29nbGU+PC9zcGFuPjwvYT4KICA8cD48Yj40MDQuPC9iPiA8aW5zPlRoYXTigJlzIGFuIGVycm9yLjwvaW5zPgogIDxwPiAgPGlucz5UaGF04oCZcyBhbGwgd2Uga25vdy48L2lucz4K",
              "ok": false,
              "headers": [
                [
                  "content-length",
                  "1449"
                ],
                [
                  "content-type",
                  "text/html; charset=utf-8"
                ]
              ],
              "status": 404,
              "status_text": ""
            }
          }
        },
        "id": "Uo74oabI4dWr",
        "outputId": "840b3d0f-55ac-46e1-daaf-d4f223e42e92"
      },
      "outputs": [
        {
          "output_type": "display_data",
          "data": {
            "text/plain": [
              "<Figure size 640x480 with 1 Axes>"
            ],
            "image/png": "[encoded data removed]"
          },
          "metadata": {}
        }
      ],
      "source": [
        "sea.set(style=\"whitegrid\")  # Set the plot style\n",
        "\n",
        "# Create a bar plot using seaborn\n",
        "sea.barplot(x='Campaign', y='num', data=grouped_df)\n",
        "\n",
        "# Add text labels with percentages\n",
        "for index, row in grouped_df.iterrows():\n",
        "    plt.text(index, row['num'], f\"{row['num']} ({row['percentage']}%)\", va='bottom', ha='center')\n",
        "\n",
        "# Customize labels and scales\n",
        "plt.xlabel('Campaign')\n",
        "plt.ylabel('Count')\n",
        "\n",
        "# Show the plot\n",
        "plt.show()"
      ]
    },
    {
      "cell_type": "code",
      "execution_count": null,
      "metadata": {
        "colab": {
          "base_uri": "https://localhost:8080/"
        },
        "id": "EcAGMQV84yev",
        "outputId": "c88b5434-a289-41d3-945e-41672fa5192b"
      },
      "outputs": [
        {
          "output_type": "stream",
          "name": "stdout",
          "text": [
            "   Total_Offers  avg_spend\n",
            "0             0    46931.0\n",
            "1             1    62551.0\n",
            "2             2    77870.0\n",
            "3             3    83490.0\n",
            "4             4    85683.0\n"
          ]
        }
      ],
      "source": [
        "result_df = customer_data.groupby('Total_Offers').agg(avg_spend=('Income', 'median')).reset_index().round(0)\n",
        "\n",
        "print(result_df)"
      ]
    },
    {
      "cell_type": "markdown",
      "metadata": {
        "id": "K1P3NWfznXJt"
      },
      "source": [
        "*Observations:*\n",
        "\n",
        "*   79.29% of Customers accepted no offers in the campaigns\n",
        "*   14.58% of Customers accepted only one offer in the campaigns\n",
        "*   3.66% of Customers accepted only two offer in the campaigns\n",
        "*   1.99% of Customers accepted only three offer in the campaigns\n",
        "*   0.50% of Customers accepted only four offer in the campaigns\n",
        "*   There is no customers who accepted all the five offers in the campaigns conducted\n",
        "\n",
        "Additionally, while a significant number of customers embraced the offers in the fourth campaign, a comparably small group accepted the offers during the second campaign. This suggests a positive correlation between the number of accepted offers and the income level of our customers."
      ]
    },
    {
      "cell_type": "markdown",
      "source": [
        "# **Statistical Testing**"
      ],
      "metadata": {
        "id": "uKKyI92r1qSj"
      }
    },
    {
      "cell_type": "markdown",
      "source": [
        "**Chi-Square Test of Independence**"
      ],
      "metadata": {
        "id": "0y_bEelIqrCF"
      }
    },
    {
      "cell_type": "markdown",
      "source": [
        "A Chi-Square Test of Independence is used to determine whether or not there is a significant association between two categorical variables.In our statistical analysis, we will employ the Chi-Square Test of Independence with a significance level set at alpha = 0.05. We will calculate the p-value, and our decision rule will be as follows: If the p-value is less than 0.05, we will reject the null hypothesis (H0), indicating the presence of a statistically significant relationship between variables. Conversely, if the p-value is greater than or equal to 0.05, we will fail to reject the null hypothesis, suggesting no statistically significant relationship between the variables."
      ],
      "metadata": {
        "id": "9canN0kN1t8l"
      }
    },
    {
      "cell_type": "code",
      "source": [
        "single = customer_data[customer_data['Marital_Status'] == 'Single'].groupby('Education')['Total_Spent'].mean().round(2).reset_index()\n",
        "single.rename(columns={'Total_Spent': 'single'}, inplace=True)\n",
        "\n",
        "in_relationship = customer_data[customer_data['Marital_Status'] == 'In relationship'].groupby('Education')['Total_Spent'].mean().round(2).reset_index()\n",
        "in_relationship.rename(columns={'Total_Spent': 'in_relationship'}, inplace=True)\n",
        "\n",
        "joined_df = pd.merge(single, in_relationship, on='Education')\n",
        "joined_df.index = ['Basic', 'Graduation', 'Master', 'PhD']\n",
        "joined_df = joined_df[['single', 'in_relationship']]\n",
        "print(joined_df)"
      ],
      "metadata": {
        "colab": {
          "base_uri": "https://localhost:8080/"
        },
        "id": "6U5Z24Y9jmuP",
        "outputId": "df45b586-bb70-4581-a0df-ca3fde75cfc3"
      },
      "execution_count": null,
      "outputs": [
        {
          "output_type": "stream",
          "name": "stdout",
          "text": [
            "            single  in_relationship\n",
            "Basic        58.50            95.50\n",
            "Graduation  621.40           621.85\n",
            "Master      663.67           521.59\n",
            "PhD         646.40           694.08\n"
          ]
        }
      ]
    },
    {
      "cell_type": "code",
      "source": [
        "# Chi-Square test of Independence\n",
        "stats.chi2_contingency(joined_df)"
      ],
      "metadata": {
        "colab": {
          "base_uri": "https://localhost:8080/"
        },
        "id": "M8o0caLgAA1x",
        "outputId": "b0199eb5-545c-43a6-dcd5-44b44d331609"
      },
      "execution_count": null,
      "outputs": [
        {
          "output_type": "execute_result",
          "data": {
            "text/plain": [
              "Chi2ContingencyResult(statistic=26.796099688305084, pvalue=6.496225989239669e-06, dof=3, expected_freq=array([[ 78.1178081 ,  75.8821919 ],\n",
              "       [630.64912286, 612.60087714],\n",
              "       [601.23320279, 584.02679721],\n",
              "       [679.96986625, 660.51013375]]))"
            ]
          },
          "metadata": {},
          "execution_count": 63
        }
      ]
    },
    {
      "cell_type": "markdown",
      "source": [
        "The p-value of 6.496225989239669e-06 is significantly less than the alpha value of 0.05, providing strong evidence to reject the null hypothesis. This suggests that there is a statistically significant relationship or effect in our analysis."
      ],
      "metadata": {
        "id": "uhjYwek8DRdX"
      }
    },
    {
      "cell_type": "code",
      "source": [
        "minDim = min(customer_data.shape)-1\n",
        "#calculate Cramer's V\n",
        "V = np.sqrt((26.796099688305084/2240) / minDim)\n",
        "print(V)"
      ],
      "metadata": {
        "colab": {
          "base_uri": "https://localhost:8080/"
        },
        "id": "ehR4j1JjGHZ2",
        "outputId": "f722ff6f-936a-4e4f-939c-0ac74d5dbbdb"
      },
      "execution_count": null,
      "outputs": [
        {
          "output_type": "stream",
          "name": "stdout",
          "text": [
            "0.019968762692188037\n"
          ]
        }
      ]
    },
    {
      "cell_type": "markdown",
      "source": [
        "Cramer’s V is a measure of the strength of association between two nominal variables.\n",
        "It ranges from 0 to 1 where:\n",
        "0 indicates no association between the two variables.\n",
        "1 indicates a strong association between the two variables.\n",
        "\n",
        "The result we found indicates weak association between the education and marital status of customers\n"
      ],
      "metadata": {
        "id": "DhHaE6hwHWWc"
      }
    },
    {
      "cell_type": "code",
      "source": [
        "single = customer_data[customer_data['Marital_Status'] == 'Single'].groupby('Age_Group')['Total_Spent'].mean().round(2).reset_index()\n",
        "single.rename(columns={'Total_Spent': 'single'}, inplace=True)\n",
        "\n",
        "in_relationship = customer_data[customer_data['Marital_Status'] == 'In relationship'].groupby('Age_Group')['Total_Spent'].mean().round(2).reset_index()\n",
        "in_relationship.rename(columns={'Total_Spent': 'in_relationship'}, inplace=True)\n",
        "\n",
        "joined_df1 = pd.merge(single, in_relationship, on='Age_Group')\n",
        "joined_df1.index = ['Middle Aged', 'Old', 'Youth']\n",
        "joined_df1 = joined_df1[['single', 'in_relationship']]\n",
        "print(joined_df1)"
      ],
      "metadata": {
        "colab": {
          "base_uri": "https://localhost:8080/"
        },
        "id": "nhuSraNcI_qG",
        "outputId": "1044c417-e342-4f2e-9989-5079d2b4e22e"
      },
      "execution_count": null,
      "outputs": [
        {
          "output_type": "stream",
          "name": "stdout",
          "text": [
            "              single  in_relationship\n",
            "Middle Aged   550.73           526.36\n",
            "Old           636.95           621.67\n",
            "Youth        1068.36           630.00\n"
          ]
        }
      ]
    },
    {
      "cell_type": "code",
      "source": [
        "# Chi-Square test of Independence\n",
        "stats.chi2_contingency(joined_df1)"
      ],
      "metadata": {
        "colab": {
          "base_uri": "https://localhost:8080/"
        },
        "id": "47lcDpltPduC",
        "outputId": "a5fee508-491c-433c-b7fc-b25725211efa"
      },
      "execution_count": null,
      "outputs": [
        {
          "output_type": "execute_result",
          "data": {
            "text/plain": [
              "Chi2ContingencyResult(statistic=58.05522051981321, pvalue=2.474395067603421e-13, dof=2, expected_freq=array([[602.35893864, 474.73106136],\n",
              "       [703.87897701, 554.74102299],\n",
              "       [949.80208435, 748.55791565]]))"
            ]
          },
          "metadata": {},
          "execution_count": 66
        }
      ]
    },
    {
      "cell_type": "markdown",
      "source": [
        "The p-value of 2.474395067603421e-13 is significantly less than the alpha value of 0.05, providing strong evidence to reject the null hypothesis. This suggests that there is a statistically significant relationship or effect in our analysis."
      ],
      "metadata": {
        "id": "uEpQi7f2lnuQ"
      }
    },
    {
      "cell_type": "code",
      "source": [
        "minDim_1 = min(customer_data.shape)-1\n",
        "#calculate Cramer's V\n",
        "V1 = np.sqrt((58.05522051981321/2240) / minDim_1)\n",
        "print(V1)"
      ],
      "metadata": {
        "colab": {
          "base_uri": "https://localhost:8080/"
        },
        "id": "Fr-uc-Xhle5d",
        "outputId": "d3ed1e6e-4fb3-4b5b-c9ab-07c916cce3cc"
      },
      "execution_count": null,
      "outputs": [
        {
          "output_type": "stream",
          "name": "stdout",
          "text": [
            "0.029392464544863026\n"
          ]
        }
      ]
    },
    {
      "cell_type": "markdown",
      "source": [
        "This indicates weak relationship between marital status and age range of customers."
      ],
      "metadata": {
        "id": "Apaup8BeqBiG"
      }
    },
    {
      "cell_type": "markdown",
      "source": [
        "**One-Way ANOVA (\"analysis of variance\")**\n",
        "\n"
      ],
      "metadata": {
        "id": "6dE2-meWq0vw"
      }
    },
    {
      "cell_type": "markdown",
      "source": [
        "A one-way ANOVA is a statistical method used to compare the means of three or more groups to determine if there are any statistically significant differences among them. To address this, the Tukey Test is employed after ANOVA, offering insights into specific group differences. However, ANOVA results can be compromised if group variances are unequal.\n",
        "\n",
        "In such cases, Welch's ANOVA is a robust alternative, allowing the use of the Games-Howell multiple comparisons method. Key assumptions for one-way ANOVA include normality (often valid for large samples), independence of groups, and equality of variances, which can be assessed with Levene's Test.\n",
        "\n",
        "The analysis aims to determine if educational levels influence customer spending, where the null hypothesis suggests equal spending, and the alternative hypothesis posits differing spending patterns among customers."
      ],
      "metadata": {
        "id": "Zyhiz2STXuNz"
      }
    },
    {
      "cell_type": "code",
      "source": [
        " from scipy.stats import f_oneway"
      ],
      "metadata": {
        "id": "UZoTXgvc3aEJ"
      },
      "execution_count": null,
      "outputs": []
    },
    {
      "cell_type": "code",
      "source": [
        "# Perform Levene's test for homogeneity of variances\n",
        "stats.levene(*[customer_data[customer_data['Education'] == category]['Total_Spent'] for category in customer_data['Education'].unique()]\n",
        ")"
      ],
      "metadata": {
        "colab": {
          "base_uri": "https://localhost:8080/"
        },
        "id": "lQqHFkwmunTU",
        "outputId": "61da47ff-f5f3-4f30-dcfa-f3c7748bb1d8"
      },
      "execution_count": null,
      "outputs": [
        {
          "output_type": "execute_result",
          "data": {
            "text/plain": [
              "LeveneResult(statistic=23.816975577503918, pvalue=3.61478744078149e-15)"
            ]
          },
          "metadata": {},
          "execution_count": 69
        }
      ]
    },
    {
      "cell_type": "markdown",
      "source": [
        "Since that the p-value 3.61478744078149e-15 is below the 5% significance level (α = .05), we reject the null hypothesis, indicating unequal variances among educational levels. This deviation from the assumption necessary for one-way ANOVA necessitates the application of Welch's ANOVA, a robust alternative that does not hinge on the equality of variances."
      ],
      "metadata": {
        "id": "injStbHhqOAb"
      }
    },
    {
      "cell_type": "code",
      "source": [
        "# Perform Welch's ANOVA test\n",
        "stats.f_oneway(*[customer_data[customer_data['Education'] == category]['Total_Spent'] for category in customer_data['Education'].unique()]\n",
        ")"
      ],
      "metadata": {
        "colab": {
          "base_uri": "https://localhost:8080/"
        },
        "id": "6jI56TWd2nHG",
        "outputId": "81642039-4379-4723-c54b-c36f96bcb640"
      },
      "execution_count": null,
      "outputs": [
        {
          "output_type": "execute_result",
          "data": {
            "text/plain": [
              "F_onewayResult(statistic=17.13530023338521, pvalue=5.3198013144921505e-11)"
            ]
          },
          "metadata": {},
          "execution_count": 70
        }
      ]
    },
    {
      "cell_type": "markdown",
      "source": [
        "Since the p-value (which is 5.3198013144921505e-11) is less than the significance level(α = .05), we reject the null\n",
        "hypothesis at the 5% significance level."
      ],
      "metadata": {
        "id": "2xpWXPqXq50I"
      }
    },
    {
      "cell_type": "code",
      "source": [
        "# Perform Games-Howell post hoc test\n",
        "pg.pairwise_gameshowell(data=customer_data, dv='Total_Spent', between='Education')"
      ],
      "metadata": {
        "colab": {
          "base_uri": "https://localhost:8080/",
          "height": 238,
          "resources": {
            "http://localhost:8080/undefined": {
              "data": "CjwhRE9DVFlQRSBodG1sPgo8aHRtbCBsYW5nPWVuPgogIDxtZXRhIGNoYXJzZXQ9dXRmLTg+CiAgPG1ldGEgbmFtZT12aWV3cG9ydCBjb250ZW50PSJpbml0aWFsLXNjYWxlPTEsIG1pbmltdW0tc2NhbGU9MSwgd2lkdGg9ZGV2aWNlLXdpZHRoIj4KICA8dGl0bGU+RXJyb3IgNDA0IChOb3QgRm91bmQpISExPC90aXRsZT4KICA8c3R5bGU+CiAgICAqe21hcmdpbjowO3BhZGRpbmc6MH1odG1sLGNvZGV7Zm9udDoxNXB4LzIycHggYXJpYWwsc2Fucy1zZXJpZn1odG1se2JhY2tncm91bmQ6I2ZmZjtjb2xvcjojMjIyO3BhZGRpbmc6MTVweH1ib2R5e21hcmdpbjo3JSBhdXRvIDA7bWF4LXdpZHRoOjM5MHB4O21pbi1oZWlnaHQ6MTgwcHg7cGFkZGluZzozMHB4IDAgMTVweH0qID4gYm9keXtiYWNrZ3JvdW5kOnVybCgvL3d3dy5nb29nbGUuY29tL2ltYWdlcy9lcnJvcnMvcm9ib3QucG5nKSAxMDAlIDVweCBuby1yZXBlYXQ7cGFkZGluZy1yaWdodDoyMDVweH1we21hcmdpbjoxMXB4IDAgMjJweDtvdmVyZmxvdzpoaWRkZW59aW5ze2NvbG9yOiM3Nzc7dGV4dC1kZWNvcmF0aW9uOm5vbmV9YSBpbWd7Ym9yZGVyOjB9QG1lZGlhIHNjcmVlbiBhbmQgKG1heC13aWR0aDo3NzJweCl7Ym9keXtiYWNrZ3JvdW5kOm5vbmU7bWFyZ2luLXRvcDowO21heC13aWR0aDpub25lO3BhZGRpbmctcmlnaHQ6MH19I2xvZ297YmFja2dyb3VuZDp1cmwoLy93d3cuZ29vZ2xlLmNvbS9pbWFnZXMvbG9nb3MvZXJyb3JwYWdlL2Vycm9yX2xvZ28tMTUweDU0LnBuZykgbm8tcmVwZWF0O21hcmdpbi1sZWZ0Oi01cHh9QG1lZGlhIG9ubHkgc2NyZWVuIGFuZCAobWluLXJlc29sdXRpb246MTkyZHBpKXsjbG9nb3tiYWNrZ3JvdW5kOnVybCgvL3d3dy5nb29nbGUuY29tL2ltYWdlcy9sb2dvcy9lcnJvcnBhZ2UvZXJyb3JfbG9nby0xNTB4NTQtMngucG5nKSBuby1yZXBlYXQgMCUgMCUvMTAwJSAxMDAlOy1tb3otYm9yZGVyLWltYWdlOnVybCgvL3d3dy5nb29nbGUuY29tL2ltYWdlcy9sb2dvcy9lcnJvcnBhZ2UvZXJyb3JfbG9nby0xNTB4NTQtMngucG5nKSAwfX1AbWVkaWEgb25seSBzY3JlZW4gYW5kICgtd2Via2l0LW1pbi1kZXZpY2UtcGl4ZWwtcmF0aW86Mil7I2xvZ297YmFja2dyb3VuZDp1cmwoLy93d3cuZ29vZ2xlLmNvbS9pbWFnZXMvbG9nb3MvZXJyb3JwYWdlL2Vycm9yX2xvZ28tMTUweDU0LTJ4LnBuZykgbm8tcmVwZWF0Oy13ZWJraXQtYmFja2dyb3VuZC1zaXplOjEwMCUgMTAwJX19I2xvZ297ZGlzcGxheTppbmxpbmUtYmxvY2s7aGVpZ2h0OjU0cHg7d2lkdGg6MTUwcHh9CiAgPC9zdHlsZT4KICA8YSBocmVmPS8vd3d3Lmdvb2dsZS5jb20vPjxzcGFuIGlkPWxvZ28gYXJpYS1sYWJlbD1Hb29nbGU+PC9zcGFuPjwvYT4KICA8cD48Yj40MDQuPC9iPiA8aW5zPlRoYXTigJlzIGFuIGVycm9yLjwvaW5zPgogIDxwPiAgPGlucz5UaGF04oCZcyBhbGwgd2Uga25vdy48L2lucz4K",
              "ok": false,
              "headers": [
                [
                  "content-length",
                  "1449"
                ],
                [
                  "content-type",
                  "text/html; charset=utf-8"
                ]
              ],
              "status": 404,
              "status_text": ""
            }
          }
        },
        "id": "sQPZgH0w3fnw",
        "outputId": "6f489bfb-147c-486c-ea18-d6ad5a98eb0b"
      },
      "execution_count": null,
      "outputs": [
        {
          "output_type": "execute_result",
          "data": {
            "text/plain": [
              "            A           B     mean(A)     mean(B)        diff         se  \\\n",
              "0       Basic  Graduation   81.796296  621.686380 -539.890084  24.575349   \n",
              "1       Basic      Master   81.796296  569.116814 -487.320518  30.221513   \n",
              "2       Basic         PhD   81.796296  676.733888 -594.937591  32.768989   \n",
              "3  Graduation      Master  621.686380  569.116814   52.569566  30.901161   \n",
              "4  Graduation         PhD  621.686380  676.733888  -55.047508  33.396835   \n",
              "5      Master         PhD  569.116814  676.733888 -107.617074  37.745737   \n",
              "\n",
              "           T           df          pval    hedges  \n",
              "0 -21.968766   230.069450  0.000000e+00 -0.919208  \n",
              "1 -16.124954   379.093002  7.949197e-14 -0.850146  \n",
              "2 -18.155506   411.693335  1.354472e-13 -1.011694  \n",
              "3   1.701217  1137.011208  3.234635e-01  0.087678  \n",
              "4  -1.648285   887.170259  3.520799e-01 -0.090883  \n",
              "5  -2.851105  1006.239724  2.301587e-02 -0.177218  "
            ],
            "text/html": [
              "\n",
              "  <div id=\"df-1c75857f-8679-40cd-b02a-8f3f87a8e82f\" class=\"colab-df-container\">\n",
              "    <div>\n",
              "<style scoped>\n",
              "    .dataframe tbody tr th:only-of-type {\n",
              "        vertical-align: middle;\n",
              "    }\n",
              "\n",
              "    .dataframe tbody tr th {\n",
              "        vertical-align: top;\n",
              "    }\n",
              "\n",
              "    .dataframe thead th {\n",
              "        text-align: right;\n",
              "    }\n",
              "</style>\n",
              "<table border=\"1\" class=\"dataframe\">\n",
              "  <thead>\n",
              "    <tr style=\"text-align: right;\">\n",
              "      <th></th>\n",
              "      <th>A</th>\n",
              "      <th>B</th>\n",
              "      <th>mean(A)</th>\n",
              "      <th>mean(B)</th>\n",
              "      <th>diff</th>\n",
              "      <th>se</th>\n",
              "      <th>T</th>\n",
              "      <th>df</th>\n",
              "      <th>pval</th>\n",
              "      <th>hedges</th>\n",
              "    </tr>\n",
              "  </thead>\n",
              "  <tbody>\n",
              "    <tr>\n",
              "      <th>0</th>\n",
              "      <td>Basic</td>\n",
              "      <td>Graduation</td>\n",
              "      <td>81.796296</td>\n",
              "      <td>621.686380</td>\n",
              "      <td>-539.890084</td>\n",
              "      <td>24.575349</td>\n",
              "      <td>-21.968766</td>\n",
              "      <td>230.069450</td>\n",
              "      <td>0.000000e+00</td>\n",
              "      <td>-0.919208</td>\n",
              "    </tr>\n",
              "    <tr>\n",
              "      <th>1</th>\n",
              "      <td>Basic</td>\n",
              "      <td>Master</td>\n",
              "      <td>81.796296</td>\n",
              "      <td>569.116814</td>\n",
              "      <td>-487.320518</td>\n",
              "      <td>30.221513</td>\n",
              "      <td>-16.124954</td>\n",
              "      <td>379.093002</td>\n",
              "      <td>7.949197e-14</td>\n",
              "      <td>-0.850146</td>\n",
              "    </tr>\n",
              "    <tr>\n",
              "      <th>2</th>\n",
              "      <td>Basic</td>\n",
              "      <td>PhD</td>\n",
              "      <td>81.796296</td>\n",
              "      <td>676.733888</td>\n",
              "      <td>-594.937591</td>\n",
              "      <td>32.768989</td>\n",
              "      <td>-18.155506</td>\n",
              "      <td>411.693335</td>\n",
              "      <td>1.354472e-13</td>\n",
              "      <td>-1.011694</td>\n",
              "    </tr>\n",
              "    <tr>\n",
              "      <th>3</th>\n",
              "      <td>Graduation</td>\n",
              "      <td>Master</td>\n",
              "      <td>621.686380</td>\n",
              "      <td>569.116814</td>\n",
              "      <td>52.569566</td>\n",
              "      <td>30.901161</td>\n",
              "      <td>1.701217</td>\n",
              "      <td>1137.011208</td>\n",
              "      <td>3.234635e-01</td>\n",
              "      <td>0.087678</td>\n",
              "    </tr>\n",
              "    <tr>\n",
              "      <th>4</th>\n",
              "      <td>Graduation</td>\n",
              "      <td>PhD</td>\n",
              "      <td>621.686380</td>\n",
              "      <td>676.733888</td>\n",
              "      <td>-55.047508</td>\n",
              "      <td>33.396835</td>\n",
              "      <td>-1.648285</td>\n",
              "      <td>887.170259</td>\n",
              "      <td>3.520799e-01</td>\n",
              "      <td>-0.090883</td>\n",
              "    </tr>\n",
              "    <tr>\n",
              "      <th>5</th>\n",
              "      <td>Master</td>\n",
              "      <td>PhD</td>\n",
              "      <td>569.116814</td>\n",
              "      <td>676.733888</td>\n",
              "      <td>-107.617074</td>\n",
              "      <td>37.745737</td>\n",
              "      <td>-2.851105</td>\n",
              "      <td>1006.239724</td>\n",
              "      <td>2.301587e-02</td>\n",
              "      <td>-0.177218</td>\n",
              "    </tr>\n",
              "  </tbody>\n",
              "</table>\n",
              "</div>\n",
              "    <div class=\"colab-df-buttons\">\n",
              "\n",
              "  <div class=\"colab-df-container\">\n",
              "    <button class=\"colab-df-convert\" onclick=\"convertToInteractive('df-1c75857f-8679-40cd-b02a-8f3f87a8e82f')\"\n",
              "            title=\"Convert this dataframe to an interactive table.\"\n",
              "            style=\"display:none;\">\n",
              "\n",
              "  <svg xmlns=\"http://www.w3.org/2000/svg\" height=\"24px\" viewBox=\"0 -960 960 960\">\n",
              "    <path d=\"M120-120v-720h720v720H120Zm60-500h600v-160H180v160Zm220 220h160v-160H400v160Zm0 220h160v-160H400v160ZM180-400h160v-160H180v160Zm440 0h160v-160H620v160ZM180-180h160v-160H180v160Zm440 0h160v-160H620v160Z\"/>\n",
              "  </svg>\n",
              "    </button>\n",
              "\n",
              "  <style>\n",
              "    .colab-df-container {\n",
              "      display:flex;\n",
              "      gap: 12px;\n",
              "    }\n",
              "\n",
              "    .colab-df-convert {\n",
              "      background-color: #E8F0FE;\n",
              "      border: none;\n",
              "      border-radius: 50%;\n",
              "      cursor: pointer;\n",
              "      display: none;\n",
              "      fill: #1967D2;\n",
              "      height: 32px;\n",
              "      padding: 0 0 0 0;\n",
              "      width: 32px;\n",
              "    }\n",
              "\n",
              "    .colab-df-convert:hover {\n",
              "      background-color: #E2EBFA;\n",
              "      box-shadow: 0px 1px 2px rgba(60, 64, 67, 0.3), 0px 1px 3px 1px rgba(60, 64, 67, 0.15);\n",
              "      fill: #174EA6;\n",
              "    }\n",
              "\n",
              "    .colab-df-buttons div {\n",
              "      margin-bottom: 4px;\n",
              "    }\n",
              "\n",
              "    [theme=dark] .colab-df-convert {\n",
              "      background-color: #3B4455;\n",
              "      fill: #D2E3FC;\n",
              "    }\n",
              "\n",
              "    [theme=dark] .colab-df-convert:hover {\n",
              "      background-color: #434B5C;\n",
              "      box-shadow: 0px 1px 3px 1px rgba(0, 0, 0, 0.15);\n",
              "      filter: drop-shadow(0px 1px 2px rgba(0, 0, 0, 0.3));\n",
              "      fill: #FFFFFF;\n",
              "    }\n",
              "  </style>\n",
              "\n",
              "    <script>\n",
              "      const buttonEl =\n",
              "        document.querySelector('#df-1c75857f-8679-40cd-b02a-8f3f87a8e82f button.colab-df-convert');\n",
              "      buttonEl.style.display =\n",
              "        google.colab.kernel.accessAllowed ? 'block' : 'none';\n",
              "\n",
              "      async function convertToInteractive(key) {\n",
              "        const element = document.querySelector('#df-1c75857f-8679-40cd-b02a-8f3f87a8e82f');\n",
              "        const dataTable =\n",
              "          await google.colab.kernel.invokeFunction('convertToInteractive',\n",
              "                                                    [key], {});\n",
              "        if (!dataTable) return;\n",
              "\n",
              "        const docLinkHtml = 'Like what you see? Visit the ' +\n",
              "          '<a target=\"_blank\" href=https://colab.research.google.com/notebooks/data_table.ipynb>data table notebook</a>'\n",
              "          + ' to learn more about interactive tables.';\n",
              "        element.innerHTML = '';\n",
              "        dataTable['output_type'] = 'display_data';\n",
              "        await google.colab.output.renderOutput(dataTable, element);\n",
              "        const docLink = document.createElement('div');\n",
              "        docLink.innerHTML = docLinkHtml;\n",
              "        element.appendChild(docLink);\n",
              "      }\n",
              "    </script>\n",
              "  </div>\n",
              "\n",
              "\n",
              "<div id=\"df-4a2081f2-3fee-43d1-be26-54e0d3a827f4\">\n",
              "  <button class=\"colab-df-quickchart\" onclick=\"quickchart('df-4a2081f2-3fee-43d1-be26-54e0d3a827f4')\"\n",
              "            title=\"Suggest charts\"\n",
              "            style=\"display:none;\">\n",
              "\n",
              "<svg xmlns=\"http://www.w3.org/2000/svg\" height=\"24px\"viewBox=\"0 0 24 24\"\n",
              "     width=\"24px\">\n",
              "    <g>\n",
              "        <path d=\"M19 3H5c-1.1 0-2 .9-2 2v14c0 1.1.9 2 2 2h14c1.1 0 2-.9 2-2V5c0-1.1-.9-2-2-2zM9 17H7v-7h2v7zm4 0h-2V7h2v10zm4 0h-2v-4h2v4z\"/>\n",
              "    </g>\n",
              "</svg>\n",
              "  </button>\n",
              "\n",
              "<style>\n",
              "  .colab-df-quickchart {\n",
              "      --bg-color: #E8F0FE;\n",
              "      --fill-color: #1967D2;\n",
              "      --hover-bg-color: #E2EBFA;\n",
              "      --hover-fill-color: #174EA6;\n",
              "      --disabled-fill-color: #AAA;\n",
              "      --disabled-bg-color: #DDD;\n",
              "  }\n",
              "\n",
              "  [theme=dark] .colab-df-quickchart {\n",
              "      --bg-color: #3B4455;\n",
              "      --fill-color: #D2E3FC;\n",
              "      --hover-bg-color: #434B5C;\n",
              "      --hover-fill-color: #FFFFFF;\n",
              "      --disabled-bg-color: #3B4455;\n",
              "      --disabled-fill-color: #666;\n",
              "  }\n",
              "\n",
              "  .colab-df-quickchart {\n",
              "    background-color: var(--bg-color);\n",
              "    border: none;\n",
              "    border-radius: 50%;\n",
              "    cursor: pointer;\n",
              "    display: none;\n",
              "    fill: var(--fill-color);\n",
              "    height: 32px;\n",
              "    padding: 0;\n",
              "    width: 32px;\n",
              "  }\n",
              "\n",
              "  .colab-df-quickchart:hover {\n",
              "    background-color: var(--hover-bg-color);\n",
              "    box-shadow: 0 1px 2px rgba(60, 64, 67, 0.3), 0 1px 3px 1px rgba(60, 64, 67, 0.15);\n",
              "    fill: var(--button-hover-fill-color);\n",
              "  }\n",
              "\n",
              "  .colab-df-quickchart-complete:disabled,\n",
              "  .colab-df-quickchart-complete:disabled:hover {\n",
              "    background-color: var(--disabled-bg-color);\n",
              "    fill: var(--disabled-fill-color);\n",
              "    box-shadow: none;\n",
              "  }\n",
              "\n",
              "  .colab-df-spinner {\n",
              "    border: 2px solid var(--fill-color);\n",
              "    border-color: transparent;\n",
              "    border-bottom-color: var(--fill-color);\n",
              "    animation:\n",
              "      spin 1s steps(1) infinite;\n",
              "  }\n",
              "\n",
              "  @keyframes spin {\n",
              "    0% {\n",
              "      border-color: transparent;\n",
              "      border-bottom-color: var(--fill-color);\n",
              "      border-left-color: var(--fill-color);\n",
              "    }\n",
              "    20% {\n",
              "      border-color: transparent;\n",
              "      border-left-color: var(--fill-color);\n",
              "      border-top-color: var(--fill-color);\n",
              "    }\n",
              "    30% {\n",
              "      border-color: transparent;\n",
              "      border-left-color: var(--fill-color);\n",
              "      border-top-color: var(--fill-color);\n",
              "      border-right-color: var(--fill-color);\n",
              "    }\n",
              "    40% {\n",
              "      border-color: transparent;\n",
              "      border-right-color: var(--fill-color);\n",
              "      border-top-color: var(--fill-color);\n",
              "    }\n",
              "    60% {\n",
              "      border-color: transparent;\n",
              "      border-right-color: var(--fill-color);\n",
              "    }\n",
              "    80% {\n",
              "      border-color: transparent;\n",
              "      border-right-color: var(--fill-color);\n",
              "      border-bottom-color: var(--fill-color);\n",
              "    }\n",
              "    90% {\n",
              "      border-color: transparent;\n",
              "      border-bottom-color: var(--fill-color);\n",
              "    }\n",
              "  }\n",
              "</style>\n",
              "\n",
              "  <script>\n",
              "    async function quickchart(key) {\n",
              "      const quickchartButtonEl =\n",
              "        document.querySelector('#' + key + ' button');\n",
              "      quickchartButtonEl.disabled = true;  // To prevent multiple clicks.\n",
              "      quickchartButtonEl.classList.add('colab-df-spinner');\n",
              "      try {\n",
              "        const charts = await google.colab.kernel.invokeFunction(\n",
              "            'suggestCharts', [key], {});\n",
              "      } catch (error) {\n",
              "        console.error('Error during call to suggestCharts:', error);\n",
              "      }\n",
              "      quickchartButtonEl.classList.remove('colab-df-spinner');\n",
              "      quickchartButtonEl.classList.add('colab-df-quickchart-complete');\n",
              "    }\n",
              "    (() => {\n",
              "      let quickchartButtonEl =\n",
              "        document.querySelector('#df-4a2081f2-3fee-43d1-be26-54e0d3a827f4 button');\n",
              "      quickchartButtonEl.style.display =\n",
              "        google.colab.kernel.accessAllowed ? 'block' : 'none';\n",
              "    })();\n",
              "  </script>\n",
              "</div>\n",
              "    </div>\n",
              "  </div>\n"
            ]
          },
          "metadata": {},
          "execution_count": 71
        }
      ]
    },
    {
      "cell_type": "markdown",
      "source": [
        "It is evident that there is a statistically significant diffrence between the amount spend\n",
        "by the customers with primary and university education."
      ],
      "metadata": {
        "id": "NHNYg4pEWj7s"
      }
    },
    {
      "cell_type": "markdown",
      "source": [
        "*Are there any differences between the amount spent when\n",
        "considering marital status of customers?*\n"
      ],
      "metadata": {
        "id": "CKjz8cYBkf9y"
      }
    },
    {
      "cell_type": "markdown",
      "source": [
        "**Overview of Two Sample t test**"
      ],
      "metadata": {
        "id": "smBs_MeekxCP"
      }
    },
    {
      "cell_type": "code",
      "source": [
        "# Perform Levene's test for homogeneity of variances\n",
        "stats.levene(*[customer_data[customer_data['Marital_Status'] == category]['Total_Spent'] for category in customer_data['Marital_Status'].unique()]\n",
        ")"
      ],
      "metadata": {
        "colab": {
          "base_uri": "https://localhost:8080/"
        },
        "id": "HrgUHFHhktVO",
        "outputId": "ee6ab997-9fd2-4bff-b875-112d5e1649b5"
      },
      "execution_count": null,
      "outputs": [
        {
          "output_type": "execute_result",
          "data": {
            "text/plain": [
              "LeveneResult(statistic=1.2401006505756371, pvalue=0.2655725389987043)"
            ]
          },
          "metadata": {},
          "execution_count": 72
        }
      ]
    },
    {
      "cell_type": "markdown",
      "source": [
        "Since the p-value = 0.2655 is greater than the significance level(α = .05), we fail to reject the null hypothesis at\n",
        "the 5% significance level. That is, variances are equal across the marital status of customers. Thus, by\n",
        "satisfying all the conditions, we can use 2 sample t test."
      ],
      "metadata": {
        "id": "eTYkNBD_ofMi"
      }
    },
    {
      "cell_type": "code",
      "source": [
        "group1 = customer_data.query('Marital_Status == \"Single\"')['Total_Spent']\n",
        "group2 = customer_data.query('Marital_Status == \"In relationship\"')['Total_Spent']\n",
        "\n",
        "stats.ttest_ind(group1, group2, equal_var=True)\n"
      ],
      "metadata": {
        "colab": {
          "base_uri": "https://localhost:8080/"
        },
        "id": "IJlPsaMS68lP",
        "outputId": "f8d105a5-af0f-4cf6-dbf3-21688a1cf2ad"
      },
      "execution_count": null,
      "outputs": [
        {
          "output_type": "execute_result",
          "data": {
            "text/plain": [
              "TtestResult(statistic=0.9105294276481157, pvalue=0.362642487119173, df=2214.0)"
            ]
          },
          "metadata": {},
          "execution_count": 73
        }
      ]
    },
    {
      "cell_type": "markdown",
      "source": [
        "Since the p-value = 0.3626 is greater than the significance level(α = .05), we fail to reject the null hypothesis at\n",
        "the 5% significance level.\n",
        "\n",
        "There is not sufficient evidence to support the claim that amount spend by customers\n",
        "varies with respect to their marital status.\n",
        "Thus, Marital Status, on its own, does not consititute a diffrence in the amount spend by customers.\n",
        "\n"
      ],
      "metadata": {
        "id": "1TWUnUhp-wup"
      }
    },
    {
      "cell_type": "markdown",
      "source": [
        "*Are there any differences between the amount spent when\n",
        "considering age group of customers?*"
      ],
      "metadata": {
        "id": "XpDtVIobEfWU"
      }
    },
    {
      "cell_type": "code",
      "source": [
        "# Perform Levene's test for homogeneity of variances\n",
        "stats.levene(*[customer_data[customer_data['Age_Group'] == category]['Total_Spent'] for category in customer_data['Age_Group'].unique()]\n",
        ")"
      ],
      "metadata": {
        "colab": {
          "base_uri": "https://localhost:8080/"
        },
        "id": "0qCb6Kd--PSJ",
        "outputId": "73b401cb-d781-4260-eda7-c98fe2f22294"
      },
      "execution_count": null,
      "outputs": [
        {
          "output_type": "execute_result",
          "data": {
            "text/plain": [
              "LeveneResult(statistic=0.29185117683972267, pvalue=0.7469084231697174)"
            ]
          },
          "metadata": {},
          "execution_count": 74
        }
      ]
    },
    {
      "cell_type": "markdown",
      "source": [
        "Since the p-value = 0.7469 is greater than the significance level(α = .05), we fail to reject the null hypothesis at\n",
        "the 5% significance level. That is, variances are equal across the age group of customers. Thus, by\n",
        "satisfying all the conditions, we can use one way ANOVA."
      ],
      "metadata": {
        "id": "c4UlFW3yE4Bd"
      }
    },
    {
      "cell_type": "code",
      "source": [
        "# Perform a one-way ANOVA\n",
        "model = stats.f_oneway(*[group['Total_Spent'] for name, group in customer_data.groupby('Age_Group')])\n",
        "print(model)"
      ],
      "metadata": {
        "colab": {
          "base_uri": "https://localhost:8080/"
        },
        "id": "LUKMzYdeE20u",
        "outputId": "0b44e493-9299-4830-a83d-622bb43018d4"
      },
      "execution_count": null,
      "outputs": [
        {
          "output_type": "stream",
          "name": "stdout",
          "text": [
            "F_onewayResult(statistic=7.238927809043755, pvalue=0.0007352122110178494)\n"
          ]
        }
      ]
    },
    {
      "cell_type": "markdown",
      "source": [
        "Since the p-value = 0.000735 is less than the significance level(α = .05), we reject the null hypothesis at the\n",
        "5% significance level.\n"
      ],
      "metadata": {
        "id": "R70rGeNHIZOt"
      }
    },
    {
      "cell_type": "markdown",
      "source": [
        "There is sufficient evidence to support the claim that amount spend by customers\n",
        "varies with respect to their age group.\n",
        "Thus, Age, on its own, contitute a diffrence in the amount spend by customers\n"
      ],
      "metadata": {
        "id": "VRaLeyXnIoF7"
      }
    },
    {
      "cell_type": "code",
      "source": [
        "pg.pairwise_tukey(data=customer_data,dv='Total_Spent', between='Age_Group')"
      ],
      "metadata": {
        "colab": {
          "base_uri": "https://localhost:8080/",
          "height": 143,
          "resources": {
            "http://localhost:8080/undefined": {
              "data": "CjwhRE9DVFlQRSBodG1sPgo8aHRtbCBsYW5nPWVuPgogIDxtZXRhIGNoYXJzZXQ9dXRmLTg+CiAgPG1ldGEgbmFtZT12aWV3cG9ydCBjb250ZW50PSJpbml0aWFsLXNjYWxlPTEsIG1pbmltdW0tc2NhbGU9MSwgd2lkdGg9ZGV2aWNlLXdpZHRoIj4KICA8dGl0bGU+RXJyb3IgNDA0IChOb3QgRm91bmQpISExPC90aXRsZT4KICA8c3R5bGU+CiAgICAqe21hcmdpbjowO3BhZGRpbmc6MH1odG1sLGNvZGV7Zm9udDoxNXB4LzIycHggYXJpYWwsc2Fucy1zZXJpZn1odG1se2JhY2tncm91bmQ6I2ZmZjtjb2xvcjojMjIyO3BhZGRpbmc6MTVweH1ib2R5e21hcmdpbjo3JSBhdXRvIDA7bWF4LXdpZHRoOjM5MHB4O21pbi1oZWlnaHQ6MTgwcHg7cGFkZGluZzozMHB4IDAgMTVweH0qID4gYm9keXtiYWNrZ3JvdW5kOnVybCgvL3d3dy5nb29nbGUuY29tL2ltYWdlcy9lcnJvcnMvcm9ib3QucG5nKSAxMDAlIDVweCBuby1yZXBlYXQ7cGFkZGluZy1yaWdodDoyMDVweH1we21hcmdpbjoxMXB4IDAgMjJweDtvdmVyZmxvdzpoaWRkZW59aW5ze2NvbG9yOiM3Nzc7dGV4dC1kZWNvcmF0aW9uOm5vbmV9YSBpbWd7Ym9yZGVyOjB9QG1lZGlhIHNjcmVlbiBhbmQgKG1heC13aWR0aDo3NzJweCl7Ym9keXtiYWNrZ3JvdW5kOm5vbmU7bWFyZ2luLXRvcDowO21heC13aWR0aDpub25lO3BhZGRpbmctcmlnaHQ6MH19I2xvZ297YmFja2dyb3VuZDp1cmwoLy93d3cuZ29vZ2xlLmNvbS9pbWFnZXMvbG9nb3MvZXJyb3JwYWdlL2Vycm9yX2xvZ28tMTUweDU0LnBuZykgbm8tcmVwZWF0O21hcmdpbi1sZWZ0Oi01cHh9QG1lZGlhIG9ubHkgc2NyZWVuIGFuZCAobWluLXJlc29sdXRpb246MTkyZHBpKXsjbG9nb3tiYWNrZ3JvdW5kOnVybCgvL3d3dy5nb29nbGUuY29tL2ltYWdlcy9sb2dvcy9lcnJvcnBhZ2UvZXJyb3JfbG9nby0xNTB4NTQtMngucG5nKSBuby1yZXBlYXQgMCUgMCUvMTAwJSAxMDAlOy1tb3otYm9yZGVyLWltYWdlOnVybCgvL3d3dy5nb29nbGUuY29tL2ltYWdlcy9sb2dvcy9lcnJvcnBhZ2UvZXJyb3JfbG9nby0xNTB4NTQtMngucG5nKSAwfX1AbWVkaWEgb25seSBzY3JlZW4gYW5kICgtd2Via2l0LW1pbi1kZXZpY2UtcGl4ZWwtcmF0aW86Mil7I2xvZ297YmFja2dyb3VuZDp1cmwoLy93d3cuZ29vZ2xlLmNvbS9pbWFnZXMvbG9nb3MvZXJyb3JwYWdlL2Vycm9yX2xvZ28tMTUweDU0LTJ4LnBuZykgbm8tcmVwZWF0Oy13ZWJraXQtYmFja2dyb3VuZC1zaXplOjEwMCUgMTAwJX19I2xvZ297ZGlzcGxheTppbmxpbmUtYmxvY2s7aGVpZ2h0OjU0cHg7d2lkdGg6MTUwcHh9CiAgPC9zdHlsZT4KICA8YSBocmVmPS8vd3d3Lmdvb2dsZS5jb20vPjxzcGFuIGlkPWxvZ28gYXJpYS1sYWJlbD1Hb29nbGU+PC9zcGFuPjwvYT4KICA8cD48Yj40MDQuPC9iPiA8aW5zPlRoYXTigJlzIGFuIGVycm9yLjwvaW5zPgogIDxwPiAgPGlucz5UaGF04oCZcyBhbGwgd2Uga25vdy48L2lucz4K",
              "ok": false,
              "headers": [
                [
                  "content-length",
                  "1449"
                ],
                [
                  "content-type",
                  "text/html; charset=utf-8"
                ]
              ],
              "status": 404,
              "status_text": ""
            }
          }
        },
        "id": "mNN_yaInME8c",
        "outputId": "08194ee8-74c9-4057-a56a-6fc901d45333"
      },
      "execution_count": null,
      "outputs": [
        {
          "output_type": "execute_result",
          "data": {
            "text/plain": [
              "             A      B     mean(A)     mean(B)        diff          se  \\\n",
              "0  Middle Aged    Old  534.772983  627.082134  -92.309151   29.913979   \n",
              "1  Middle Aged  Youth  534.772983  951.466667 -416.693684  157.400765   \n",
              "2          Old  Youth  627.082134  951.466667 -324.384532  155.928033   \n",
              "\n",
              "          T   p-tukey    hedges  \n",
              "0 -3.085820  0.005825 -0.153506  \n",
              "1 -2.647342  0.022249 -0.658550  \n",
              "2 -2.080348  0.094142 -0.548623  "
            ],
            "text/html": [
              "\n",
              "  <div id=\"df-678d36de-1a47-4932-88ad-bdeb08c7c78d\" class=\"colab-df-container\">\n",
              "    <div>\n",
              "<style scoped>\n",
              "    .dataframe tbody tr th:only-of-type {\n",
              "        vertical-align: middle;\n",
              "    }\n",
              "\n",
              "    .dataframe tbody tr th {\n",
              "        vertical-align: top;\n",
              "    }\n",
              "\n",
              "    .dataframe thead th {\n",
              "        text-align: right;\n",
              "    }\n",
              "</style>\n",
              "<table border=\"1\" class=\"dataframe\">\n",
              "  <thead>\n",
              "    <tr style=\"text-align: right;\">\n",
              "      <th></th>\n",
              "      <th>A</th>\n",
              "      <th>B</th>\n",
              "      <th>mean(A)</th>\n",
              "      <th>mean(B)</th>\n",
              "      <th>diff</th>\n",
              "      <th>se</th>\n",
              "      <th>T</th>\n",
              "      <th>p-tukey</th>\n",
              "      <th>hedges</th>\n",
              "    </tr>\n",
              "  </thead>\n",
              "  <tbody>\n",
              "    <tr>\n",
              "      <th>0</th>\n",
              "      <td>Middle Aged</td>\n",
              "      <td>Old</td>\n",
              "      <td>534.772983</td>\n",
              "      <td>627.082134</td>\n",
              "      <td>-92.309151</td>\n",
              "      <td>29.913979</td>\n",
              "      <td>-3.085820</td>\n",
              "      <td>0.005825</td>\n",
              "      <td>-0.153506</td>\n",
              "    </tr>\n",
              "    <tr>\n",
              "      <th>1</th>\n",
              "      <td>Middle Aged</td>\n",
              "      <td>Youth</td>\n",
              "      <td>534.772983</td>\n",
              "      <td>951.466667</td>\n",
              "      <td>-416.693684</td>\n",
              "      <td>157.400765</td>\n",
              "      <td>-2.647342</td>\n",
              "      <td>0.022249</td>\n",
              "      <td>-0.658550</td>\n",
              "    </tr>\n",
              "    <tr>\n",
              "      <th>2</th>\n",
              "      <td>Old</td>\n",
              "      <td>Youth</td>\n",
              "      <td>627.082134</td>\n",
              "      <td>951.466667</td>\n",
              "      <td>-324.384532</td>\n",
              "      <td>155.928033</td>\n",
              "      <td>-2.080348</td>\n",
              "      <td>0.094142</td>\n",
              "      <td>-0.548623</td>\n",
              "    </tr>\n",
              "  </tbody>\n",
              "</table>\n",
              "</div>\n",
              "    <div class=\"colab-df-buttons\">\n",
              "\n",
              "  <div class=\"colab-df-container\">\n",
              "    <button class=\"colab-df-convert\" onclick=\"convertToInteractive('df-678d36de-1a47-4932-88ad-bdeb08c7c78d')\"\n",
              "            title=\"Convert this dataframe to an interactive table.\"\n",
              "            style=\"display:none;\">\n",
              "\n",
              "  <svg xmlns=\"http://www.w3.org/2000/svg\" height=\"24px\" viewBox=\"0 -960 960 960\">\n",
              "    <path d=\"M120-120v-720h720v720H120Zm60-500h600v-160H180v160Zm220 220h160v-160H400v160Zm0 220h160v-160H400v160ZM180-400h160v-160H180v160Zm440 0h160v-160H620v160ZM180-180h160v-160H180v160Zm440 0h160v-160H620v160Z\"/>\n",
              "  </svg>\n",
              "    </button>\n",
              "\n",
              "  <style>\n",
              "    .colab-df-container {\n",
              "      display:flex;\n",
              "      gap: 12px;\n",
              "    }\n",
              "\n",
              "    .colab-df-convert {\n",
              "      background-color: #E8F0FE;\n",
              "      border: none;\n",
              "      border-radius: 50%;\n",
              "      cursor: pointer;\n",
              "      display: none;\n",
              "      fill: #1967D2;\n",
              "      height: 32px;\n",
              "      padding: 0 0 0 0;\n",
              "      width: 32px;\n",
              "    }\n",
              "\n",
              "    .colab-df-convert:hover {\n",
              "      background-color: #E2EBFA;\n",
              "      box-shadow: 0px 1px 2px rgba(60, 64, 67, 0.3), 0px 1px 3px 1px rgba(60, 64, 67, 0.15);\n",
              "      fill: #174EA6;\n",
              "    }\n",
              "\n",
              "    .colab-df-buttons div {\n",
              "      margin-bottom: 4px;\n",
              "    }\n",
              "\n",
              "    [theme=dark] .colab-df-convert {\n",
              "      background-color: #3B4455;\n",
              "      fill: #D2E3FC;\n",
              "    }\n",
              "\n",
              "    [theme=dark] .colab-df-convert:hover {\n",
              "      background-color: #434B5C;\n",
              "      box-shadow: 0px 1px 3px 1px rgba(0, 0, 0, 0.15);\n",
              "      filter: drop-shadow(0px 1px 2px rgba(0, 0, 0, 0.3));\n",
              "      fill: #FFFFFF;\n",
              "    }\n",
              "  </style>\n",
              "\n",
              "    <script>\n",
              "      const buttonEl =\n",
              "        document.querySelector('#df-678d36de-1a47-4932-88ad-bdeb08c7c78d button.colab-df-convert');\n",
              "      buttonEl.style.display =\n",
              "        google.colab.kernel.accessAllowed ? 'block' : 'none';\n",
              "\n",
              "      async function convertToInteractive(key) {\n",
              "        const element = document.querySelector('#df-678d36de-1a47-4932-88ad-bdeb08c7c78d');\n",
              "        const dataTable =\n",
              "          await google.colab.kernel.invokeFunction('convertToInteractive',\n",
              "                                                    [key], {});\n",
              "        if (!dataTable) return;\n",
              "\n",
              "        const docLinkHtml = 'Like what you see? Visit the ' +\n",
              "          '<a target=\"_blank\" href=https://colab.research.google.com/notebooks/data_table.ipynb>data table notebook</a>'\n",
              "          + ' to learn more about interactive tables.';\n",
              "        element.innerHTML = '';\n",
              "        dataTable['output_type'] = 'display_data';\n",
              "        await google.colab.output.renderOutput(dataTable, element);\n",
              "        const docLink = document.createElement('div');\n",
              "        docLink.innerHTML = docLinkHtml;\n",
              "        element.appendChild(docLink);\n",
              "      }\n",
              "    </script>\n",
              "  </div>\n",
              "\n",
              "\n",
              "<div id=\"df-8c75ea46-8954-4d40-8f7f-c1be5c5e0792\">\n",
              "  <button class=\"colab-df-quickchart\" onclick=\"quickchart('df-8c75ea46-8954-4d40-8f7f-c1be5c5e0792')\"\n",
              "            title=\"Suggest charts\"\n",
              "            style=\"display:none;\">\n",
              "\n",
              "<svg xmlns=\"http://www.w3.org/2000/svg\" height=\"24px\"viewBox=\"0 0 24 24\"\n",
              "     width=\"24px\">\n",
              "    <g>\n",
              "        <path d=\"M19 3H5c-1.1 0-2 .9-2 2v14c0 1.1.9 2 2 2h14c1.1 0 2-.9 2-2V5c0-1.1-.9-2-2-2zM9 17H7v-7h2v7zm4 0h-2V7h2v10zm4 0h-2v-4h2v4z\"/>\n",
              "    </g>\n",
              "</svg>\n",
              "  </button>\n",
              "\n",
              "<style>\n",
              "  .colab-df-quickchart {\n",
              "      --bg-color: #E8F0FE;\n",
              "      --fill-color: #1967D2;\n",
              "      --hover-bg-color: #E2EBFA;\n",
              "      --hover-fill-color: #174EA6;\n",
              "      --disabled-fill-color: #AAA;\n",
              "      --disabled-bg-color: #DDD;\n",
              "  }\n",
              "\n",
              "  [theme=dark] .colab-df-quickchart {\n",
              "      --bg-color: #3B4455;\n",
              "      --fill-color: #D2E3FC;\n",
              "      --hover-bg-color: #434B5C;\n",
              "      --hover-fill-color: #FFFFFF;\n",
              "      --disabled-bg-color: #3B4455;\n",
              "      --disabled-fill-color: #666;\n",
              "  }\n",
              "\n",
              "  .colab-df-quickchart {\n",
              "    background-color: var(--bg-color);\n",
              "    border: none;\n",
              "    border-radius: 50%;\n",
              "    cursor: pointer;\n",
              "    display: none;\n",
              "    fill: var(--fill-color);\n",
              "    height: 32px;\n",
              "    padding: 0;\n",
              "    width: 32px;\n",
              "  }\n",
              "\n",
              "  .colab-df-quickchart:hover {\n",
              "    background-color: var(--hover-bg-color);\n",
              "    box-shadow: 0 1px 2px rgba(60, 64, 67, 0.3), 0 1px 3px 1px rgba(60, 64, 67, 0.15);\n",
              "    fill: var(--button-hover-fill-color);\n",
              "  }\n",
              "\n",
              "  .colab-df-quickchart-complete:disabled,\n",
              "  .colab-df-quickchart-complete:disabled:hover {\n",
              "    background-color: var(--disabled-bg-color);\n",
              "    fill: var(--disabled-fill-color);\n",
              "    box-shadow: none;\n",
              "  }\n",
              "\n",
              "  .colab-df-spinner {\n",
              "    border: 2px solid var(--fill-color);\n",
              "    border-color: transparent;\n",
              "    border-bottom-color: var(--fill-color);\n",
              "    animation:\n",
              "      spin 1s steps(1) infinite;\n",
              "  }\n",
              "\n",
              "  @keyframes spin {\n",
              "    0% {\n",
              "      border-color: transparent;\n",
              "      border-bottom-color: var(--fill-color);\n",
              "      border-left-color: var(--fill-color);\n",
              "    }\n",
              "    20% {\n",
              "      border-color: transparent;\n",
              "      border-left-color: var(--fill-color);\n",
              "      border-top-color: var(--fill-color);\n",
              "    }\n",
              "    30% {\n",
              "      border-color: transparent;\n",
              "      border-left-color: var(--fill-color);\n",
              "      border-top-color: var(--fill-color);\n",
              "      border-right-color: var(--fill-color);\n",
              "    }\n",
              "    40% {\n",
              "      border-color: transparent;\n",
              "      border-right-color: var(--fill-color);\n",
              "      border-top-color: var(--fill-color);\n",
              "    }\n",
              "    60% {\n",
              "      border-color: transparent;\n",
              "      border-right-color: var(--fill-color);\n",
              "    }\n",
              "    80% {\n",
              "      border-color: transparent;\n",
              "      border-right-color: var(--fill-color);\n",
              "      border-bottom-color: var(--fill-color);\n",
              "    }\n",
              "    90% {\n",
              "      border-color: transparent;\n",
              "      border-bottom-color: var(--fill-color);\n",
              "    }\n",
              "  }\n",
              "</style>\n",
              "\n",
              "  <script>\n",
              "    async function quickchart(key) {\n",
              "      const quickchartButtonEl =\n",
              "        document.querySelector('#' + key + ' button');\n",
              "      quickchartButtonEl.disabled = true;  // To prevent multiple clicks.\n",
              "      quickchartButtonEl.classList.add('colab-df-spinner');\n",
              "      try {\n",
              "        const charts = await google.colab.kernel.invokeFunction(\n",
              "            'suggestCharts', [key], {});\n",
              "      } catch (error) {\n",
              "        console.error('Error during call to suggestCharts:', error);\n",
              "      }\n",
              "      quickchartButtonEl.classList.remove('colab-df-spinner');\n",
              "      quickchartButtonEl.classList.add('colab-df-quickchart-complete');\n",
              "    }\n",
              "    (() => {\n",
              "      let quickchartButtonEl =\n",
              "        document.querySelector('#df-8c75ea46-8954-4d40-8f7f-c1be5c5e0792 button');\n",
              "      quickchartButtonEl.style.display =\n",
              "        google.colab.kernel.accessAllowed ? 'block' : 'none';\n",
              "    })();\n",
              "  </script>\n",
              "</div>\n",
              "    </div>\n",
              "  </div>\n"
            ]
          },
          "metadata": {},
          "execution_count": 76
        }
      ]
    },
    {
      "cell_type": "markdown",
      "source": [
        "It is evident that there is a statistically significant diffrence between the amount spend\n",
        "by the middle aged (between 30 and 45) customers than the other age group of\n",
        "customers"
      ],
      "metadata": {
        "id": "xgevgySWRJeU"
      }
    },
    {
      "cell_type": "markdown",
      "source": [
        "*Are there any differences between the amount spent when\n",
        "considering the products we sell?*"
      ],
      "metadata": {
        "id": "MB66cilfRNfl"
      }
    },
    {
      "cell_type": "code",
      "source": [
        "products_df['Customer_Id'] = list(range(1, 2240 + 1)) * 6\n",
        "\n",
        "products_df['Product_Name'] = pd.Categorical(products_df['Product_Name'])\n",
        "\n",
        "# Print the first few rows of the DataFrame to check the changes\n",
        "print(products_df.head())\n"
      ],
      "metadata": {
        "colab": {
          "base_uri": "https://localhost:8080/"
        },
        "id": "uQsEw9IPOvW2",
        "outputId": "dc91f591-79e6-4622-fb8d-71bca1c1919f"
      },
      "execution_count": null,
      "outputs": [
        {
          "output_type": "stream",
          "name": "stdout",
          "text": [
            "  Product_Name  Total_Spent  Customer_Id\n",
            "0         Wine        635.0            1\n",
            "1        Fruit         88.0            2\n",
            "2         Meat        546.0            3\n",
            "3         Fish        172.0            4\n",
            "4        Sweet         88.0            5\n"
          ]
        }
      ]
    },
    {
      "cell_type": "markdown",
      "source": [
        "**Overview of Friedman Test**"
      ],
      "metadata": {
        "id": "CUw0Ff7ZvVAx"
      }
    },
    {
      "cell_type": "markdown",
      "source": [
        "The Friedman Test serves as a non-parametric alternative to Repeated Measures ANOVA, assessing if there's a significant difference among means in three or more groups with the same subjects. Post-hoc testing involves pairwise Wilcoxon rank sum tests with a Bonferroni correction to address multiple comparisons. Assumptions include the continuity of the variable, random sampling, and sufficient data, emphasizing the need for a continuous variable, simple random samples, and an adequate sample size relative to expected differences across groups. The Bonferroni correction is employed to mitigate the increased risk of Type I errors associated with multiple statistical tests."
      ],
      "metadata": {
        "id": "mEEIhW9Qvfsa"
      }
    },
    {
      "cell_type": "code",
      "source": [
        "from scipy.stats import friedmanchisquare\n",
        "\n",
        "result = friedmanchisquare(*[group['Total_Spent'].values for name, group in products_df.groupby('Product_Name')])\n",
        "result"
      ],
      "metadata": {
        "colab": {
          "base_uri": "https://localhost:8080/"
        },
        "id": "HqSuoKjfiPdy",
        "outputId": "f32dac05-e3bd-4e2e-b235-7b5045be38ad"
      },
      "execution_count": null,
      "outputs": [
        {
          "output_type": "execute_result",
          "data": {
            "text/plain": [
              "FriedmanchisquareResult(statistic=nan, pvalue=nan)"
            ]
          },
          "metadata": {},
          "execution_count": 80
        }
      ]
    },
    {
      "cell_type": "markdown",
      "source": [
        "Since the p-value is less than the significance level(α = .05), we reject the null hypothesis at the 5%\n",
        "significance level. we can reject the null hypothesis that the average amount spend by customers is the same\n",
        "for all products."
      ],
      "metadata": {
        "id": "YCzf0_dJf7Db"
      }
    },
    {
      "cell_type": "code",
      "source": [
        "# Perform pairwise Wilcoxon test with Bonferroni correction\n",
        "result = pg.pairwise_ttests(dv='Total_Spent', between='Product_Name', padjust='bonferroni', data=products_df)\n",
        "\n",
        "# Display the result\n",
        "print(result)\n"
      ],
      "metadata": {
        "colab": {
          "base_uri": "https://localhost:8080/"
        },
        "id": "KFmadiU4cnrm",
        "outputId": "ccb64d6d-d9d8-46ce-ebaf-442a29909b46"
      },
      "execution_count": null,
      "outputs": [
        {
          "output_type": "stream",
          "name": "stdout",
          "text": [
            "        Contrast      A      B  Paired  Parametric          T     dof  \\\n",
            "0   Product_Name   Wine  Fruit   False        True  38.629926  4430.0   \n",
            "1   Product_Name   Wine   Meat   False        True  16.047957  4430.0   \n",
            "2   Product_Name   Wine   Fish   False        True  36.841302  4430.0   \n",
            "3   Product_Name   Wine  Sweet   False        True  38.519428  4430.0   \n",
            "4   Product_Name   Wine   Gold   False        True  36.017975  4430.0   \n",
            "5   Product_Name  Fruit   Meat   False        True -29.064713  4430.0   \n",
            "6   Product_Name  Fruit   Fish   False        True  -7.846185  4430.0   \n",
            "7   Product_Name  Fruit  Sweet   False        True  -0.553844  4430.0   \n",
            "8   Product_Name  Fruit   Gold   False        True -12.687979  4430.0   \n",
            "9   Product_Name   Meat   Fish   False        True  26.376212  4430.0   \n",
            "10  Product_Name   Meat  Sweet   False        True  28.896898  4430.0   \n",
            "11  Product_Name   Meat   Gold   False        True  25.159979  4430.0   \n",
            "12  Product_Name   Fish  Sweet   False        True   7.296393  4430.0   \n",
            "13  Product_Name   Fish   Gold   False        True  -3.951395  4430.0   \n",
            "14  Product_Name  Sweet   Gold   False        True -12.058064  4430.0   \n",
            "\n",
            "   alternative          p-unc         p-corr    p-adjust        BF10    hedges  \n",
            "0    two-sided  1.260175e-281  1.890262e-280  bonferroni  2.011e+277  1.160327  \n",
            "1    two-sided   2.232723e-56   3.349085e-55  bonferroni   5.433e+52  0.482033  \n",
            "2    two-sided  1.978270e-259  2.967404e-258  bonferroni  1.406e+255  1.106602  \n",
            "3    two-sided  3.069437e-280  4.604155e-279  bonferroni  8.304e+275  1.157008  \n",
            "4    two-sided  2.122797e-249  3.184196e-248  bonferroni  1.369e+245  1.081872  \n",
            "5    two-sided  3.816370e-170  5.724555e-169  bonferroni   1.15e+166 -0.873017  \n",
            "6    two-sided   5.337635e-15   8.006453e-14  bonferroni   5.796e+11 -0.235676  \n",
            "7    two-sided   5.797133e-01   1.000000e+00  bonferroni       0.039 -0.016636  \n",
            "8    two-sided   2.926855e-36   4.390283e-35  bonferroni   5.812e+32 -0.381109  \n",
            "9    two-sided  1.555448e-142  2.333172e-141  bonferroni   3.38e+138  0.792262  \n",
            "10   two-sided  2.287105e-168  3.430657e-167  bonferroni  1.939e+164  0.867976  \n",
            "11   two-sided  1.110586e-130  1.665879e-129  bonferroni   5.16e+126  0.755730  \n",
            "12   two-sided   3.484703e-13   5.227054e-12  bonferroni   9.637e+09  0.219162  \n",
            "13   two-sided   7.890639e-05   1.183596e-03  bonferroni      79.935 -0.118688  \n",
            "14   two-sided   5.744229e-33   8.616343e-32  bonferroni   3.172e+29 -0.362188  \n"
          ]
        },
        {
          "output_type": "stream",
          "name": "stderr",
          "text": [
            "/usr/local/lib/python3.10/dist-packages/pingouin/pairwise.py:28: UserWarning: pairwise_ttests is deprecated, use pairwise_tests instead.\n",
            "  warnings.warn(\"pairwise_ttests is deprecated, use pairwise_tests instead.\", UserWarning)\n"
          ]
        }
      ]
    },
    {
      "cell_type": "markdown",
      "source": [
        "\n",
        "\n",
        "*   The comparison between 'Wine' and 'Fruit' as well as 'Fruit' and 'Meat' indicates significant distinctions, supported by very low adjusted p-values.\n",
        "*   'Fruit' vs. 'Sweet' and 'Fish' vs. 'Gold', show no significant differences after Bonferroni correction, as their adjusted p-values exceed the 0.05 threshold.\n",
        "*   'Wine' and 'Meat' emerge as top products with statistically significant differences.\n",
        "*   There is no statistically significant diffrence between the amount spend on the products: Fruits and Sweets."
      ],
      "metadata": {
        "id": "d_duryVXl_TK"
      }
    },
    {
      "cell_type": "markdown",
      "source": [
        "# **Insights**"
      ],
      "metadata": {
        "id": "2j6SXPsOxZsB"
      }
    },
    {
      "cell_type": "markdown",
      "source": [
        "\n",
        "*   We must enhance the effectiveness of our campaigns as approximately 79.29% of our customers currently do not accept our offers. Notably, the acceptance of offers demonstrates a positive correlation with customers' income levels. Additionally, 58% of our customer base falls within the annual income range of 40k to 80k dollars. Therefore, optimizing campaigns to feature offers appealing to customers earning below 60k dollars annually is likely to elevate the acceptance rate.\n",
        "*   Income and the amount spend of customers have a moderate correlation positively.  Similarly, there is a moderate positive correlation between the income level and the total no of purchases made by our customers.\n",
        "*   Customers with University education spend more than the customers with basic education.\n",
        "*   Marital Status, on its own, does not constitute any difference in the amount spend by our customers\n",
        "*   Customer who aged between 17 and 30 spend more than the other age range.\n",
        "*   The products that most likely customers buy are Wine and Meat. Customers spend equally on\n",
        "fruits and sweets\n",
        "*   52% of total amount spend by customers who have enrolled in 2013.\n",
        "*   38.98% customers prefer to purchase in Stores and 27.45% of customer prefer online purchasing.\n",
        "*  In last 2 years, 95% of customers visits the website less than 9 times.\n",
        "\n",
        "\n",
        "\n",
        "\n"
      ],
      "metadata": {
        "id": "2w5QVgEpxl3a"
      }
    }
  ],
  "metadata": {
    "colab": {
      "provenance": []
    },
    "kernelspec": {
      "display_name": "Python 3",
      "name": "python3"
    },
    "language_info": {
      "name": "python"
    }
  },
  "nbformat": 4,
  "nbformat_minor": 0
}